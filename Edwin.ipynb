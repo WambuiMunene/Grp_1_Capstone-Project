{
 "cells": [
  {
   "cell_type": "code",
   "execution_count": 2,
   "id": "8d2e7fce",
   "metadata": {},
   "outputs": [],
   "source": [
    "import pandas as pd\n",
    "import numpy as np\n",
    "import matplotlib.pyplot as plt\n",
    "import seaborn as sns\n"
   ]
  },
  {
   "cell_type": "code",
   "execution_count": 3,
   "id": "7ac0f15b",
   "metadata": {},
   "outputs": [],
   "source": [
    "p_movies = pd.read_csv('prime_videos.csv')"
   ]
  },
  {
   "cell_type": "code",
   "execution_count": 5,
   "id": "dfa5beb9",
   "metadata": {},
   "outputs": [
    {
     "data": {
      "application/vnd.microsoft.datawrangler.viewer.v0+json": {
       "columns": [
        {
         "name": "index",
         "rawType": "int64",
         "type": "integer"
        },
        {
         "name": "rating",
         "rawType": "int64",
         "type": "integer"
        },
        {
         "name": "title_x",
         "rawType": "object",
         "type": "string"
        },
        {
         "name": "text",
         "rawType": "object",
         "type": "string"
        },
        {
         "name": "asin",
         "rawType": "object",
         "type": "string"
        },
        {
         "name": "parent_asin",
         "rawType": "object",
         "type": "string"
        },
        {
         "name": "timestamp",
         "rawType": "object",
         "type": "string"
        },
        {
         "name": "verified_purchase",
         "rawType": "bool",
         "type": "boolean"
        },
        {
         "name": "main_category",
         "rawType": "object",
         "type": "string"
        },
        {
         "name": "title_y",
         "rawType": "object",
         "type": "unknown"
        },
        {
         "name": "average_rating",
         "rawType": "float64",
         "type": "float"
        },
        {
         "name": "rating_number",
         "rawType": "float64",
         "type": "float"
        },
        {
         "name": "description",
         "rawType": "object",
         "type": "unknown"
        },
        {
         "name": "price",
         "rawType": "float64",
         "type": "float"
        },
        {
         "name": "categories",
         "rawType": "object",
         "type": "unknown"
        }
       ],
       "conversionMethod": "pd.DataFrame",
       "ref": "1dcf05e2-cb74-4850-8030-1cbb7a9439b6",
       "rows": [
        [
         "0",
         "5",
         "Five Stars",
         "Amazon, please buy the show! I'm hooked!",
         "B013488XFS",
         "B013488XFS",
         "2015-08-24 03:07:17.000",
         "True",
         "Prime Video",
         "Sneaky Pete",
         "4.6",
         "56658.0",
         "['A\\xa0con man (Giovanni Ribisi) on the run from a vicious gangster (Bryan Cranston) takes cover from his past by assuming the identity of his prison cellmate, Pete, \"reuniting\" with Pete\\'s estranged family, a colorful, dysfunctional group that threatens to drag him into a world just as dangerous as the one he\\'s trying to escape - and, just maybe, give him a taste of the loving family he\\'s never had.']",
         null,
         "Suspense"
        ],
        [
         "1",
         "5",
         "Five Stars",
         "My Kiddos LOVE this show!!",
         "B00CB6VTDS",
         "B00CB6VTDS",
         "2016-04-19 21:16:50.000",
         "True",
         "Prime Video",
         "Creative Galaxy",
         "4.8",
         "6403.0",
         "['Follow the adventures of Arty and his sidekick Epiphany, as they search the galaxy to solve creative problems with art! Whether Arty needs to create a painting for the new children’s library, a stuffed animal for his sister, or make a mask for his jungle pretend play, Arty and Epiphany come to the rescue by enlisting the help of the most creative of all – the preschool home viewer.']",
         null,
         "Kids"
        ],
        [
         "2",
         "5",
         "What Love Is...",
         "...isn't always how you expect it to be, but when its there, you know. That is what this movie is all about. Deep struggles within a broken home and a mother with an addiction and a best friend whom nobody else seems to understand but him. There's loss, there's triumph. There's a bit of magic with a psychic neighbor who makes quite an impact on the boy. This is one definitely worth your time.",
         "B001H1SVZC",
         "B001H1SVZC",
         "2020-05-28 04:13:47.074",
         "True",
         "Prime Video",
         null,
         "4.5",
         "389.0",
         null,
         null,
         null
        ],
        [
         "3",
         "5",
         "QUIRKY TURNS TO HEARTSTRINGS",
         "As you learn about the very unique characters and the values they hold dear, you notice sweet simple things in them that will make you smile. And then as the movie moves deeper, the poetic script of the movie pulls you even deeper, reminding you of memories you might have forgotten as the best movies do. In simple words this movie inspires very deep emotions and just might motivate you to do that thing you've been procrastinating on for too long. The visual play on light and color throughout this film complements its depth. MUST-SEE!!!",
         "B06WVW16WY",
         "B06WVW16WY",
         "2020-04-16 01:15:47.540",
         "True",
         "Prime Video",
         null,
         "4.8",
         "1966.0",
         null,
         null,
         null
        ],
        [
         "4",
         "5",
         "Way better than the harsh reviews.",
         "Our family loved the film. We have kids and they thought the movie was so fun.  We liked it too. The reviews were harsh. And honestly I don’t think the previews were great. It’s worth watching.",
         "B07RXM26FG",
         "B07RXM26FG",
         "2019-09-29 05:17:12.700",
         "True",
         "Prime Video",
         null,
         "4.5",
         "57962.0",
         null,
         null,
         null
        ]
       ],
       "shape": {
        "columns": 14,
        "rows": 5
       }
      },
      "text/html": [
       "<div>\n",
       "<style scoped>\n",
       "    .dataframe tbody tr th:only-of-type {\n",
       "        vertical-align: middle;\n",
       "    }\n",
       "\n",
       "    .dataframe tbody tr th {\n",
       "        vertical-align: top;\n",
       "    }\n",
       "\n",
       "    .dataframe thead th {\n",
       "        text-align: right;\n",
       "    }\n",
       "</style>\n",
       "<table border=\"1\" class=\"dataframe\">\n",
       "  <thead>\n",
       "    <tr style=\"text-align: right;\">\n",
       "      <th></th>\n",
       "      <th>rating</th>\n",
       "      <th>title_x</th>\n",
       "      <th>text</th>\n",
       "      <th>asin</th>\n",
       "      <th>parent_asin</th>\n",
       "      <th>timestamp</th>\n",
       "      <th>verified_purchase</th>\n",
       "      <th>main_category</th>\n",
       "      <th>title_y</th>\n",
       "      <th>average_rating</th>\n",
       "      <th>rating_number</th>\n",
       "      <th>description</th>\n",
       "      <th>price</th>\n",
       "      <th>categories</th>\n",
       "    </tr>\n",
       "  </thead>\n",
       "  <tbody>\n",
       "    <tr>\n",
       "      <th>0</th>\n",
       "      <td>5</td>\n",
       "      <td>Five Stars</td>\n",
       "      <td>Amazon, please buy the show! I'm hooked!</td>\n",
       "      <td>B013488XFS</td>\n",
       "      <td>B013488XFS</td>\n",
       "      <td>2015-08-24 03:07:17.000</td>\n",
       "      <td>True</td>\n",
       "      <td>Prime Video</td>\n",
       "      <td>Sneaky Pete</td>\n",
       "      <td>4.6</td>\n",
       "      <td>56658.0</td>\n",
       "      <td>['A\\xa0con man (Giovanni Ribisi) on the run fr...</td>\n",
       "      <td>NaN</td>\n",
       "      <td>Suspense</td>\n",
       "    </tr>\n",
       "    <tr>\n",
       "      <th>1</th>\n",
       "      <td>5</td>\n",
       "      <td>Five Stars</td>\n",
       "      <td>My Kiddos LOVE this show!!</td>\n",
       "      <td>B00CB6VTDS</td>\n",
       "      <td>B00CB6VTDS</td>\n",
       "      <td>2016-04-19 21:16:50.000</td>\n",
       "      <td>True</td>\n",
       "      <td>Prime Video</td>\n",
       "      <td>Creative Galaxy</td>\n",
       "      <td>4.8</td>\n",
       "      <td>6403.0</td>\n",
       "      <td>['Follow the adventures of Arty and his sideki...</td>\n",
       "      <td>NaN</td>\n",
       "      <td>Kids</td>\n",
       "    </tr>\n",
       "    <tr>\n",
       "      <th>2</th>\n",
       "      <td>5</td>\n",
       "      <td>What Love Is...</td>\n",
       "      <td>...isn't always how you expect it to be, but w...</td>\n",
       "      <td>B001H1SVZC</td>\n",
       "      <td>B001H1SVZC</td>\n",
       "      <td>2020-05-28 04:13:47.074</td>\n",
       "      <td>True</td>\n",
       "      <td>Prime Video</td>\n",
       "      <td>NaN</td>\n",
       "      <td>4.5</td>\n",
       "      <td>389.0</td>\n",
       "      <td>NaN</td>\n",
       "      <td>NaN</td>\n",
       "      <td>NaN</td>\n",
       "    </tr>\n",
       "    <tr>\n",
       "      <th>3</th>\n",
       "      <td>5</td>\n",
       "      <td>QUIRKY TURNS TO HEARTSTRINGS</td>\n",
       "      <td>As you learn about the very unique characters ...</td>\n",
       "      <td>B06WVW16WY</td>\n",
       "      <td>B06WVW16WY</td>\n",
       "      <td>2020-04-16 01:15:47.540</td>\n",
       "      <td>True</td>\n",
       "      <td>Prime Video</td>\n",
       "      <td>NaN</td>\n",
       "      <td>4.8</td>\n",
       "      <td>1966.0</td>\n",
       "      <td>NaN</td>\n",
       "      <td>NaN</td>\n",
       "      <td>NaN</td>\n",
       "    </tr>\n",
       "    <tr>\n",
       "      <th>4</th>\n",
       "      <td>5</td>\n",
       "      <td>Way better than the harsh reviews.</td>\n",
       "      <td>Our family loved the film. We have kids and th...</td>\n",
       "      <td>B07RXM26FG</td>\n",
       "      <td>B07RXM26FG</td>\n",
       "      <td>2019-09-29 05:17:12.700</td>\n",
       "      <td>True</td>\n",
       "      <td>Prime Video</td>\n",
       "      <td>NaN</td>\n",
       "      <td>4.5</td>\n",
       "      <td>57962.0</td>\n",
       "      <td>NaN</td>\n",
       "      <td>NaN</td>\n",
       "      <td>NaN</td>\n",
       "    </tr>\n",
       "  </tbody>\n",
       "</table>\n",
       "</div>"
      ],
      "text/plain": [
       "   rating                             title_x  \\\n",
       "0       5                          Five Stars   \n",
       "1       5                          Five Stars   \n",
       "2       5                     What Love Is...   \n",
       "3       5        QUIRKY TURNS TO HEARTSTRINGS   \n",
       "4       5  Way better than the harsh reviews.   \n",
       "\n",
       "                                                text        asin parent_asin  \\\n",
       "0           Amazon, please buy the show! I'm hooked!  B013488XFS  B013488XFS   \n",
       "1                         My Kiddos LOVE this show!!  B00CB6VTDS  B00CB6VTDS   \n",
       "2  ...isn't always how you expect it to be, but w...  B001H1SVZC  B001H1SVZC   \n",
       "3  As you learn about the very unique characters ...  B06WVW16WY  B06WVW16WY   \n",
       "4  Our family loved the film. We have kids and th...  B07RXM26FG  B07RXM26FG   \n",
       "\n",
       "                 timestamp  verified_purchase main_category          title_y  \\\n",
       "0  2015-08-24 03:07:17.000               True   Prime Video      Sneaky Pete   \n",
       "1  2016-04-19 21:16:50.000               True   Prime Video  Creative Galaxy   \n",
       "2  2020-05-28 04:13:47.074               True   Prime Video              NaN   \n",
       "3  2020-04-16 01:15:47.540               True   Prime Video              NaN   \n",
       "4  2019-09-29 05:17:12.700               True   Prime Video              NaN   \n",
       "\n",
       "   average_rating  rating_number  \\\n",
       "0             4.6        56658.0   \n",
       "1             4.8         6403.0   \n",
       "2             4.5          389.0   \n",
       "3             4.8         1966.0   \n",
       "4             4.5        57962.0   \n",
       "\n",
       "                                         description  price categories  \n",
       "0  ['A\\xa0con man (Giovanni Ribisi) on the run fr...    NaN   Suspense  \n",
       "1  ['Follow the adventures of Arty and his sideki...    NaN       Kids  \n",
       "2                                                NaN    NaN        NaN  \n",
       "3                                                NaN    NaN        NaN  \n",
       "4                                                NaN    NaN        NaN  "
      ]
     },
     "execution_count": 5,
     "metadata": {},
     "output_type": "execute_result"
    }
   ],
   "source": [
    "p_movies.head()"
   ]
  },
  {
   "cell_type": "code",
   "execution_count": 6,
   "id": "5066efd0",
   "metadata": {},
   "outputs": [
    {
     "name": "stdout",
     "output_type": "stream",
     "text": [
      "<class 'pandas.core.frame.DataFrame'>\n",
      "RangeIndex: 233610 entries, 0 to 233609\n",
      "Data columns (total 14 columns):\n",
      " #   Column             Non-Null Count   Dtype  \n",
      "---  ------             --------------   -----  \n",
      " 0   rating             233610 non-null  int64  \n",
      " 1   title_x            233586 non-null  object \n",
      " 2   text               233579 non-null  object \n",
      " 3   asin               233610 non-null  object \n",
      " 4   parent_asin        233610 non-null  object \n",
      " 5   timestamp          233610 non-null  object \n",
      " 6   verified_purchase  233610 non-null  bool   \n",
      " 7   main_category      233610 non-null  object \n",
      " 8   title_y            33800 non-null   object \n",
      " 9   average_rating     233607 non-null  float64\n",
      " 10  rating_number      233607 non-null  float64\n",
      " 11  description        33800 non-null   object \n",
      " 12  price              24165 non-null   float64\n",
      " 13  categories         33800 non-null   object \n",
      "dtypes: bool(1), float64(3), int64(1), object(9)\n",
      "memory usage: 23.4+ MB\n"
     ]
    }
   ],
   "source": [
    "p_movies.info()"
   ]
  },
  {
   "cell_type": "code",
   "execution_count": 7,
   "id": "983c2650",
   "metadata": {},
   "outputs": [
    {
     "data": {
      "application/vnd.microsoft.datawrangler.viewer.v0+json": {
       "columns": [
        {
         "name": "index",
         "rawType": "object",
         "type": "string"
        },
        {
         "name": "rating",
         "rawType": "float64",
         "type": "float"
        },
        {
         "name": "average_rating",
         "rawType": "float64",
         "type": "float"
        },
        {
         "name": "rating_number",
         "rawType": "float64",
         "type": "float"
        },
        {
         "name": "price",
         "rawType": "float64",
         "type": "float"
        }
       ],
       "conversionMethod": "pd.DataFrame",
       "ref": "5bf1fcc6-13ee-44c4-af9c-169b18d265d1",
       "rows": [
        [
         "count",
         "233610.0",
         "233607.0",
         "233607.0",
         "24165.0"
        ],
        [
         "mean",
         "4.110110868541587",
         "4.437981738560916",
         "13781.706194591772",
         "14.5700608317815"
        ],
        [
         "std",
         "1.2871328904219395",
         "0.4554241736276284",
         "22317.671490978842",
         "7.190881911759126"
        ],
        [
         "min",
         "1.0",
         "1.0",
         "2.0",
         "0.0"
        ],
        [
         "25%",
         "4.0",
         "4.3",
         "752.0",
         "9.99"
        ],
        [
         "50%",
         "5.0",
         "4.6",
         "4375.0",
         "14.69"
        ],
        [
         "75%",
         "5.0",
         "4.7",
         "18000.0",
         "16.79"
        ],
        [
         "max",
         "5.0",
         "5.0",
         "241924.0",
         "124.99"
        ]
       ],
       "shape": {
        "columns": 4,
        "rows": 8
       }
      },
      "text/html": [
       "<div>\n",
       "<style scoped>\n",
       "    .dataframe tbody tr th:only-of-type {\n",
       "        vertical-align: middle;\n",
       "    }\n",
       "\n",
       "    .dataframe tbody tr th {\n",
       "        vertical-align: top;\n",
       "    }\n",
       "\n",
       "    .dataframe thead th {\n",
       "        text-align: right;\n",
       "    }\n",
       "</style>\n",
       "<table border=\"1\" class=\"dataframe\">\n",
       "  <thead>\n",
       "    <tr style=\"text-align: right;\">\n",
       "      <th></th>\n",
       "      <th>rating</th>\n",
       "      <th>average_rating</th>\n",
       "      <th>rating_number</th>\n",
       "      <th>price</th>\n",
       "    </tr>\n",
       "  </thead>\n",
       "  <tbody>\n",
       "    <tr>\n",
       "      <th>count</th>\n",
       "      <td>233610.000000</td>\n",
       "      <td>233607.000000</td>\n",
       "      <td>233607.000000</td>\n",
       "      <td>24165.000000</td>\n",
       "    </tr>\n",
       "    <tr>\n",
       "      <th>mean</th>\n",
       "      <td>4.110111</td>\n",
       "      <td>4.437982</td>\n",
       "      <td>13781.706195</td>\n",
       "      <td>14.570061</td>\n",
       "    </tr>\n",
       "    <tr>\n",
       "      <th>std</th>\n",
       "      <td>1.287133</td>\n",
       "      <td>0.455424</td>\n",
       "      <td>22317.671491</td>\n",
       "      <td>7.190882</td>\n",
       "    </tr>\n",
       "    <tr>\n",
       "      <th>min</th>\n",
       "      <td>1.000000</td>\n",
       "      <td>1.000000</td>\n",
       "      <td>2.000000</td>\n",
       "      <td>0.000000</td>\n",
       "    </tr>\n",
       "    <tr>\n",
       "      <th>25%</th>\n",
       "      <td>4.000000</td>\n",
       "      <td>4.300000</td>\n",
       "      <td>752.000000</td>\n",
       "      <td>9.990000</td>\n",
       "    </tr>\n",
       "    <tr>\n",
       "      <th>50%</th>\n",
       "      <td>5.000000</td>\n",
       "      <td>4.600000</td>\n",
       "      <td>4375.000000</td>\n",
       "      <td>14.690000</td>\n",
       "    </tr>\n",
       "    <tr>\n",
       "      <th>75%</th>\n",
       "      <td>5.000000</td>\n",
       "      <td>4.700000</td>\n",
       "      <td>18000.000000</td>\n",
       "      <td>16.790000</td>\n",
       "    </tr>\n",
       "    <tr>\n",
       "      <th>max</th>\n",
       "      <td>5.000000</td>\n",
       "      <td>5.000000</td>\n",
       "      <td>241924.000000</td>\n",
       "      <td>124.990000</td>\n",
       "    </tr>\n",
       "  </tbody>\n",
       "</table>\n",
       "</div>"
      ],
      "text/plain": [
       "              rating  average_rating  rating_number         price\n",
       "count  233610.000000   233607.000000  233607.000000  24165.000000\n",
       "mean        4.110111        4.437982   13781.706195     14.570061\n",
       "std         1.287133        0.455424   22317.671491      7.190882\n",
       "min         1.000000        1.000000       2.000000      0.000000\n",
       "25%         4.000000        4.300000     752.000000      9.990000\n",
       "50%         5.000000        4.600000    4375.000000     14.690000\n",
       "75%         5.000000        4.700000   18000.000000     16.790000\n",
       "max         5.000000        5.000000  241924.000000    124.990000"
      ]
     },
     "execution_count": 7,
     "metadata": {},
     "output_type": "execute_result"
    }
   ],
   "source": [
    "p_movies.describe()"
   ]
  },
  {
   "cell_type": "code",
   "execution_count": 8,
   "id": "c60690f4",
   "metadata": {},
   "outputs": [
    {
     "data": {
      "text/plain": [
       "(233610, 14)"
      ]
     },
     "execution_count": 8,
     "metadata": {},
     "output_type": "execute_result"
    }
   ],
   "source": [
    "p_movies.shape"
   ]
  },
  {
   "cell_type": "code",
   "execution_count": 9,
   "id": "ec410153",
   "metadata": {},
   "outputs": [
    {
     "data": {
      "text/plain": [
       "rating                    0\n",
       "title_x                  24\n",
       "text                     31\n",
       "asin                      0\n",
       "parent_asin               0\n",
       "timestamp                 0\n",
       "verified_purchase         0\n",
       "main_category             0\n",
       "title_y              199810\n",
       "average_rating            3\n",
       "rating_number             3\n",
       "description          199810\n",
       "price                209445\n",
       "categories           199810\n",
       "dtype: int64"
      ]
     },
     "execution_count": 9,
     "metadata": {},
     "output_type": "execute_result"
    }
   ],
   "source": [
    "p_movies.isnull().sum()"
   ]
  },
  {
   "cell_type": "code",
   "execution_count": 10,
   "id": "71b61203",
   "metadata": {},
   "outputs": [
    {
     "data": {
      "text/plain": [
       "Index(['rating', 'title_x', 'text', 'asin', 'parent_asin', 'timestamp',\n",
       "       'verified_purchase', 'main_category', 'title_y', 'average_rating',\n",
       "       'rating_number', 'description', 'price', 'categories'],\n",
       "      dtype='object')"
      ]
     },
     "execution_count": 10,
     "metadata": {},
     "output_type": "execute_result"
    }
   ],
   "source": [
    "p_movies.columns"
   ]
  },
  {
   "cell_type": "code",
   "execution_count": 11,
   "id": "b1071d92",
   "metadata": {},
   "outputs": [
    {
     "data": {
      "application/vnd.microsoft.datawrangler.viewer.v0+json": {
       "columns": [
        {
         "name": "index",
         "rawType": "object",
         "type": "string"
        },
        {
         "name": "rating",
         "rawType": "float64",
         "type": "float"
        },
        {
         "name": "average_rating",
         "rawType": "float64",
         "type": "float"
        },
        {
         "name": "rating_number",
         "rawType": "float64",
         "type": "float"
        },
        {
         "name": "price",
         "rawType": "float64",
         "type": "float"
        }
       ],
       "conversionMethod": "pd.DataFrame",
       "ref": "4fe2770c-c1aa-40f3-bff9-297cb3d97bfc",
       "rows": [
        [
         "count",
         "233610.0",
         "233607.0",
         "233607.0",
         "24165.0"
        ],
        [
         "mean",
         "4.110110868541587",
         "4.437981738560916",
         "13781.706194591772",
         "14.5700608317815"
        ],
        [
         "std",
         "1.2871328904219395",
         "0.4554241736276284",
         "22317.671490978842",
         "7.190881911759126"
        ],
        [
         "min",
         "1.0",
         "1.0",
         "2.0",
         "0.0"
        ],
        [
         "25%",
         "4.0",
         "4.3",
         "752.0",
         "9.99"
        ],
        [
         "50%",
         "5.0",
         "4.6",
         "4375.0",
         "14.69"
        ],
        [
         "75%",
         "5.0",
         "4.7",
         "18000.0",
         "16.79"
        ],
        [
         "max",
         "5.0",
         "5.0",
         "241924.0",
         "124.99"
        ]
       ],
       "shape": {
        "columns": 4,
        "rows": 8
       }
      },
      "text/html": [
       "<div>\n",
       "<style scoped>\n",
       "    .dataframe tbody tr th:only-of-type {\n",
       "        vertical-align: middle;\n",
       "    }\n",
       "\n",
       "    .dataframe tbody tr th {\n",
       "        vertical-align: top;\n",
       "    }\n",
       "\n",
       "    .dataframe thead th {\n",
       "        text-align: right;\n",
       "    }\n",
       "</style>\n",
       "<table border=\"1\" class=\"dataframe\">\n",
       "  <thead>\n",
       "    <tr style=\"text-align: right;\">\n",
       "      <th></th>\n",
       "      <th>rating</th>\n",
       "      <th>average_rating</th>\n",
       "      <th>rating_number</th>\n",
       "      <th>price</th>\n",
       "    </tr>\n",
       "  </thead>\n",
       "  <tbody>\n",
       "    <tr>\n",
       "      <th>count</th>\n",
       "      <td>233610.000000</td>\n",
       "      <td>233607.000000</td>\n",
       "      <td>233607.000000</td>\n",
       "      <td>24165.000000</td>\n",
       "    </tr>\n",
       "    <tr>\n",
       "      <th>mean</th>\n",
       "      <td>4.110111</td>\n",
       "      <td>4.437982</td>\n",
       "      <td>13781.706195</td>\n",
       "      <td>14.570061</td>\n",
       "    </tr>\n",
       "    <tr>\n",
       "      <th>std</th>\n",
       "      <td>1.287133</td>\n",
       "      <td>0.455424</td>\n",
       "      <td>22317.671491</td>\n",
       "      <td>7.190882</td>\n",
       "    </tr>\n",
       "    <tr>\n",
       "      <th>min</th>\n",
       "      <td>1.000000</td>\n",
       "      <td>1.000000</td>\n",
       "      <td>2.000000</td>\n",
       "      <td>0.000000</td>\n",
       "    </tr>\n",
       "    <tr>\n",
       "      <th>25%</th>\n",
       "      <td>4.000000</td>\n",
       "      <td>4.300000</td>\n",
       "      <td>752.000000</td>\n",
       "      <td>9.990000</td>\n",
       "    </tr>\n",
       "    <tr>\n",
       "      <th>50%</th>\n",
       "      <td>5.000000</td>\n",
       "      <td>4.600000</td>\n",
       "      <td>4375.000000</td>\n",
       "      <td>14.690000</td>\n",
       "    </tr>\n",
       "    <tr>\n",
       "      <th>75%</th>\n",
       "      <td>5.000000</td>\n",
       "      <td>4.700000</td>\n",
       "      <td>18000.000000</td>\n",
       "      <td>16.790000</td>\n",
       "    </tr>\n",
       "    <tr>\n",
       "      <th>max</th>\n",
       "      <td>5.000000</td>\n",
       "      <td>5.000000</td>\n",
       "      <td>241924.000000</td>\n",
       "      <td>124.990000</td>\n",
       "    </tr>\n",
       "  </tbody>\n",
       "</table>\n",
       "</div>"
      ],
      "text/plain": [
       "              rating  average_rating  rating_number         price\n",
       "count  233610.000000   233607.000000  233607.000000  24165.000000\n",
       "mean        4.110111        4.437982   13781.706195     14.570061\n",
       "std         1.287133        0.455424   22317.671491      7.190882\n",
       "min         1.000000        1.000000       2.000000      0.000000\n",
       "25%         4.000000        4.300000     752.000000      9.990000\n",
       "50%         5.000000        4.600000    4375.000000     14.690000\n",
       "75%         5.000000        4.700000   18000.000000     16.790000\n",
       "max         5.000000        5.000000  241924.000000    124.990000"
      ]
     },
     "execution_count": 11,
     "metadata": {},
     "output_type": "execute_result"
    }
   ],
   "source": [
    "p_movies.describe()"
   ]
  },
  {
   "cell_type": "code",
   "execution_count": 12,
   "id": "45555ab4",
   "metadata": {},
   "outputs": [
    {
     "data": {
      "application/vnd.microsoft.datawrangler.viewer.v0+json": {
       "columns": [
        {
         "name": "index",
         "rawType": "object",
         "type": "string"
        },
        {
         "name": "rating",
         "rawType": "float64",
         "type": "float"
        },
        {
         "name": "title_x",
         "rawType": "object",
         "type": "unknown"
        },
        {
         "name": "text",
         "rawType": "object",
         "type": "unknown"
        },
        {
         "name": "asin",
         "rawType": "object",
         "type": "unknown"
        },
        {
         "name": "parent_asin",
         "rawType": "object",
         "type": "unknown"
        },
        {
         "name": "timestamp",
         "rawType": "object",
         "type": "unknown"
        },
        {
         "name": "verified_purchase",
         "rawType": "object",
         "type": "unknown"
        },
        {
         "name": "main_category",
         "rawType": "object",
         "type": "unknown"
        },
        {
         "name": "title_y",
         "rawType": "object",
         "type": "unknown"
        },
        {
         "name": "average_rating",
         "rawType": "float64",
         "type": "float"
        },
        {
         "name": "rating_number",
         "rawType": "float64",
         "type": "float"
        },
        {
         "name": "description",
         "rawType": "object",
         "type": "unknown"
        },
        {
         "name": "price",
         "rawType": "float64",
         "type": "float"
        },
        {
         "name": "categories",
         "rawType": "object",
         "type": "unknown"
        }
       ],
       "conversionMethod": "pd.DataFrame",
       "ref": "970a1218-da1f-4c20-9037-419dbfabb6c6",
       "rows": [
        [
         "count",
         "233610.0",
         "233586",
         "233579",
         "233610",
         "233610",
         "233610",
         "233610",
         "233610",
         "33800",
         "233607.0",
         "233607.0",
         "33800",
         "24165.0",
         "33800"
        ],
        [
         "unique",
         null,
         "128590",
         "203164",
         "60212",
         "60212",
         "232499",
         "2",
         "1",
         "7847",
         null,
         null,
         "8367",
         null,
         "29"
        ],
        [
         "top",
         null,
         "Five Stars",
         "Great movie",
         "B01LWY8995",
         "B01LWY8995",
         "2017-02-09 18:30:32.000",
         "True",
         "Prime Video",
         "Sneaky Pete",
         null,
         null,
         "['Blake Lively and Harrison Ford star in this stirring romantic drama about a 29-year-old woman who has stopped aging - and the timeless power of love.']",
         null,
         "Suspense"
        ],
        [
         "freq",
         null,
         "31814",
         "1109",
         "4151",
         "4151",
         "4",
         "187043",
         "233610",
         "381",
         null,
         null,
         "379",
         null,
         "7518"
        ],
        [
         "mean",
         "4.110110868541587",
         null,
         null,
         null,
         null,
         null,
         null,
         null,
         null,
         "4.437981738560916",
         "13781.706194591772",
         null,
         "14.5700608317815",
         null
        ],
        [
         "std",
         "1.2871328904219395",
         null,
         null,
         null,
         null,
         null,
         null,
         null,
         null,
         "0.4554241736276284",
         "22317.671490978842",
         null,
         "7.190881911759126",
         null
        ],
        [
         "min",
         "1.0",
         null,
         null,
         null,
         null,
         null,
         null,
         null,
         null,
         "1.0",
         "2.0",
         null,
         "0.0",
         null
        ],
        [
         "25%",
         "4.0",
         null,
         null,
         null,
         null,
         null,
         null,
         null,
         null,
         "4.3",
         "752.0",
         null,
         "9.99",
         null
        ],
        [
         "50%",
         "5.0",
         null,
         null,
         null,
         null,
         null,
         null,
         null,
         null,
         "4.6",
         "4375.0",
         null,
         "14.69",
         null
        ],
        [
         "75%",
         "5.0",
         null,
         null,
         null,
         null,
         null,
         null,
         null,
         null,
         "4.7",
         "18000.0",
         null,
         "16.79",
         null
        ],
        [
         "max",
         "5.0",
         null,
         null,
         null,
         null,
         null,
         null,
         null,
         null,
         "5.0",
         "241924.0",
         null,
         "124.99",
         null
        ]
       ],
       "shape": {
        "columns": 14,
        "rows": 11
       }
      },
      "text/html": [
       "<div>\n",
       "<style scoped>\n",
       "    .dataframe tbody tr th:only-of-type {\n",
       "        vertical-align: middle;\n",
       "    }\n",
       "\n",
       "    .dataframe tbody tr th {\n",
       "        vertical-align: top;\n",
       "    }\n",
       "\n",
       "    .dataframe thead th {\n",
       "        text-align: right;\n",
       "    }\n",
       "</style>\n",
       "<table border=\"1\" class=\"dataframe\">\n",
       "  <thead>\n",
       "    <tr style=\"text-align: right;\">\n",
       "      <th></th>\n",
       "      <th>rating</th>\n",
       "      <th>title_x</th>\n",
       "      <th>text</th>\n",
       "      <th>asin</th>\n",
       "      <th>parent_asin</th>\n",
       "      <th>timestamp</th>\n",
       "      <th>verified_purchase</th>\n",
       "      <th>main_category</th>\n",
       "      <th>title_y</th>\n",
       "      <th>average_rating</th>\n",
       "      <th>rating_number</th>\n",
       "      <th>description</th>\n",
       "      <th>price</th>\n",
       "      <th>categories</th>\n",
       "    </tr>\n",
       "  </thead>\n",
       "  <tbody>\n",
       "    <tr>\n",
       "      <th>count</th>\n",
       "      <td>233610.000000</td>\n",
       "      <td>233586</td>\n",
       "      <td>233579</td>\n",
       "      <td>233610</td>\n",
       "      <td>233610</td>\n",
       "      <td>233610</td>\n",
       "      <td>233610</td>\n",
       "      <td>233610</td>\n",
       "      <td>33800</td>\n",
       "      <td>233607.000000</td>\n",
       "      <td>233607.000000</td>\n",
       "      <td>33800</td>\n",
       "      <td>24165.000000</td>\n",
       "      <td>33800</td>\n",
       "    </tr>\n",
       "    <tr>\n",
       "      <th>unique</th>\n",
       "      <td>NaN</td>\n",
       "      <td>128590</td>\n",
       "      <td>203164</td>\n",
       "      <td>60212</td>\n",
       "      <td>60212</td>\n",
       "      <td>232499</td>\n",
       "      <td>2</td>\n",
       "      <td>1</td>\n",
       "      <td>7847</td>\n",
       "      <td>NaN</td>\n",
       "      <td>NaN</td>\n",
       "      <td>8367</td>\n",
       "      <td>NaN</td>\n",
       "      <td>29</td>\n",
       "    </tr>\n",
       "    <tr>\n",
       "      <th>top</th>\n",
       "      <td>NaN</td>\n",
       "      <td>Five Stars</td>\n",
       "      <td>Great movie</td>\n",
       "      <td>B01LWY8995</td>\n",
       "      <td>B01LWY8995</td>\n",
       "      <td>2017-02-09 18:30:32.000</td>\n",
       "      <td>True</td>\n",
       "      <td>Prime Video</td>\n",
       "      <td>Sneaky Pete</td>\n",
       "      <td>NaN</td>\n",
       "      <td>NaN</td>\n",
       "      <td>['Blake Lively and Harrison Ford star in this ...</td>\n",
       "      <td>NaN</td>\n",
       "      <td>Suspense</td>\n",
       "    </tr>\n",
       "    <tr>\n",
       "      <th>freq</th>\n",
       "      <td>NaN</td>\n",
       "      <td>31814</td>\n",
       "      <td>1109</td>\n",
       "      <td>4151</td>\n",
       "      <td>4151</td>\n",
       "      <td>4</td>\n",
       "      <td>187043</td>\n",
       "      <td>233610</td>\n",
       "      <td>381</td>\n",
       "      <td>NaN</td>\n",
       "      <td>NaN</td>\n",
       "      <td>379</td>\n",
       "      <td>NaN</td>\n",
       "      <td>7518</td>\n",
       "    </tr>\n",
       "    <tr>\n",
       "      <th>mean</th>\n",
       "      <td>4.110111</td>\n",
       "      <td>NaN</td>\n",
       "      <td>NaN</td>\n",
       "      <td>NaN</td>\n",
       "      <td>NaN</td>\n",
       "      <td>NaN</td>\n",
       "      <td>NaN</td>\n",
       "      <td>NaN</td>\n",
       "      <td>NaN</td>\n",
       "      <td>4.437982</td>\n",
       "      <td>13781.706195</td>\n",
       "      <td>NaN</td>\n",
       "      <td>14.570061</td>\n",
       "      <td>NaN</td>\n",
       "    </tr>\n",
       "    <tr>\n",
       "      <th>std</th>\n",
       "      <td>1.287133</td>\n",
       "      <td>NaN</td>\n",
       "      <td>NaN</td>\n",
       "      <td>NaN</td>\n",
       "      <td>NaN</td>\n",
       "      <td>NaN</td>\n",
       "      <td>NaN</td>\n",
       "      <td>NaN</td>\n",
       "      <td>NaN</td>\n",
       "      <td>0.455424</td>\n",
       "      <td>22317.671491</td>\n",
       "      <td>NaN</td>\n",
       "      <td>7.190882</td>\n",
       "      <td>NaN</td>\n",
       "    </tr>\n",
       "    <tr>\n",
       "      <th>min</th>\n",
       "      <td>1.000000</td>\n",
       "      <td>NaN</td>\n",
       "      <td>NaN</td>\n",
       "      <td>NaN</td>\n",
       "      <td>NaN</td>\n",
       "      <td>NaN</td>\n",
       "      <td>NaN</td>\n",
       "      <td>NaN</td>\n",
       "      <td>NaN</td>\n",
       "      <td>1.000000</td>\n",
       "      <td>2.000000</td>\n",
       "      <td>NaN</td>\n",
       "      <td>0.000000</td>\n",
       "      <td>NaN</td>\n",
       "    </tr>\n",
       "    <tr>\n",
       "      <th>25%</th>\n",
       "      <td>4.000000</td>\n",
       "      <td>NaN</td>\n",
       "      <td>NaN</td>\n",
       "      <td>NaN</td>\n",
       "      <td>NaN</td>\n",
       "      <td>NaN</td>\n",
       "      <td>NaN</td>\n",
       "      <td>NaN</td>\n",
       "      <td>NaN</td>\n",
       "      <td>4.300000</td>\n",
       "      <td>752.000000</td>\n",
       "      <td>NaN</td>\n",
       "      <td>9.990000</td>\n",
       "      <td>NaN</td>\n",
       "    </tr>\n",
       "    <tr>\n",
       "      <th>50%</th>\n",
       "      <td>5.000000</td>\n",
       "      <td>NaN</td>\n",
       "      <td>NaN</td>\n",
       "      <td>NaN</td>\n",
       "      <td>NaN</td>\n",
       "      <td>NaN</td>\n",
       "      <td>NaN</td>\n",
       "      <td>NaN</td>\n",
       "      <td>NaN</td>\n",
       "      <td>4.600000</td>\n",
       "      <td>4375.000000</td>\n",
       "      <td>NaN</td>\n",
       "      <td>14.690000</td>\n",
       "      <td>NaN</td>\n",
       "    </tr>\n",
       "    <tr>\n",
       "      <th>75%</th>\n",
       "      <td>5.000000</td>\n",
       "      <td>NaN</td>\n",
       "      <td>NaN</td>\n",
       "      <td>NaN</td>\n",
       "      <td>NaN</td>\n",
       "      <td>NaN</td>\n",
       "      <td>NaN</td>\n",
       "      <td>NaN</td>\n",
       "      <td>NaN</td>\n",
       "      <td>4.700000</td>\n",
       "      <td>18000.000000</td>\n",
       "      <td>NaN</td>\n",
       "      <td>16.790000</td>\n",
       "      <td>NaN</td>\n",
       "    </tr>\n",
       "    <tr>\n",
       "      <th>max</th>\n",
       "      <td>5.000000</td>\n",
       "      <td>NaN</td>\n",
       "      <td>NaN</td>\n",
       "      <td>NaN</td>\n",
       "      <td>NaN</td>\n",
       "      <td>NaN</td>\n",
       "      <td>NaN</td>\n",
       "      <td>NaN</td>\n",
       "      <td>NaN</td>\n",
       "      <td>5.000000</td>\n",
       "      <td>241924.000000</td>\n",
       "      <td>NaN</td>\n",
       "      <td>124.990000</td>\n",
       "      <td>NaN</td>\n",
       "    </tr>\n",
       "  </tbody>\n",
       "</table>\n",
       "</div>"
      ],
      "text/plain": [
       "               rating     title_x         text        asin parent_asin  \\\n",
       "count   233610.000000      233586       233579      233610      233610   \n",
       "unique            NaN      128590       203164       60212       60212   \n",
       "top               NaN  Five Stars  Great movie  B01LWY8995  B01LWY8995   \n",
       "freq              NaN       31814         1109        4151        4151   \n",
       "mean         4.110111         NaN          NaN         NaN         NaN   \n",
       "std          1.287133         NaN          NaN         NaN         NaN   \n",
       "min          1.000000         NaN          NaN         NaN         NaN   \n",
       "25%          4.000000         NaN          NaN         NaN         NaN   \n",
       "50%          5.000000         NaN          NaN         NaN         NaN   \n",
       "75%          5.000000         NaN          NaN         NaN         NaN   \n",
       "max          5.000000         NaN          NaN         NaN         NaN   \n",
       "\n",
       "                      timestamp verified_purchase main_category      title_y  \\\n",
       "count                    233610            233610        233610        33800   \n",
       "unique                   232499                 2             1         7847   \n",
       "top     2017-02-09 18:30:32.000              True   Prime Video  Sneaky Pete   \n",
       "freq                          4            187043        233610          381   \n",
       "mean                        NaN               NaN           NaN          NaN   \n",
       "std                         NaN               NaN           NaN          NaN   \n",
       "min                         NaN               NaN           NaN          NaN   \n",
       "25%                         NaN               NaN           NaN          NaN   \n",
       "50%                         NaN               NaN           NaN          NaN   \n",
       "75%                         NaN               NaN           NaN          NaN   \n",
       "max                         NaN               NaN           NaN          NaN   \n",
       "\n",
       "        average_rating  rating_number  \\\n",
       "count    233607.000000  233607.000000   \n",
       "unique             NaN            NaN   \n",
       "top                NaN            NaN   \n",
       "freq               NaN            NaN   \n",
       "mean          4.437982   13781.706195   \n",
       "std           0.455424   22317.671491   \n",
       "min           1.000000       2.000000   \n",
       "25%           4.300000     752.000000   \n",
       "50%           4.600000    4375.000000   \n",
       "75%           4.700000   18000.000000   \n",
       "max           5.000000  241924.000000   \n",
       "\n",
       "                                              description         price  \\\n",
       "count                                               33800  24165.000000   \n",
       "unique                                               8367           NaN   \n",
       "top     ['Blake Lively and Harrison Ford star in this ...           NaN   \n",
       "freq                                                  379           NaN   \n",
       "mean                                                  NaN     14.570061   \n",
       "std                                                   NaN      7.190882   \n",
       "min                                                   NaN      0.000000   \n",
       "25%                                                   NaN      9.990000   \n",
       "50%                                                   NaN     14.690000   \n",
       "75%                                                   NaN     16.790000   \n",
       "max                                                   NaN    124.990000   \n",
       "\n",
       "       categories  \n",
       "count       33800  \n",
       "unique         29  \n",
       "top      Suspense  \n",
       "freq         7518  \n",
       "mean          NaN  \n",
       "std           NaN  \n",
       "min           NaN  \n",
       "25%           NaN  \n",
       "50%           NaN  \n",
       "75%           NaN  \n",
       "max           NaN  "
      ]
     },
     "execution_count": 12,
     "metadata": {},
     "output_type": "execute_result"
    }
   ],
   "source": [
    "p_movies.describe(include='all')"
   ]
  },
  {
   "cell_type": "code",
   "execution_count": 13,
   "id": "ae2afa92",
   "metadata": {},
   "outputs": [
    {
     "data": {
      "text/plain": [
       "rating                    5\n",
       "title_x              128590\n",
       "text                 203164\n",
       "asin                  60212\n",
       "parent_asin           60212\n",
       "timestamp            232499\n",
       "verified_purchase         2\n",
       "main_category             1\n",
       "title_y                7847\n",
       "average_rating           40\n",
       "rating_number         11383\n",
       "description            8367\n",
       "price                   217\n",
       "categories               29\n",
       "dtype: int64"
      ]
     },
     "execution_count": 13,
     "metadata": {},
     "output_type": "execute_result"
    }
   ],
   "source": [
    "p_movies.nunique()"
   ]
  },
  {
   "cell_type": "code",
   "execution_count": 14,
   "id": "f12aa291",
   "metadata": {},
   "outputs": [
    {
     "data": {
      "application/vnd.microsoft.datawrangler.viewer.v0+json": {
       "columns": [
        {
         "name": "index",
         "rawType": "int64",
         "type": "integer"
        },
        {
         "name": "rating",
         "rawType": "int64",
         "type": "integer"
        },
        {
         "name": "title_x",
         "rawType": "object",
         "type": "string"
        },
        {
         "name": "text",
         "rawType": "object",
         "type": "string"
        },
        {
         "name": "asin",
         "rawType": "object",
         "type": "string"
        },
        {
         "name": "parent_asin",
         "rawType": "object",
         "type": "string"
        },
        {
         "name": "timestamp",
         "rawType": "object",
         "type": "string"
        },
        {
         "name": "verified_purchase",
         "rawType": "bool",
         "type": "boolean"
        },
        {
         "name": "main_category",
         "rawType": "object",
         "type": "string"
        },
        {
         "name": "title_y",
         "rawType": "object",
         "type": "unknown"
        },
        {
         "name": "average_rating",
         "rawType": "float64",
         "type": "float"
        },
        {
         "name": "rating_number",
         "rawType": "float64",
         "type": "float"
        },
        {
         "name": "description",
         "rawType": "object",
         "type": "unknown"
        },
        {
         "name": "price",
         "rawType": "float64",
         "type": "float"
        },
        {
         "name": "categories",
         "rawType": "object",
         "type": "unknown"
        }
       ],
       "conversionMethod": "pd.DataFrame",
       "ref": "0958264f-b36d-4d5b-8d64-abcea5e79c46",
       "rows": [
        [
         "0",
         "5",
         "Five Stars",
         "Amazon, please buy the show! I'm hooked!",
         "B013488XFS",
         "B013488XFS",
         "2015-08-24 03:07:17.000",
         "True",
         "Prime Video",
         "Sneaky Pete",
         "4.6",
         "56658.0",
         "['A\\xa0con man (Giovanni Ribisi) on the run from a vicious gangster (Bryan Cranston) takes cover from his past by assuming the identity of his prison cellmate, Pete, \"reuniting\" with Pete\\'s estranged family, a colorful, dysfunctional group that threatens to drag him into a world just as dangerous as the one he\\'s trying to escape - and, just maybe, give him a taste of the loving family he\\'s never had.']",
         null,
         "Suspense"
        ],
        [
         "1",
         "5",
         "Five Stars",
         "My Kiddos LOVE this show!!",
         "B00CB6VTDS",
         "B00CB6VTDS",
         "2016-04-19 21:16:50.000",
         "True",
         "Prime Video",
         "Creative Galaxy",
         "4.8",
         "6403.0",
         "['Follow the adventures of Arty and his sidekick Epiphany, as they search the galaxy to solve creative problems with art! Whether Arty needs to create a painting for the new children’s library, a stuffed animal for his sister, or make a mask for his jungle pretend play, Arty and Epiphany come to the rescue by enlisting the help of the most creative of all – the preschool home viewer.']",
         null,
         "Kids"
        ],
        [
         "2",
         "5",
         "What Love Is...",
         "...isn't always how you expect it to be, but when its there, you know. That is what this movie is all about. Deep struggles within a broken home and a mother with an addiction and a best friend whom nobody else seems to understand but him. There's loss, there's triumph. There's a bit of magic with a psychic neighbor who makes quite an impact on the boy. This is one definitely worth your time.",
         "B001H1SVZC",
         "B001H1SVZC",
         "2020-05-28 04:13:47.074",
         "True",
         "Prime Video",
         null,
         "4.5",
         "389.0",
         null,
         null,
         null
        ],
        [
         "3",
         "5",
         "QUIRKY TURNS TO HEARTSTRINGS",
         "As you learn about the very unique characters and the values they hold dear, you notice sweet simple things in them that will make you smile. And then as the movie moves deeper, the poetic script of the movie pulls you even deeper, reminding you of memories you might have forgotten as the best movies do. In simple words this movie inspires very deep emotions and just might motivate you to do that thing you've been procrastinating on for too long. The visual play on light and color throughout this film complements its depth. MUST-SEE!!!",
         "B06WVW16WY",
         "B06WVW16WY",
         "2020-04-16 01:15:47.540",
         "True",
         "Prime Video",
         null,
         "4.8",
         "1966.0",
         null,
         null,
         null
        ],
        [
         "4",
         "5",
         "Way better than the harsh reviews.",
         "Our family loved the film. We have kids and they thought the movie was so fun.  We liked it too. The reviews were harsh. And honestly I don’t think the previews were great. It’s worth watching.",
         "B07RXM26FG",
         "B07RXM26FG",
         "2019-09-29 05:17:12.700",
         "True",
         "Prime Video",
         null,
         "4.5",
         "57962.0",
         null,
         null,
         null
        ]
       ],
       "shape": {
        "columns": 14,
        "rows": 5
       }
      },
      "text/html": [
       "<div>\n",
       "<style scoped>\n",
       "    .dataframe tbody tr th:only-of-type {\n",
       "        vertical-align: middle;\n",
       "    }\n",
       "\n",
       "    .dataframe tbody tr th {\n",
       "        vertical-align: top;\n",
       "    }\n",
       "\n",
       "    .dataframe thead th {\n",
       "        text-align: right;\n",
       "    }\n",
       "</style>\n",
       "<table border=\"1\" class=\"dataframe\">\n",
       "  <thead>\n",
       "    <tr style=\"text-align: right;\">\n",
       "      <th></th>\n",
       "      <th>rating</th>\n",
       "      <th>title_x</th>\n",
       "      <th>text</th>\n",
       "      <th>asin</th>\n",
       "      <th>parent_asin</th>\n",
       "      <th>timestamp</th>\n",
       "      <th>verified_purchase</th>\n",
       "      <th>main_category</th>\n",
       "      <th>title_y</th>\n",
       "      <th>average_rating</th>\n",
       "      <th>rating_number</th>\n",
       "      <th>description</th>\n",
       "      <th>price</th>\n",
       "      <th>categories</th>\n",
       "    </tr>\n",
       "  </thead>\n",
       "  <tbody>\n",
       "    <tr>\n",
       "      <th>0</th>\n",
       "      <td>5</td>\n",
       "      <td>Five Stars</td>\n",
       "      <td>Amazon, please buy the show! I'm hooked!</td>\n",
       "      <td>B013488XFS</td>\n",
       "      <td>B013488XFS</td>\n",
       "      <td>2015-08-24 03:07:17.000</td>\n",
       "      <td>True</td>\n",
       "      <td>Prime Video</td>\n",
       "      <td>Sneaky Pete</td>\n",
       "      <td>4.6</td>\n",
       "      <td>56658.0</td>\n",
       "      <td>['A\\xa0con man (Giovanni Ribisi) on the run fr...</td>\n",
       "      <td>NaN</td>\n",
       "      <td>Suspense</td>\n",
       "    </tr>\n",
       "    <tr>\n",
       "      <th>1</th>\n",
       "      <td>5</td>\n",
       "      <td>Five Stars</td>\n",
       "      <td>My Kiddos LOVE this show!!</td>\n",
       "      <td>B00CB6VTDS</td>\n",
       "      <td>B00CB6VTDS</td>\n",
       "      <td>2016-04-19 21:16:50.000</td>\n",
       "      <td>True</td>\n",
       "      <td>Prime Video</td>\n",
       "      <td>Creative Galaxy</td>\n",
       "      <td>4.8</td>\n",
       "      <td>6403.0</td>\n",
       "      <td>['Follow the adventures of Arty and his sideki...</td>\n",
       "      <td>NaN</td>\n",
       "      <td>Kids</td>\n",
       "    </tr>\n",
       "    <tr>\n",
       "      <th>2</th>\n",
       "      <td>5</td>\n",
       "      <td>What Love Is...</td>\n",
       "      <td>...isn't always how you expect it to be, but w...</td>\n",
       "      <td>B001H1SVZC</td>\n",
       "      <td>B001H1SVZC</td>\n",
       "      <td>2020-05-28 04:13:47.074</td>\n",
       "      <td>True</td>\n",
       "      <td>Prime Video</td>\n",
       "      <td>NaN</td>\n",
       "      <td>4.5</td>\n",
       "      <td>389.0</td>\n",
       "      <td>NaN</td>\n",
       "      <td>NaN</td>\n",
       "      <td>NaN</td>\n",
       "    </tr>\n",
       "    <tr>\n",
       "      <th>3</th>\n",
       "      <td>5</td>\n",
       "      <td>QUIRKY TURNS TO HEARTSTRINGS</td>\n",
       "      <td>As you learn about the very unique characters ...</td>\n",
       "      <td>B06WVW16WY</td>\n",
       "      <td>B06WVW16WY</td>\n",
       "      <td>2020-04-16 01:15:47.540</td>\n",
       "      <td>True</td>\n",
       "      <td>Prime Video</td>\n",
       "      <td>NaN</td>\n",
       "      <td>4.8</td>\n",
       "      <td>1966.0</td>\n",
       "      <td>NaN</td>\n",
       "      <td>NaN</td>\n",
       "      <td>NaN</td>\n",
       "    </tr>\n",
       "    <tr>\n",
       "      <th>4</th>\n",
       "      <td>5</td>\n",
       "      <td>Way better than the harsh reviews.</td>\n",
       "      <td>Our family loved the film. We have kids and th...</td>\n",
       "      <td>B07RXM26FG</td>\n",
       "      <td>B07RXM26FG</td>\n",
       "      <td>2019-09-29 05:17:12.700</td>\n",
       "      <td>True</td>\n",
       "      <td>Prime Video</td>\n",
       "      <td>NaN</td>\n",
       "      <td>4.5</td>\n",
       "      <td>57962.0</td>\n",
       "      <td>NaN</td>\n",
       "      <td>NaN</td>\n",
       "      <td>NaN</td>\n",
       "    </tr>\n",
       "  </tbody>\n",
       "</table>\n",
       "</div>"
      ],
      "text/plain": [
       "   rating                             title_x  \\\n",
       "0       5                          Five Stars   \n",
       "1       5                          Five Stars   \n",
       "2       5                     What Love Is...   \n",
       "3       5        QUIRKY TURNS TO HEARTSTRINGS   \n",
       "4       5  Way better than the harsh reviews.   \n",
       "\n",
       "                                                text        asin parent_asin  \\\n",
       "0           Amazon, please buy the show! I'm hooked!  B013488XFS  B013488XFS   \n",
       "1                         My Kiddos LOVE this show!!  B00CB6VTDS  B00CB6VTDS   \n",
       "2  ...isn't always how you expect it to be, but w...  B001H1SVZC  B001H1SVZC   \n",
       "3  As you learn about the very unique characters ...  B06WVW16WY  B06WVW16WY   \n",
       "4  Our family loved the film. We have kids and th...  B07RXM26FG  B07RXM26FG   \n",
       "\n",
       "                 timestamp  verified_purchase main_category          title_y  \\\n",
       "0  2015-08-24 03:07:17.000               True   Prime Video      Sneaky Pete   \n",
       "1  2016-04-19 21:16:50.000               True   Prime Video  Creative Galaxy   \n",
       "2  2020-05-28 04:13:47.074               True   Prime Video              NaN   \n",
       "3  2020-04-16 01:15:47.540               True   Prime Video              NaN   \n",
       "4  2019-09-29 05:17:12.700               True   Prime Video              NaN   \n",
       "\n",
       "   average_rating  rating_number  \\\n",
       "0             4.6        56658.0   \n",
       "1             4.8         6403.0   \n",
       "2             4.5          389.0   \n",
       "3             4.8         1966.0   \n",
       "4             4.5        57962.0   \n",
       "\n",
       "                                         description  price categories  \n",
       "0  ['A\\xa0con man (Giovanni Ribisi) on the run fr...    NaN   Suspense  \n",
       "1  ['Follow the adventures of Arty and his sideki...    NaN       Kids  \n",
       "2                                                NaN    NaN        NaN  \n",
       "3                                                NaN    NaN        NaN  \n",
       "4                                                NaN    NaN        NaN  "
      ]
     },
     "execution_count": 14,
     "metadata": {},
     "output_type": "execute_result"
    }
   ],
   "source": [
    "p_movies.head(5)"
   ]
  },
  {
   "cell_type": "code",
   "execution_count": 15,
   "id": "d00295f8",
   "metadata": {},
   "outputs": [
    {
     "data": {
      "application/vnd.microsoft.datawrangler.viewer.v0+json": {
       "columns": [
        {
         "name": "index",
         "rawType": "int64",
         "type": "integer"
        },
        {
         "name": "rating",
         "rawType": "int64",
         "type": "integer"
        },
        {
         "name": "title_x",
         "rawType": "object",
         "type": "string"
        },
        {
         "name": "text",
         "rawType": "object",
         "type": "string"
        },
        {
         "name": "asin",
         "rawType": "object",
         "type": "string"
        },
        {
         "name": "parent_asin",
         "rawType": "object",
         "type": "string"
        },
        {
         "name": "timestamp",
         "rawType": "object",
         "type": "string"
        },
        {
         "name": "verified_purchase",
         "rawType": "bool",
         "type": "boolean"
        },
        {
         "name": "main_category",
         "rawType": "object",
         "type": "string"
        },
        {
         "name": "title_y",
         "rawType": "object",
         "type": "unknown"
        },
        {
         "name": "average_rating",
         "rawType": "float64",
         "type": "float"
        },
        {
         "name": "rating_number",
         "rawType": "float64",
         "type": "float"
        },
        {
         "name": "description",
         "rawType": "object",
         "type": "unknown"
        },
        {
         "name": "price",
         "rawType": "float64",
         "type": "float"
        },
        {
         "name": "categories",
         "rawType": "object",
         "type": "unknown"
        }
       ],
       "conversionMethod": "pd.DataFrame",
       "ref": "6bf803a4-b011-4237-adca-62d8914f2b19",
       "rows": [
        [
         "233605",
         "4",
         "Destined to Become a Cult Classic!!!",
         "This movie is in the vein of Shaun of the Dead, Zombeavers, and Cockneys Vs. Zombies. It's a great horror comedy that's fun and doesn't take itself too seriously. It's teachers vs. the students when a girl eats a contaminated chicken nugget at lunch time. She quickly becomes a zombie and starts infecting the other kids. A small group of the staff including Clint the substitute, Lucy, Wade the gym teacher, Rebekkah the religious teacher, and Doug the socially awkward science teacher try to figure out why this is happening and fight their way out of the school and try not to get infected by...COOTIES!!!",
         "B015IVEATW",
         "B015IVEATW",
         "2015-09-20 02:07:57.000",
         "False",
         "Prime Video",
         null,
         "4.3",
         "2358.0",
         null,
         null,
         null
        ],
        [
         "233606",
         "5",
         "A Clever and Creepy Found Footage Horror Flick That's Sure to Give You Chills!!!",
         "Most of the time I'm against, or rather tired of found footage type horror films. Earlier this year, Unfriended came out. I saw it and I truly enjoyed it. When I first saw the teaser trailer for this, I didn't really know what to expect. When the real trailer was released, it looked a lot better. I saw this film yesterday, and I also truly enjoyed it, almost as much as Unfriended. It was short, scary, creepy and to the point. I can't believe it's getting such bad ratings. As long as I feel scared by the atmosphere, the lighting and shadow of the ghost, the jump scares, the tension, and if the ending is good, then I'm happy with it. Just the thought of going to an abandoned dark school at night, being locked in by a supernatural presence, and being stalked and killed is a very scary concept to me.<br /><br />In 1993, the drama class of Beatrice High School is performing a play called 'The Gallows' Near the end of the play, a boy named Charlie is set to be hung at the gallows. A freak accident happens when the door beneath Charlie's feet opens and he falls through with a noose around his neck, killing him and traumatizing the whole school.<br /><br />In 2013, a new group of students are finally going to remake the play the way it was meant to be seen as a tribute to Charlie. The man behind the camera is Ryan, going around the school and filming his friends as they rehearse and prepare for the play the next day. Ryan's friend, Reese is set to play the part Charlie had. Reese has a crush on the girl wanting to redo the play named Pfeifer. Ryan soon comes up with an idea to break into the school at night, and destroy the sets so the play can't go on.<br /><br />They soon realize every school has its spirit when Charlie himself comes back from the dead and begins stalking and killing them all in the dark and deserted school. In conclusion, I really thought this was a decent little horror flick that deserves some more attention. It's miles better than Paranormal Activity. I highly recommend THE GALLOWS!!!",
         "B011BFYEJU",
         "B011BFYEJU",
         "2015-07-13 03:58:48.000",
         "False",
         "Prime Video",
         null,
         "4.1",
         "2484.0",
         null,
         null,
         null
        ],
        [
         "233607",
         "5",
         "Another Instant Will Ferrell Classic!!!",
         "Will Ferrell has always been one of my favorite comedians, and Kevin Hart has been growing on me the past few years. Both of them together was a laugh riot! I'll admit, it started out a little slow, but got immediately better once they team up on screen. Obviously, this movie isn't trying to win any awards. It is what it is, just a plain ol' funny silly laugh out loud gross-out comedy to enjoy with your friends, so don't judge it too harshly. There are quite a few racist jokes, so if you're easily offended, stay away.<br /><br />Ferrell stars as James King, a rich businessman who is wrongfully accused of tax evasion. He's given 30 days to get his affairs in order. He soon hires Darnell (Hart) to prep him and get him ready for prison (even though Darnell has never been to prison) What follows are hilarious and awkward situations like faking a prison riot, starting fights with strangers, and much more. If you love Will Ferrell and Kevin Hart, I highly recommend GET HARD!!!",
         "B00V9US0TI",
         "B00V9US0TI",
         "2015-03-28 02:27:19.000",
         "False",
         "Prime Video",
         null,
         "4.6",
         "13355.0",
         null,
         null,
         null
        ],
        [
         "233608",
         "5",
         "Scary Movie 5 is Easily One of the Best in the Series!!!",
         "I grew up with the Scary Movie franchise. I've always welcomed another sequel. This new film was actually really funny, and a lot better than Scary Movie 4 but has a very different tone to it. I've seen it twice so far and it keeps getting better. Anna Faris and Regina Hall are gone, but Ashley Tisdale does a fairly decent job leading the movie. The main spoofs are Paranormal Activity, Mama, Rise of the Planet of the Apes, Black Swan, and Evil Dead. Tisdale stars as Jody Sanders, a woman married to Dan (played by Simon Rex from Scary Movie 3 & 4) Jody and Dan adopt Charlie Sheen's kids, who have been hiding in the woods with 'mama' When they move in to their new home, they notice ghostly paranormal activity. Jody teams up with her ballet partner, Kendra to find the Necronomicon and try to defeat Mama. If you love spoofs and the Scary Movie series, you'll love SCARY MOVIE 5!!!",
         "B00EAZL6HC",
         "B00EAZL6HC",
         "2013-08-20 02:43:44.000",
         "False",
         "Prime Video",
         null,
         "4.3",
         "3125.0",
         null,
         null,
         null
        ],
        [
         "233609",
         "4",
         "Pretty Good!!!",
         "This movie was a lot better than I had expected. Meryl Streep was a great choice for the role of Julia Child, as was Amy Adams as Julie Powell. In the 1950's, Julia begins to master the art of French cooking, and tries to get a cook-book published. In the year 2002, Julie Powell takes Julia's cook-book and begins to cook meals each day for a year, and writes about it in her blog. I highly recommend JULIE & JULIA!!!",
         "B002VXKYCS",
         "B002VXKYCS",
         "2009-12-31 01:25:26.000",
         "False",
         "Prime Video",
         null,
         "4.8",
         "5742.0",
         null,
         null,
         null
        ]
       ],
       "shape": {
        "columns": 14,
        "rows": 5
       }
      },
      "text/html": [
       "<div>\n",
       "<style scoped>\n",
       "    .dataframe tbody tr th:only-of-type {\n",
       "        vertical-align: middle;\n",
       "    }\n",
       "\n",
       "    .dataframe tbody tr th {\n",
       "        vertical-align: top;\n",
       "    }\n",
       "\n",
       "    .dataframe thead th {\n",
       "        text-align: right;\n",
       "    }\n",
       "</style>\n",
       "<table border=\"1\" class=\"dataframe\">\n",
       "  <thead>\n",
       "    <tr style=\"text-align: right;\">\n",
       "      <th></th>\n",
       "      <th>rating</th>\n",
       "      <th>title_x</th>\n",
       "      <th>text</th>\n",
       "      <th>asin</th>\n",
       "      <th>parent_asin</th>\n",
       "      <th>timestamp</th>\n",
       "      <th>verified_purchase</th>\n",
       "      <th>main_category</th>\n",
       "      <th>title_y</th>\n",
       "      <th>average_rating</th>\n",
       "      <th>rating_number</th>\n",
       "      <th>description</th>\n",
       "      <th>price</th>\n",
       "      <th>categories</th>\n",
       "    </tr>\n",
       "  </thead>\n",
       "  <tbody>\n",
       "    <tr>\n",
       "      <th>233605</th>\n",
       "      <td>4</td>\n",
       "      <td>Destined to Become a Cult Classic!!!</td>\n",
       "      <td>This movie is in the vein of Shaun of the Dead...</td>\n",
       "      <td>B015IVEATW</td>\n",
       "      <td>B015IVEATW</td>\n",
       "      <td>2015-09-20 02:07:57.000</td>\n",
       "      <td>False</td>\n",
       "      <td>Prime Video</td>\n",
       "      <td>NaN</td>\n",
       "      <td>4.3</td>\n",
       "      <td>2358.0</td>\n",
       "      <td>NaN</td>\n",
       "      <td>NaN</td>\n",
       "      <td>NaN</td>\n",
       "    </tr>\n",
       "    <tr>\n",
       "      <th>233606</th>\n",
       "      <td>5</td>\n",
       "      <td>A Clever and Creepy Found Footage Horror Flick...</td>\n",
       "      <td>Most of the time I'm against, or rather tired ...</td>\n",
       "      <td>B011BFYEJU</td>\n",
       "      <td>B011BFYEJU</td>\n",
       "      <td>2015-07-13 03:58:48.000</td>\n",
       "      <td>False</td>\n",
       "      <td>Prime Video</td>\n",
       "      <td>NaN</td>\n",
       "      <td>4.1</td>\n",
       "      <td>2484.0</td>\n",
       "      <td>NaN</td>\n",
       "      <td>NaN</td>\n",
       "      <td>NaN</td>\n",
       "    </tr>\n",
       "    <tr>\n",
       "      <th>233607</th>\n",
       "      <td>5</td>\n",
       "      <td>Another Instant Will Ferrell Classic!!!</td>\n",
       "      <td>Will Ferrell has always been one of my favorit...</td>\n",
       "      <td>B00V9US0TI</td>\n",
       "      <td>B00V9US0TI</td>\n",
       "      <td>2015-03-28 02:27:19.000</td>\n",
       "      <td>False</td>\n",
       "      <td>Prime Video</td>\n",
       "      <td>NaN</td>\n",
       "      <td>4.6</td>\n",
       "      <td>13355.0</td>\n",
       "      <td>NaN</td>\n",
       "      <td>NaN</td>\n",
       "      <td>NaN</td>\n",
       "    </tr>\n",
       "    <tr>\n",
       "      <th>233608</th>\n",
       "      <td>5</td>\n",
       "      <td>Scary Movie 5 is Easily One of the Best in the...</td>\n",
       "      <td>I grew up with the Scary Movie franchise. I've...</td>\n",
       "      <td>B00EAZL6HC</td>\n",
       "      <td>B00EAZL6HC</td>\n",
       "      <td>2013-08-20 02:43:44.000</td>\n",
       "      <td>False</td>\n",
       "      <td>Prime Video</td>\n",
       "      <td>NaN</td>\n",
       "      <td>4.3</td>\n",
       "      <td>3125.0</td>\n",
       "      <td>NaN</td>\n",
       "      <td>NaN</td>\n",
       "      <td>NaN</td>\n",
       "    </tr>\n",
       "    <tr>\n",
       "      <th>233609</th>\n",
       "      <td>4</td>\n",
       "      <td>Pretty Good!!!</td>\n",
       "      <td>This movie was a lot better than I had expecte...</td>\n",
       "      <td>B002VXKYCS</td>\n",
       "      <td>B002VXKYCS</td>\n",
       "      <td>2009-12-31 01:25:26.000</td>\n",
       "      <td>False</td>\n",
       "      <td>Prime Video</td>\n",
       "      <td>NaN</td>\n",
       "      <td>4.8</td>\n",
       "      <td>5742.0</td>\n",
       "      <td>NaN</td>\n",
       "      <td>NaN</td>\n",
       "      <td>NaN</td>\n",
       "    </tr>\n",
       "  </tbody>\n",
       "</table>\n",
       "</div>"
      ],
      "text/plain": [
       "        rating                                            title_x  \\\n",
       "233605       4               Destined to Become a Cult Classic!!!   \n",
       "233606       5  A Clever and Creepy Found Footage Horror Flick...   \n",
       "233607       5            Another Instant Will Ferrell Classic!!!   \n",
       "233608       5  Scary Movie 5 is Easily One of the Best in the...   \n",
       "233609       4                                     Pretty Good!!!   \n",
       "\n",
       "                                                     text        asin  \\\n",
       "233605  This movie is in the vein of Shaun of the Dead...  B015IVEATW   \n",
       "233606  Most of the time I'm against, or rather tired ...  B011BFYEJU   \n",
       "233607  Will Ferrell has always been one of my favorit...  B00V9US0TI   \n",
       "233608  I grew up with the Scary Movie franchise. I've...  B00EAZL6HC   \n",
       "233609  This movie was a lot better than I had expecte...  B002VXKYCS   \n",
       "\n",
       "       parent_asin                timestamp  verified_purchase main_category  \\\n",
       "233605  B015IVEATW  2015-09-20 02:07:57.000              False   Prime Video   \n",
       "233606  B011BFYEJU  2015-07-13 03:58:48.000              False   Prime Video   \n",
       "233607  B00V9US0TI  2015-03-28 02:27:19.000              False   Prime Video   \n",
       "233608  B00EAZL6HC  2013-08-20 02:43:44.000              False   Prime Video   \n",
       "233609  B002VXKYCS  2009-12-31 01:25:26.000              False   Prime Video   \n",
       "\n",
       "       title_y  average_rating  rating_number description  price categories  \n",
       "233605     NaN             4.3         2358.0         NaN    NaN        NaN  \n",
       "233606     NaN             4.1         2484.0         NaN    NaN        NaN  \n",
       "233607     NaN             4.6        13355.0         NaN    NaN        NaN  \n",
       "233608     NaN             4.3         3125.0         NaN    NaN        NaN  \n",
       "233609     NaN             4.8         5742.0         NaN    NaN        NaN  "
      ]
     },
     "execution_count": 15,
     "metadata": {},
     "output_type": "execute_result"
    }
   ],
   "source": [
    "p_movies.tail(5)"
   ]
  },
  {
   "cell_type": "code",
   "execution_count": 16,
   "id": "40640a1b",
   "metadata": {},
   "outputs": [
    {
     "data": {
      "application/vnd.microsoft.datawrangler.viewer.v0+json": {
       "columns": [
        {
         "name": "index",
         "rawType": "int64",
         "type": "integer"
        },
        {
         "name": "rating",
         "rawType": "int64",
         "type": "integer"
        },
        {
         "name": "title_x",
         "rawType": "object",
         "type": "string"
        },
        {
         "name": "text",
         "rawType": "object",
         "type": "string"
        },
        {
         "name": "asin",
         "rawType": "object",
         "type": "string"
        },
        {
         "name": "parent_asin",
         "rawType": "object",
         "type": "string"
        },
        {
         "name": "timestamp",
         "rawType": "object",
         "type": "string"
        },
        {
         "name": "verified_purchase",
         "rawType": "bool",
         "type": "boolean"
        },
        {
         "name": "main_category",
         "rawType": "object",
         "type": "string"
        },
        {
         "name": "title_y",
         "rawType": "object",
         "type": "unknown"
        },
        {
         "name": "average_rating",
         "rawType": "float64",
         "type": "float"
        },
        {
         "name": "rating_number",
         "rawType": "float64",
         "type": "float"
        },
        {
         "name": "description",
         "rawType": "object",
         "type": "unknown"
        },
        {
         "name": "price",
         "rawType": "float64",
         "type": "float"
        },
        {
         "name": "categories",
         "rawType": "object",
         "type": "unknown"
        }
       ],
       "conversionMethod": "pd.DataFrame",
       "ref": "9906bfe8-383b-4bd6-99aa-a1a68b258ed9",
       "rows": [
        [
         "105348",
         "2",
         "Great subject matter, boooooring presentation.",
         "Great subject, boooooring presentation.  Could only stand about 10 minutes of it.",
         "B07PWYKWMQ",
         "B07PWYKWMQ",
         "2021-08-28 03:53:29.692",
         "True",
         "Prime Video",
         null,
         "3.7",
         "117.0",
         null,
         null,
         null
        ],
        [
         "186475",
         "5",
         "Traditional",
         "Classic movie. Watch it every Christmas",
         "B00AGE6856",
         "B00AGE6856",
         "2019-07-26 21:10:22.882",
         "True",
         "Prime Video",
         null,
         "4.8",
         "72134.0",
         null,
         null,
         null
        ],
        [
         "168910",
         "5",
         "Lots of memories",
         "A good movie. Informative and entertaining.",
         "B009UDVZMU",
         "B009UDVZMU",
         "2016-02-16 19:02:31.000",
         "True",
         "Prime Video",
         null,
         "4.0",
         "85.0",
         null,
         null,
         null
        ],
        [
         "149256",
         "5",
         "Quality SciFi",
         "It will not take you long to see this is a quality series.  Well casted and well presented to make every episode well worth it.",
         "B005SFCPNC",
         "B005SFCPNC",
         "2014-04-12 10:49:00.000",
         "False",
         "Prime Video",
         null,
         "4.8",
         "5129.0",
         null,
         null,
         null
        ],
        [
         "216489",
         "5",
         "Five Stars",
         "Really great movie! Tear jerker!",
         "B01LWY8995",
         "B01LWY8995",
         "2017-01-31 01:36:39.000",
         "True",
         "Prime Video",
         null,
         "4.8",
         "21628.0",
         null,
         null,
         null
        ]
       ],
       "shape": {
        "columns": 14,
        "rows": 5
       }
      },
      "text/html": [
       "<div>\n",
       "<style scoped>\n",
       "    .dataframe tbody tr th:only-of-type {\n",
       "        vertical-align: middle;\n",
       "    }\n",
       "\n",
       "    .dataframe tbody tr th {\n",
       "        vertical-align: top;\n",
       "    }\n",
       "\n",
       "    .dataframe thead th {\n",
       "        text-align: right;\n",
       "    }\n",
       "</style>\n",
       "<table border=\"1\" class=\"dataframe\">\n",
       "  <thead>\n",
       "    <tr style=\"text-align: right;\">\n",
       "      <th></th>\n",
       "      <th>rating</th>\n",
       "      <th>title_x</th>\n",
       "      <th>text</th>\n",
       "      <th>asin</th>\n",
       "      <th>parent_asin</th>\n",
       "      <th>timestamp</th>\n",
       "      <th>verified_purchase</th>\n",
       "      <th>main_category</th>\n",
       "      <th>title_y</th>\n",
       "      <th>average_rating</th>\n",
       "      <th>rating_number</th>\n",
       "      <th>description</th>\n",
       "      <th>price</th>\n",
       "      <th>categories</th>\n",
       "    </tr>\n",
       "  </thead>\n",
       "  <tbody>\n",
       "    <tr>\n",
       "      <th>105348</th>\n",
       "      <td>2</td>\n",
       "      <td>Great subject matter, boooooring presentation.</td>\n",
       "      <td>Great subject, boooooring presentation.  Could...</td>\n",
       "      <td>B07PWYKWMQ</td>\n",
       "      <td>B07PWYKWMQ</td>\n",
       "      <td>2021-08-28 03:53:29.692</td>\n",
       "      <td>True</td>\n",
       "      <td>Prime Video</td>\n",
       "      <td>NaN</td>\n",
       "      <td>3.7</td>\n",
       "      <td>117.0</td>\n",
       "      <td>NaN</td>\n",
       "      <td>NaN</td>\n",
       "      <td>NaN</td>\n",
       "    </tr>\n",
       "    <tr>\n",
       "      <th>186475</th>\n",
       "      <td>5</td>\n",
       "      <td>Traditional</td>\n",
       "      <td>Classic movie. Watch it every Christmas</td>\n",
       "      <td>B00AGE6856</td>\n",
       "      <td>B00AGE6856</td>\n",
       "      <td>2019-07-26 21:10:22.882</td>\n",
       "      <td>True</td>\n",
       "      <td>Prime Video</td>\n",
       "      <td>NaN</td>\n",
       "      <td>4.8</td>\n",
       "      <td>72134.0</td>\n",
       "      <td>NaN</td>\n",
       "      <td>NaN</td>\n",
       "      <td>NaN</td>\n",
       "    </tr>\n",
       "    <tr>\n",
       "      <th>168910</th>\n",
       "      <td>5</td>\n",
       "      <td>Lots of memories</td>\n",
       "      <td>A good movie. Informative and entertaining.</td>\n",
       "      <td>B009UDVZMU</td>\n",
       "      <td>B009UDVZMU</td>\n",
       "      <td>2016-02-16 19:02:31.000</td>\n",
       "      <td>True</td>\n",
       "      <td>Prime Video</td>\n",
       "      <td>NaN</td>\n",
       "      <td>4.0</td>\n",
       "      <td>85.0</td>\n",
       "      <td>NaN</td>\n",
       "      <td>NaN</td>\n",
       "      <td>NaN</td>\n",
       "    </tr>\n",
       "    <tr>\n",
       "      <th>149256</th>\n",
       "      <td>5</td>\n",
       "      <td>Quality SciFi</td>\n",
       "      <td>It will not take you long to see this is a qua...</td>\n",
       "      <td>B005SFCPNC</td>\n",
       "      <td>B005SFCPNC</td>\n",
       "      <td>2014-04-12 10:49:00.000</td>\n",
       "      <td>False</td>\n",
       "      <td>Prime Video</td>\n",
       "      <td>NaN</td>\n",
       "      <td>4.8</td>\n",
       "      <td>5129.0</td>\n",
       "      <td>NaN</td>\n",
       "      <td>NaN</td>\n",
       "      <td>NaN</td>\n",
       "    </tr>\n",
       "    <tr>\n",
       "      <th>216489</th>\n",
       "      <td>5</td>\n",
       "      <td>Five Stars</td>\n",
       "      <td>Really great movie! Tear jerker!</td>\n",
       "      <td>B01LWY8995</td>\n",
       "      <td>B01LWY8995</td>\n",
       "      <td>2017-01-31 01:36:39.000</td>\n",
       "      <td>True</td>\n",
       "      <td>Prime Video</td>\n",
       "      <td>NaN</td>\n",
       "      <td>4.8</td>\n",
       "      <td>21628.0</td>\n",
       "      <td>NaN</td>\n",
       "      <td>NaN</td>\n",
       "      <td>NaN</td>\n",
       "    </tr>\n",
       "  </tbody>\n",
       "</table>\n",
       "</div>"
      ],
      "text/plain": [
       "        rating                                         title_x  \\\n",
       "105348       2  Great subject matter, boooooring presentation.   \n",
       "186475       5                                     Traditional   \n",
       "168910       5                                Lots of memories   \n",
       "149256       5                                   Quality SciFi   \n",
       "216489       5                                      Five Stars   \n",
       "\n",
       "                                                     text        asin  \\\n",
       "105348  Great subject, boooooring presentation.  Could...  B07PWYKWMQ   \n",
       "186475            Classic movie. Watch it every Christmas  B00AGE6856   \n",
       "168910        A good movie. Informative and entertaining.  B009UDVZMU   \n",
       "149256  It will not take you long to see this is a qua...  B005SFCPNC   \n",
       "216489                   Really great movie! Tear jerker!  B01LWY8995   \n",
       "\n",
       "       parent_asin                timestamp  verified_purchase main_category  \\\n",
       "105348  B07PWYKWMQ  2021-08-28 03:53:29.692               True   Prime Video   \n",
       "186475  B00AGE6856  2019-07-26 21:10:22.882               True   Prime Video   \n",
       "168910  B009UDVZMU  2016-02-16 19:02:31.000               True   Prime Video   \n",
       "149256  B005SFCPNC  2014-04-12 10:49:00.000              False   Prime Video   \n",
       "216489  B01LWY8995  2017-01-31 01:36:39.000               True   Prime Video   \n",
       "\n",
       "       title_y  average_rating  rating_number description  price categories  \n",
       "105348     NaN             3.7          117.0         NaN    NaN        NaN  \n",
       "186475     NaN             4.8        72134.0         NaN    NaN        NaN  \n",
       "168910     NaN             4.0           85.0         NaN    NaN        NaN  \n",
       "149256     NaN             4.8         5129.0         NaN    NaN        NaN  \n",
       "216489     NaN             4.8        21628.0         NaN    NaN        NaN  "
      ]
     },
     "execution_count": 16,
     "metadata": {},
     "output_type": "execute_result"
    }
   ],
   "source": [
    "p_movies.sample(5)"
   ]
  },
  {
   "cell_type": "code",
   "execution_count": 17,
   "id": "c13bf7ae",
   "metadata": {},
   "outputs": [
    {
     "data": {
      "text/plain": [
       "rating                    0\n",
       "title_x                  24\n",
       "text                     31\n",
       "asin                      0\n",
       "parent_asin               0\n",
       "timestamp                 0\n",
       "verified_purchase         0\n",
       "main_category             0\n",
       "title_y              199810\n",
       "average_rating            3\n",
       "rating_number             3\n",
       "description          199810\n",
       "price                209445\n",
       "categories           199810\n",
       "dtype: int64"
      ]
     },
     "execution_count": 17,
     "metadata": {},
     "output_type": "execute_result"
    }
   ],
   "source": [
    "p_movies.isnull().sum()"
   ]
  },
  {
   "cell_type": "code",
   "execution_count": 18,
   "id": "c3786033",
   "metadata": {},
   "outputs": [
    {
     "data": {
      "text/plain": [
       "538"
      ]
     },
     "execution_count": 18,
     "metadata": {},
     "output_type": "execute_result"
    }
   ],
   "source": [
    "p_movies.duplicated().sum()"
   ]
  },
  {
   "cell_type": "code",
   "execution_count": 19,
   "id": "0e1dfa3b",
   "metadata": {},
   "outputs": [
    {
     "data": {
      "text/plain": [
       "rating                 int64\n",
       "title_x               object\n",
       "text                  object\n",
       "asin                  object\n",
       "parent_asin           object\n",
       "timestamp             object\n",
       "verified_purchase       bool\n",
       "main_category         object\n",
       "title_y               object\n",
       "average_rating       float64\n",
       "rating_number        float64\n",
       "description           object\n",
       "price                float64\n",
       "categories            object\n",
       "dtype: object"
      ]
     },
     "execution_count": 19,
     "metadata": {},
     "output_type": "execute_result"
    }
   ],
   "source": [
    "p_movies.dtypes"
   ]
  },
  {
   "cell_type": "code",
   "execution_count": 20,
   "id": "d2b7f10c",
   "metadata": {},
   "outputs": [
    {
     "data": {
      "application/vnd.microsoft.datawrangler.viewer.v0+json": {
       "columns": [
        {
         "name": "index",
         "rawType": "int64",
         "type": "integer"
        },
        {
         "name": "title_x",
         "rawType": "object",
         "type": "unknown"
        },
        {
         "name": "text",
         "rawType": "object",
         "type": "unknown"
        },
        {
         "name": "asin",
         "rawType": "object",
         "type": "string"
        },
        {
         "name": "parent_asin",
         "rawType": "object",
         "type": "string"
        },
        {
         "name": "timestamp",
         "rawType": "object",
         "type": "string"
        },
        {
         "name": "main_category",
         "rawType": "object",
         "type": "string"
        },
        {
         "name": "title_y",
         "rawType": "object",
         "type": "unknown"
        },
        {
         "name": "description",
         "rawType": "object",
         "type": "unknown"
        },
        {
         "name": "categories",
         "rawType": "object",
         "type": "unknown"
        }
       ],
       "conversionMethod": "pd.DataFrame",
       "ref": "f2024df5-d94b-4d01-99bf-7ddcac33ad00",
       "rows": [
        [
         "0",
         "Five Stars",
         "Amazon, please buy the show! I'm hooked!",
         "B013488XFS",
         "B013488XFS",
         "2015-08-24 03:07:17.000",
         "Prime Video",
         "Sneaky Pete",
         "['A\\xa0con man (Giovanni Ribisi) on the run from a vicious gangster (Bryan Cranston) takes cover from his past by assuming the identity of his prison cellmate, Pete, \"reuniting\" with Pete\\'s estranged family, a colorful, dysfunctional group that threatens to drag him into a world just as dangerous as the one he\\'s trying to escape - and, just maybe, give him a taste of the loving family he\\'s never had.']",
         "Suspense"
        ],
        [
         "1",
         "Five Stars",
         "My Kiddos LOVE this show!!",
         "B00CB6VTDS",
         "B00CB6VTDS",
         "2016-04-19 21:16:50.000",
         "Prime Video",
         "Creative Galaxy",
         "['Follow the adventures of Arty and his sidekick Epiphany, as they search the galaxy to solve creative problems with art! Whether Arty needs to create a painting for the new children’s library, a stuffed animal for his sister, or make a mask for his jungle pretend play, Arty and Epiphany come to the rescue by enlisting the help of the most creative of all – the preschool home viewer.']",
         "Kids"
        ],
        [
         "2",
         "What Love Is...",
         "...isn't always how you expect it to be, but when its there, you know. That is what this movie is all about. Deep struggles within a broken home and a mother with an addiction and a best friend whom nobody else seems to understand but him. There's loss, there's triumph. There's a bit of magic with a psychic neighbor who makes quite an impact on the boy. This is one definitely worth your time.",
         "B001H1SVZC",
         "B001H1SVZC",
         "2020-05-28 04:13:47.074",
         "Prime Video",
         null,
         null,
         null
        ],
        [
         "3",
         "QUIRKY TURNS TO HEARTSTRINGS",
         "As you learn about the very unique characters and the values they hold dear, you notice sweet simple things in them that will make you smile. And then as the movie moves deeper, the poetic script of the movie pulls you even deeper, reminding you of memories you might have forgotten as the best movies do. In simple words this movie inspires very deep emotions and just might motivate you to do that thing you've been procrastinating on for too long. The visual play on light and color throughout this film complements its depth. MUST-SEE!!!",
         "B06WVW16WY",
         "B06WVW16WY",
         "2020-04-16 01:15:47.540",
         "Prime Video",
         null,
         null,
         null
        ],
        [
         "4",
         "Way better than the harsh reviews.",
         "Our family loved the film. We have kids and they thought the movie was so fun.  We liked it too. The reviews were harsh. And honestly I don’t think the previews were great. It’s worth watching.",
         "B07RXM26FG",
         "B07RXM26FG",
         "2019-09-29 05:17:12.700",
         "Prime Video",
         null,
         null,
         null
        ],
        [
         "5",
         "Five Stars",
         "Great movie! My kids are obsessed with HP!",
         "B00271DNP4",
         "B00271DNP4",
         "2018-07-02 18:35:20.803",
         "Prime Video",
         null,
         null,
         null
        ],
        [
         "6",
         "Five Stars",
         "LOVE this movie! Hits you in the feels!",
         "B01LWY8995",
         "B01LWY8995",
         "2017-01-31 13:43:47.000",
         "Prime Video",
         null,
         null,
         null
        ],
        [
         "7",
         "Five Stars",
         "LOVED Woodlawn & the story behind it!",
         "B01AMUSHAC",
         "B01AMUSHAC",
         "2016-10-17 12:44:51.000",
         "Prime Video",
         null,
         null,
         null
        ],
        [
         "8",
         "Five Stars",
         "Great Movie!",
         "B00OI7J214",
         "B00OI7J214",
         "2015-11-03 19:40:37.000",
         "Prime Video",
         null,
         null,
         null
        ],
        [
         "9",
         "Five Stars",
         "Great & exciting movie!",
         "B016JGYSRY",
         "B016JGYSRY",
         "2015-10-27 17:57:20.000",
         "Prime Video",
         null,
         null,
         null
        ],
        [
         "10",
         "Super Funny!",
         "Super Funny! Both Jennifer & Jason were fabulous!",
         "B0091VXC54",
         "B0091VXC54",
         "2015-09-29 18:07:46.000",
         "Prime Video",
         null,
         null,
         null
        ],
        [
         "11",
         "Five Stars",
         "What a great and fun show.  I love all of the characters and cannot wait for Season 2!",
         "B00X9LNPHC",
         "B00X9LNPHC",
         "2015-06-30 21:26:41.000",
         "Prime Video",
         null,
         null,
         null
        ],
        [
         "12",
         "Beautiful Move for the Entire Familia!",
         "We loved Coco! My husband (Mexican) and I (Caucasian) saw this movie on our date night and were moved to tears. I asked him if the movie was accurate in his opinion of his culture and he said it was. I can't wait till this movie comes out on DVD so we can buy it for our daughter. We loved the story line. Miguel is such a cute kid and REAL.<br /><br />Personal Opinion: Reading some of the lower star reviews really irks me because they do not understand the culture, religion, or concept. If you don't get it, that is fine, but don't base your reviews of the movie based on your own religion/culture. For goodness sake, its a child's film. I'd love to see those people review other Disney movies. Sheesh.",
         "B0779KMWG1",
         "B0779KMWG1",
         "2017-12-17 19:30:59.497",
         "Prime Video",
         null,
         null,
         null
        ],
        [
         "13",
         "An oldie but a goodie",
         "One of the best movies out there! It's even better watching it now than when I was a young child. Loved it then and love it now.",
         "B00HMJT5VW",
         "B00HMJT5VW",
         "2016-11-05 00:54:31.000",
         "Prime Video",
         null,
         null,
         null
        ],
        [
         "14",
         "Four Stars",
         "It was pretty good. Had some pretty comical scenes throughout. A great chick flick.",
         "B01KBKKU7G",
         "B01KBKKU7G",
         "2016-09-16 18:39:49.000",
         "Prime Video",
         "Seven Girlfriends",
         "[\"Jesse  has never had a problem finding a girlfriend. It's maintaining the relationship that's his issue. When an ex-girlfriend of his dies, Jesse impulsively asks his most recent fling, Hannah, to marry him -- a proposal she quickly turns down. Left confused by the rejection and his dating history, Jesse decides to seek out his former loves for answers on why the relationships ended.\"]",
         "Comedy"
        ],
        [
         "15",
         "Must watch!",
         "I love this series!",
         "B00PSLQYWE",
         "B00PSLQYWE",
         "2015-07-13 18:12:34.000",
         "Prime Video",
         null,
         null,
         null
        ],
        [
         "16",
         "Love Archer!",
         "Witty. Hilarious. Raunchy. Love Archer!",
         "B003M6SRFO",
         "B003M6SRFO",
         "2015-05-18 17:57:09.000",
         "Prime Video",
         null,
         null,
         null
        ],
        [
         "17",
         "Educational American Hx",
         "We wanted to see this movie when it was up at a movie theater but never made it.  Was so happy that Amazon had this to rent.  Very powerful and well stated on dark matters in the U.S. I highly recommend this  movie, educational and a bit scary as well.",
         "B081FJP1YN",
         "B081FJP1YN",
         "2020-05-16 21:31:23.619",
         "Prime Video",
         null,
         null,
         null
        ],
        [
         "18",
         "kept me on the edge of my seat",
         "Full of action. Great acting!",
         "B0162LLCA2",
         "B0162LLCA2",
         "2016-11-08 22:15:28.000",
         "Prime Video",
         null,
         null,
         null
        ],
        [
         "19",
         "Ok love story",
         "A bit slow and an unsatisfying ending",
         "B01M0S0C8M",
         "B01M0S0C8M",
         "2016-11-08 22:14:17.000",
         "Prime Video",
         "Still Mine",
         "[\"James Cromwell gives a tour de force performance in 'Still Mine,' a deeply moving love story about a couple in their twilight years. When Craig sets out to build a more suitable house for his ailing wife Irene, he is blindsided by the bureaucratic codes and officials. As Irene becomes increasingly ill, Craig takes a final stance against all odds to finish the house, in a truly inspirational story.\"]",
         "Drama"
        ],
        [
         "20",
         "Horrible Movie",
         "I think I could have written a better script. Sorry I wasted my time.",
         "B08Y5PJ2T1",
         "B08Y5PJ2T1",
         "2021-05-19 20:23:26.598",
         "Prime Video",
         null,
         null,
         null
        ],
        [
         "21",
         "TRASH",
         "A movie based solely on INCEST. Storyline is garbage and the actors were terrible.",
         "B00G2TAAVM",
         "B00G2TAAVM",
         "2022-08-22 20:06:25.847",
         "Prime Video",
         "How I Live Now",
         "['Set in the near-future UK, Saoirse Ronan plays Daisy, an American teenager sent to stay with relatives in the English countryside. Initially withdrawn and alienated, she begins to warm up to her charming surroundings and strikes up a romance with the handsome Edmund (George MacKay). But on the fringes of their idyllic summer days are tense news reports of an escalating conflict in Europe. As the UK falls into a violent, chaotic military state, Daisy finds herself hiding and fighting to survive.']",
         "International"
        ],
        [
         "22",
         "Really enjoyed it",
         "Decent storyline and just the right amount of weird. Let's not forget an amazing cast!",
         "B09JCCTWQG",
         "B09JCCTWQG",
         "2022-02-28 06:03:11.489",
         "Prime Video",
         null,
         null,
         null
        ],
        [
         "23",
         "unpretentious, fun, classic stoner comedy",
         "ensemble cast<br /><br />an underrated gem<br /><br />my sympathies for every dude that missed it back in the day",
         "B08JG63WP8",
         "B08JG63WP8",
         "2021-11-03 07:42:48.163",
         "Prime Video",
         null,
         null,
         null
        ],
        [
         "24",
         "we have now acquired missing supplemental materials",
         "with no dvd we left wondering \"where supplemental materials are?\"<br /><br />now thanks to mighty lord jeff bezos we have them in glorious 480p<br /><br />chinquee",
         "B094WZGRB4",
         "B094WZGRB4",
         "2021-05-25 15:49:14.663",
         "Prime Video",
         null,
         null,
         null
        ],
        [
         "25",
         "Ouch",
         "Painful to watch. But entertained my 5 year old.",
         "B008Y5NPUU",
         "B008Y5NPUU",
         "2016-02-28 01:41:44.000",
         "Prime Video",
         null,
         null,
         null
        ],
        [
         "26",
         "Four Stars",
         "very entertaining...",
         "B018GTUWPO",
         "B018GTUWPO",
         "2016-01-25 18:47:34.000",
         "Prime Video",
         null,
         null,
         null
        ],
        [
         "27",
         "Five Stars",
         "Excellent!!!",
         "B018HJ03UC",
         "B018HJ03UC",
         "2016-01-25 18:47:06.000",
         "Prime Video",
         "The Martian",
         "['From legendary director Ridley Scott (Alien, Prometheus) comes a gripping tale of human strength and the will to survive, starring Matt Damon as an astronaut stranded on Mars.']",
         "Science Fiction"
        ],
        [
         "28",
         "Hmmm, Something to Ponder Upon",
         "LA's movies are really interesting and makes you think &#34;could this be true?&#34; I wonder how much more interesting research he will come up with and explore for the fans.",
         "B0085F78I4",
         "B0085F78I4",
         "2014-04-24 03:00:48.000",
         "Prime Video",
         null,
         null,
         null
        ],
        [
         "29",
         "Thought Provocking",
         "I loved this video, it had many answers to some of the questions that I was looking for. However, I wished it had more research offered. Loved it!!",
         "B008X0TMRG",
         "B008X0TMRG",
         "2013-02-19 11:05:17.000",
         "Prime Video",
         "Watchers 4",
         "[\"L.A. Marzulli continues with Dr. Leir's latest implant tests, and on to Texas where we probe into the Nephilim. The latest Torah Codes, as well as an exclusive interview with Jonathan Daniels from the Knesset, and finally -- what it is like to die and go to hell?\"]",
         "Science Fiction"
        ],
        [
         "30",
         "Gets too highbrow & complex",
         "The series starts to break apart here & the story arc goes from weird to unbelievable. Wracking my brain against every episode is not my form of entertainment.",
         "B005V2ZFH0",
         "B005V2ZFH0",
         "2013-11-06 14:20:29.000",
         "Prime Video",
         null,
         null,
         null
        ],
        [
         "31",
         "Really Good!",
         "I loved this show! Binge- watched all 8 episodes in one weekend. Can't wait for season 2👍🏼",
         "B01J4SRJFW",
         "B01J4SRJFW",
         "2017-01-10 04:30:34.000",
         "Prime Video",
         null,
         null,
         null
        ],
        [
         "32",
         "Great New Show!",
         "What a great show! Perfect, nice, show for young girls! Looking forward to more episodes :)",
         "B00Z89L6JW",
         "B00Z89L6JW",
         "2016-02-16 21:00:12.000",
         "Prime Video",
         "The Kicks",
         "['Devin Burke and her family have moved cross-country to California and now must adjust to a new life and a new soccer team. The Kentville Kicks don’t quite play up to the standard that Devin is used to, so she must establish herself as a leader while also trying to make friends in a strange place.']",
         "Comedy"
        ],
        [
         "33",
         "Five Stars!",
         "Great show! Watched it all in one night it was so funny! Great writing- believable dialogue- and 2 very funny actors! Five stars!👍",
         "B00X8UKOUK",
         "B00X8UKOUK",
         "2015-07-09 19:59:34.000",
         "Prime Video",
         null,
         null,
         null
        ],
        [
         "34",
         "Great show- thumbs up!",
         "This is the coolest show! Thumbs up! It is an Emmy award winning show and great for older kids... Maybe 10-15 ish.. Really different stories and very well done!",
         "B00I3MOU4Y",
         "B00I3MOU4Y",
         "2015-04-16 22:20:35.000",
         "Prime Video",
         null,
         null,
         null
        ],
        [
         "35",
         "That following",
         "Glad to have the new season available! Now I can keep up since I don't have a DVR but I can watch it when I like.",
         "B00HY7VG9G",
         "B00HY7VG9G",
         "2014-02-02 20:00:54.000",
         "Prime Video",
         null,
         null,
         null
        ],
        [
         "36",
         "Luther",
         "So happy the latest season is available! I liked this show a lot, took me awhile to remember<br />how the last season ended since it was awhile between seasons.",
         "B00EYYKED6",
         "B00EYYKED6",
         "2014-02-02 20:00:24.000",
         "Prime Video",
         null,
         null,
         null
        ],
        [
         "37",
         "Eh. Waste of time",
         "I cannot stand when movies are remade and they are NOTHING like the original. It's fine if you want to make a movie but don't use the name of another movie that earned its good reputation. I'm comparing it to the original and the remake that starred Steve Martin.  I was excited to see this and to see this some of the cast but it was not good. The whole premise of the movie was boring and so was the acting. I fell asleep! I woke back up after half an hour of it playing and it was clear nothing had really happened. Also, stop using actors that are not really from where their character is from, it's insulting. When will Hollywood stop doing this?",
         "B0B8Q4NJ8C",
         "B0B8Q4NJ8C",
         "2023-01-26 01:33:30.737",
         "Prime Video",
         "Father of the Bride",
         "['You are invited to the love, the food, the music and the fun of “Father of the Bride,” a modern rom-com updated from the timeless classic that shows the surprising ways the heart can adapt in the name of love.']",
         "Comedy"
        ],
        [
         "38",
         "Done with this show",
         "For one, when is the final episode going to air? It's been several weeks and no 16th episode like it shows there will be.<br /><br />While I usually enjoy the end result, I do not enjoy the show anymore. Ben has become too much to watch. I do not care to see him and his friends screw around and act like kids. It's not funny, it's annoying. I can no longer stand Erin, she is just beyond irritating from her overdone accent to a lot of the things she says makes Home Town awkward and unenjoyable to watch. I think that most HGTV shows can last about 3 seasons before they get to be too much. The people on the shows change and become know it alls or become unbearable to watch. It's really too bad that is how it usually becomes on this network.",
         "B08RVT4CK4",
         "B08RVT4CK4",
         "2021-04-26 20:57:52.342",
         "Prime Video",
         null,
         null,
         null
        ],
        [
         "39",
         "Here we go again",
         "So for all of those who think by buying the current season you will get to see all episodes before they even air, learn how this works. You will get the next episode AFTER it airs on the Hallmark channel. Now if only Hallmark would release it to Amazon in a timely manner, the show should be waiting for you the next morning. But Hallmark shows rarely show up the way other networks do.<br /><br />As far as the show, it has been terrible this season! This is no longer a feel good show that most of us go to Hallmark for. They have over done it on all the negativity with a few of the female characters this season. It’s one thing to show the couple’s having an issue here and there but the whole season has been about Clara being angry with Jesse and with Faith making sure Carson knows how much he keeps messing up. Elizabeth's character is the most unlikeable person at this point. She is rude, bitter and all around totally unpleasant. The love triangle gets really old and they’ve over done it with this one on this show. Who cares at this point who Elizabeth picks and who cares what happens to her character?",
         "B08X6JFYT9",
         "B08X6JFYT9",
         "2021-03-01 15:57:45.651",
         "Prime Video",
         null,
         null,
         null
        ],
        [
         "40",
         "Pleasant surprise",
         "I wish there were more delightful movies like this one. The acting was excellent and right on by everyone in this movie. It shows us that as we age, we can still have the things we did when we were younger. And the second time around can be better than the first time for many.",
         "B07PND31HD",
         "B07PND31HD",
         "2020-10-22 17:18:42.181",
         "Prime Video",
         null,
         null,
         null
        ],
        [
         "41",
         "Absurd movie, horrible acting",
         "**Spoilers** This was just so ridiculous. So we get it, some people would do anything to protect their children. But this child is a messed up little girl. Not only do they not confess to the police regarding what they thought was the death of a child, they try to set her father up and then end up killing him. As he begs for his life, they just stand there and watch him die and they don’t show any remorse. Once they find out it was all a “joke” they seriously don't act that upset towards their freak of a daughter. This was just such a waste of so many things, including my time!",
         "B08DX1WFWK",
         "B08DX1WFWK",
         "2020-10-14 06:42:45.478",
         "Prime Video",
         null,
         null,
         null
        ],
        [
         "42",
         "I LOVE Madea",
         "I don't think there is a movie that makes me laugh as much as this one has, not in a long time anyway. I enjoy most of Tyler Perry's movies. There is so much comedy but also so much truth to them when it comes to showing family disfunction. I love how Madea took care of everything in this one, she put everyone in their place, got the couples to work out their issues. The ending was funny, I think Perry nailed it with how follks behave on that show.",
         "B005LTHT72",
         "B005LTHT72",
         "2020-10-11 05:55:28.479",
         "Prime Video",
         null,
         null,
         null
        ],
        [
         "43",
         "Pretty bad acting",
         "I wanted to like this movie but the acting was pretty bad. Also, the graffics when they were driving were HORRIBLE. It totally distracted me from listening to what was being said. I'm usually a sucker for these sappy, Christmas movies but this one just didn't cut it for me.",
         "B07R6YJMW5",
         "B07R6YJMW5",
         "2020-10-06 00:44:30.933",
         "Prime Video",
         "A Husband For Christmas",
         "['Two co-workers agree to a loveless marriage of convenience, but as they become acquainted, an unrealized chemistry grows between them.']",
         "Comedy"
        ],
        [
         "44",
         "Boring and uneventful",
         "I was excited for this movie, lots of actors that I usually enjoy. But it was just so boring and the acting just wasn’t good. The whole idea of this movie was cute and could have been a lot better but it just wasn’t delivered in a manner that held my attention.",
         "B07HFL11VJ",
         "B07HFL11VJ",
         "2020-10-02 23:11:19.908",
         "Prime Video",
         null,
         null,
         null
        ],
        [
         "45",
         "No way",
         "So I watched a handful of minutes of this show and just couldn't. The acting was horrible! And do they think by playing cute music it's going to make it any better? I hate when these cheesy movies do that, it just makes it even more unlikeable.",
         "B07YSZKB62",
         "B07YSZKB62",
         "2020-10-01 16:26:43.128",
         "Prime Video",
         null,
         null,
         null
        ],
        [
         "46",
         "I'm a sucker for these sappy movies",
         "I like any movie Hilarie Burton is in, I really like her. This movie is like most  Hallmark movies and they are my guilty pleasure. I liked seeing all the food in the movie and love how the characters come together. I've watched this movie several times and I am sure I'll watch it several more. I like movies that have happy endings and Hallmark certainly is the place to go for that.",
         "B07FN83ZK1",
         "B07FN83ZK1",
         "2020-10-01 02:00:01.603",
         "Prime Video",
         null,
         null,
         null
        ],
        [
         "47",
         "Will always be a favorite",
         "I loved this movie when I was a kid and I still love it now. It's one of those movies that I can sit and watch and find enjoyment out of it each and every time. I like all of the actors in it and it holds up after all these years. I was the same age as the boys when I first saw it. I am sure many of the people who left 1 star reviews of this movie would gasp at that. But I was mature enough to get it, I feel it's a coming of age movie and maybe kids today are just too fragile to get it, not sure but it certainly doesn't deserve a 1 star review.  That being said, all the boys did a fine job acting in it. I was in a group of 4 girls that reminded me of the four boys in the movie. We all came from somewhat different families but yet were best friends. I kept in touch with a couple of them throughout school but just like in the movie, you grow apart and that is just life. I always tried to figure out who out of all of us could relate the most to the boys in the movie, I found myself doing it again as I sat and watched it as an adult. In my opinion the best adapted Stephen King story.",
         "B008Y7IUBM",
         "B008Y7IUBM",
         "2020-09-30 23:55:56.882",
         "Prime Video",
         null,
         null,
         null
        ],
        [
         "48",
         "Love Jane Goodall",
         "I love anything to do with Jane Goodall. She is a wonderful person who has devoted her life to a very important cause. I like listening to her talk and to hear her point of view of what our climate is doing at this time. She is truly one of the most inspiring people of our time!",
         "B087NBS416",
         "B087NBS416",
         "2020-09-30 23:36:00.441",
         "Prime Video",
         null,
         null,
         null
        ],
        [
         "49",
         "Turned it off after a few of minutes",
         "I should have known that this was a bad movie when there is nearly as many 1 star reviews as 5. Also when within the first few minutes of a movie there is a scene with the woman standing in her bra and underwear and the camera is placed looking down her breasts but yet the man next to her is fully clothed  I can tell it's probably going to be something that I wouldn't enjoy becuase I like movies that actually make you think and have some depth. It felt like the beginning of a cheap porno and maybe from some of the reviews I'm now reading, that analogy isn't too far off!",
         "B07N9KV8BX",
         "B07N9KV8BX",
         "2020-09-30 23:08:53.293",
         "Prime Video",
         null,
         null,
         null
        ]
       ],
       "shape": {
        "columns": 9,
        "rows": 233610
       }
      },
      "text/html": [
       "<div>\n",
       "<style scoped>\n",
       "    .dataframe tbody tr th:only-of-type {\n",
       "        vertical-align: middle;\n",
       "    }\n",
       "\n",
       "    .dataframe tbody tr th {\n",
       "        vertical-align: top;\n",
       "    }\n",
       "\n",
       "    .dataframe thead th {\n",
       "        text-align: right;\n",
       "    }\n",
       "</style>\n",
       "<table border=\"1\" class=\"dataframe\">\n",
       "  <thead>\n",
       "    <tr style=\"text-align: right;\">\n",
       "      <th></th>\n",
       "      <th>title_x</th>\n",
       "      <th>text</th>\n",
       "      <th>asin</th>\n",
       "      <th>parent_asin</th>\n",
       "      <th>timestamp</th>\n",
       "      <th>main_category</th>\n",
       "      <th>title_y</th>\n",
       "      <th>description</th>\n",
       "      <th>categories</th>\n",
       "    </tr>\n",
       "  </thead>\n",
       "  <tbody>\n",
       "    <tr>\n",
       "      <th>0</th>\n",
       "      <td>Five Stars</td>\n",
       "      <td>Amazon, please buy the show! I'm hooked!</td>\n",
       "      <td>B013488XFS</td>\n",
       "      <td>B013488XFS</td>\n",
       "      <td>2015-08-24 03:07:17.000</td>\n",
       "      <td>Prime Video</td>\n",
       "      <td>Sneaky Pete</td>\n",
       "      <td>['A\\xa0con man (Giovanni Ribisi) on the run fr...</td>\n",
       "      <td>Suspense</td>\n",
       "    </tr>\n",
       "    <tr>\n",
       "      <th>1</th>\n",
       "      <td>Five Stars</td>\n",
       "      <td>My Kiddos LOVE this show!!</td>\n",
       "      <td>B00CB6VTDS</td>\n",
       "      <td>B00CB6VTDS</td>\n",
       "      <td>2016-04-19 21:16:50.000</td>\n",
       "      <td>Prime Video</td>\n",
       "      <td>Creative Galaxy</td>\n",
       "      <td>['Follow the adventures of Arty and his sideki...</td>\n",
       "      <td>Kids</td>\n",
       "    </tr>\n",
       "    <tr>\n",
       "      <th>2</th>\n",
       "      <td>What Love Is...</td>\n",
       "      <td>...isn't always how you expect it to be, but w...</td>\n",
       "      <td>B001H1SVZC</td>\n",
       "      <td>B001H1SVZC</td>\n",
       "      <td>2020-05-28 04:13:47.074</td>\n",
       "      <td>Prime Video</td>\n",
       "      <td>NaN</td>\n",
       "      <td>NaN</td>\n",
       "      <td>NaN</td>\n",
       "    </tr>\n",
       "    <tr>\n",
       "      <th>3</th>\n",
       "      <td>QUIRKY TURNS TO HEARTSTRINGS</td>\n",
       "      <td>As you learn about the very unique characters ...</td>\n",
       "      <td>B06WVW16WY</td>\n",
       "      <td>B06WVW16WY</td>\n",
       "      <td>2020-04-16 01:15:47.540</td>\n",
       "      <td>Prime Video</td>\n",
       "      <td>NaN</td>\n",
       "      <td>NaN</td>\n",
       "      <td>NaN</td>\n",
       "    </tr>\n",
       "    <tr>\n",
       "      <th>4</th>\n",
       "      <td>Way better than the harsh reviews.</td>\n",
       "      <td>Our family loved the film. We have kids and th...</td>\n",
       "      <td>B07RXM26FG</td>\n",
       "      <td>B07RXM26FG</td>\n",
       "      <td>2019-09-29 05:17:12.700</td>\n",
       "      <td>Prime Video</td>\n",
       "      <td>NaN</td>\n",
       "      <td>NaN</td>\n",
       "      <td>NaN</td>\n",
       "    </tr>\n",
       "    <tr>\n",
       "      <th>...</th>\n",
       "      <td>...</td>\n",
       "      <td>...</td>\n",
       "      <td>...</td>\n",
       "      <td>...</td>\n",
       "      <td>...</td>\n",
       "      <td>...</td>\n",
       "      <td>...</td>\n",
       "      <td>...</td>\n",
       "      <td>...</td>\n",
       "    </tr>\n",
       "    <tr>\n",
       "      <th>233605</th>\n",
       "      <td>Destined to Become a Cult Classic!!!</td>\n",
       "      <td>This movie is in the vein of Shaun of the Dead...</td>\n",
       "      <td>B015IVEATW</td>\n",
       "      <td>B015IVEATW</td>\n",
       "      <td>2015-09-20 02:07:57.000</td>\n",
       "      <td>Prime Video</td>\n",
       "      <td>NaN</td>\n",
       "      <td>NaN</td>\n",
       "      <td>NaN</td>\n",
       "    </tr>\n",
       "    <tr>\n",
       "      <th>233606</th>\n",
       "      <td>A Clever and Creepy Found Footage Horror Flick...</td>\n",
       "      <td>Most of the time I'm against, or rather tired ...</td>\n",
       "      <td>B011BFYEJU</td>\n",
       "      <td>B011BFYEJU</td>\n",
       "      <td>2015-07-13 03:58:48.000</td>\n",
       "      <td>Prime Video</td>\n",
       "      <td>NaN</td>\n",
       "      <td>NaN</td>\n",
       "      <td>NaN</td>\n",
       "    </tr>\n",
       "    <tr>\n",
       "      <th>233607</th>\n",
       "      <td>Another Instant Will Ferrell Classic!!!</td>\n",
       "      <td>Will Ferrell has always been one of my favorit...</td>\n",
       "      <td>B00V9US0TI</td>\n",
       "      <td>B00V9US0TI</td>\n",
       "      <td>2015-03-28 02:27:19.000</td>\n",
       "      <td>Prime Video</td>\n",
       "      <td>NaN</td>\n",
       "      <td>NaN</td>\n",
       "      <td>NaN</td>\n",
       "    </tr>\n",
       "    <tr>\n",
       "      <th>233608</th>\n",
       "      <td>Scary Movie 5 is Easily One of the Best in the...</td>\n",
       "      <td>I grew up with the Scary Movie franchise. I've...</td>\n",
       "      <td>B00EAZL6HC</td>\n",
       "      <td>B00EAZL6HC</td>\n",
       "      <td>2013-08-20 02:43:44.000</td>\n",
       "      <td>Prime Video</td>\n",
       "      <td>NaN</td>\n",
       "      <td>NaN</td>\n",
       "      <td>NaN</td>\n",
       "    </tr>\n",
       "    <tr>\n",
       "      <th>233609</th>\n",
       "      <td>Pretty Good!!!</td>\n",
       "      <td>This movie was a lot better than I had expecte...</td>\n",
       "      <td>B002VXKYCS</td>\n",
       "      <td>B002VXKYCS</td>\n",
       "      <td>2009-12-31 01:25:26.000</td>\n",
       "      <td>Prime Video</td>\n",
       "      <td>NaN</td>\n",
       "      <td>NaN</td>\n",
       "      <td>NaN</td>\n",
       "    </tr>\n",
       "  </tbody>\n",
       "</table>\n",
       "<p>233610 rows × 9 columns</p>\n",
       "</div>"
      ],
      "text/plain": [
       "                                                  title_x  \\\n",
       "0                                              Five Stars   \n",
       "1                                              Five Stars   \n",
       "2                                         What Love Is...   \n",
       "3                            QUIRKY TURNS TO HEARTSTRINGS   \n",
       "4                      Way better than the harsh reviews.   \n",
       "...                                                   ...   \n",
       "233605               Destined to Become a Cult Classic!!!   \n",
       "233606  A Clever and Creepy Found Footage Horror Flick...   \n",
       "233607            Another Instant Will Ferrell Classic!!!   \n",
       "233608  Scary Movie 5 is Easily One of the Best in the...   \n",
       "233609                                     Pretty Good!!!   \n",
       "\n",
       "                                                     text        asin  \\\n",
       "0                Amazon, please buy the show! I'm hooked!  B013488XFS   \n",
       "1                              My Kiddos LOVE this show!!  B00CB6VTDS   \n",
       "2       ...isn't always how you expect it to be, but w...  B001H1SVZC   \n",
       "3       As you learn about the very unique characters ...  B06WVW16WY   \n",
       "4       Our family loved the film. We have kids and th...  B07RXM26FG   \n",
       "...                                                   ...         ...   \n",
       "233605  This movie is in the vein of Shaun of the Dead...  B015IVEATW   \n",
       "233606  Most of the time I'm against, or rather tired ...  B011BFYEJU   \n",
       "233607  Will Ferrell has always been one of my favorit...  B00V9US0TI   \n",
       "233608  I grew up with the Scary Movie franchise. I've...  B00EAZL6HC   \n",
       "233609  This movie was a lot better than I had expecte...  B002VXKYCS   \n",
       "\n",
       "       parent_asin                timestamp main_category          title_y  \\\n",
       "0       B013488XFS  2015-08-24 03:07:17.000   Prime Video      Sneaky Pete   \n",
       "1       B00CB6VTDS  2016-04-19 21:16:50.000   Prime Video  Creative Galaxy   \n",
       "2       B001H1SVZC  2020-05-28 04:13:47.074   Prime Video              NaN   \n",
       "3       B06WVW16WY  2020-04-16 01:15:47.540   Prime Video              NaN   \n",
       "4       B07RXM26FG  2019-09-29 05:17:12.700   Prime Video              NaN   \n",
       "...            ...                      ...           ...              ...   \n",
       "233605  B015IVEATW  2015-09-20 02:07:57.000   Prime Video              NaN   \n",
       "233606  B011BFYEJU  2015-07-13 03:58:48.000   Prime Video              NaN   \n",
       "233607  B00V9US0TI  2015-03-28 02:27:19.000   Prime Video              NaN   \n",
       "233608  B00EAZL6HC  2013-08-20 02:43:44.000   Prime Video              NaN   \n",
       "233609  B002VXKYCS  2009-12-31 01:25:26.000   Prime Video              NaN   \n",
       "\n",
       "                                              description categories  \n",
       "0       ['A\\xa0con man (Giovanni Ribisi) on the run fr...   Suspense  \n",
       "1       ['Follow the adventures of Arty and his sideki...       Kids  \n",
       "2                                                     NaN        NaN  \n",
       "3                                                     NaN        NaN  \n",
       "4                                                     NaN        NaN  \n",
       "...                                                   ...        ...  \n",
       "233605                                                NaN        NaN  \n",
       "233606                                                NaN        NaN  \n",
       "233607                                                NaN        NaN  \n",
       "233608                                                NaN        NaN  \n",
       "233609                                                NaN        NaN  \n",
       "\n",
       "[233610 rows x 9 columns]"
      ]
     },
     "execution_count": 20,
     "metadata": {},
     "output_type": "execute_result"
    }
   ],
   "source": [
    "p_movies.select_dtypes(include=['object'])"
   ]
  },
  {
   "cell_type": "code",
   "execution_count": 21,
   "id": "867b5d8a",
   "metadata": {},
   "outputs": [
    {
     "data": {
      "application/vnd.microsoft.datawrangler.viewer.v0+json": {
       "columns": [
        {
         "name": "index",
         "rawType": "int64",
         "type": "integer"
        },
        {
         "name": "rating",
         "rawType": "int64",
         "type": "integer"
        },
        {
         "name": "average_rating",
         "rawType": "float64",
         "type": "float"
        },
        {
         "name": "rating_number",
         "rawType": "float64",
         "type": "float"
        },
        {
         "name": "price",
         "rawType": "float64",
         "type": "float"
        }
       ],
       "conversionMethod": "pd.DataFrame",
       "ref": "227f6dbe-6b90-4e48-9a08-363ecab01633",
       "rows": [
        [
         "0",
         "5",
         "4.6",
         "56658.0",
         null
        ],
        [
         "1",
         "5",
         "4.8",
         "6403.0",
         null
        ],
        [
         "2",
         "5",
         "4.5",
         "389.0",
         null
        ],
        [
         "3",
         "5",
         "4.8",
         "1966.0",
         null
        ],
        [
         "4",
         "5",
         "4.5",
         "57962.0",
         null
        ],
        [
         "5",
         "5",
         "4.9",
         "59229.0",
         null
        ],
        [
         "6",
         "5",
         "4.8",
         "21628.0",
         null
        ],
        [
         "7",
         "5",
         "4.8",
         "3522.0",
         null
        ],
        [
         "8",
         "5",
         "4.6",
         "16066.0",
         null
        ],
        [
         "9",
         "5",
         "4.6",
         "23015.0",
         null
        ],
        [
         "10",
         "5",
         "4.6",
         "6097.0",
         null
        ],
        [
         "11",
         "5",
         "4.5",
         "7904.0",
         null
        ],
        [
         "12",
         "5",
         "4.9",
         "13522.0",
         null
        ],
        [
         "13",
         "5",
         "4.8",
         "13440.0",
         null
        ],
        [
         "14",
         "4",
         "3.2",
         "333.0",
         "12.99"
        ],
        [
         "15",
         "5",
         "4.9",
         "34528.0",
         null
        ],
        [
         "16",
         "5",
         "4.8",
         "4105.0",
         null
        ],
        [
         "17",
         "5",
         "4.5",
         "23968.0",
         null
        ],
        [
         "18",
         "5",
         "4.7",
         "53403.0",
         null
        ],
        [
         "19",
         "3",
         "4.6",
         "4744.0",
         "9.99"
        ],
        [
         "20",
         "1",
         "3.0",
         "1809.0",
         null
        ],
        [
         "21",
         "1",
         "4.3",
         "907.0",
         "12.99"
        ],
        [
         "22",
         "4",
         "4.7",
         "1067.0",
         null
        ],
        [
         "23",
         "5",
         "4.7",
         "576.0",
         null
        ],
        [
         "24",
         "5",
         "3.2",
         "156.0",
         null
        ],
        [
         "25",
         "1",
         "4.1",
         "428.0",
         null
        ],
        [
         "26",
         "4",
         "4.7",
         "23034.0",
         null
        ],
        [
         "27",
         "5",
         "4.8",
         "45859.0",
         "4.99"
        ],
        [
         "28",
         "5",
         "4.2",
         "309.0",
         null
        ],
        [
         "29",
         "5",
         "4.4",
         "112.0",
         null
        ],
        [
         "30",
         "4",
         "4.9",
         "4603.0",
         null
        ],
        [
         "31",
         "5",
         "4.7",
         "84192.0",
         null
        ],
        [
         "32",
         "5",
         "4.8",
         "4079.0",
         null
        ],
        [
         "33",
         "5",
         "4.5",
         "34154.0",
         null
        ],
        [
         "34",
         "5",
         "4.7",
         "7315.0",
         null
        ],
        [
         "35",
         "4",
         "4.8",
         "1730.0",
         null
        ],
        [
         "36",
         "5",
         "4.8",
         "1380.0",
         null
        ],
        [
         "37",
         "1",
         "4.3",
         "410.0",
         null
        ],
        [
         "38",
         "1",
         "4.9",
         "330.0",
         null
        ],
        [
         "39",
         "1",
         "4.8",
         "6150.0",
         null
        ],
        [
         "40",
         "5",
         "4.3",
         "276.0",
         null
        ],
        [
         "41",
         "1",
         "3.1",
         "3407.0",
         null
        ],
        [
         "42",
         "5",
         "4.7",
         "6845.0",
         null
        ],
        [
         "43",
         "2",
         "4.0",
         "73.0",
         null
        ],
        [
         "44",
         "2",
         "4.3",
         "2035.0",
         null
        ],
        [
         "45",
         "1",
         "4.1",
         "135.0",
         null
        ],
        [
         "46",
         "5",
         "4.8",
         "863.0",
         null
        ],
        [
         "47",
         "5",
         "4.8",
         "17349.0",
         null
        ],
        [
         "48",
         "5",
         "5.0",
         "10.0",
         null
        ],
        [
         "49",
         "1",
         "3.2",
         "184.0",
         null
        ]
       ],
       "shape": {
        "columns": 4,
        "rows": 233610
       }
      },
      "text/html": [
       "<div>\n",
       "<style scoped>\n",
       "    .dataframe tbody tr th:only-of-type {\n",
       "        vertical-align: middle;\n",
       "    }\n",
       "\n",
       "    .dataframe tbody tr th {\n",
       "        vertical-align: top;\n",
       "    }\n",
       "\n",
       "    .dataframe thead th {\n",
       "        text-align: right;\n",
       "    }\n",
       "</style>\n",
       "<table border=\"1\" class=\"dataframe\">\n",
       "  <thead>\n",
       "    <tr style=\"text-align: right;\">\n",
       "      <th></th>\n",
       "      <th>rating</th>\n",
       "      <th>average_rating</th>\n",
       "      <th>rating_number</th>\n",
       "      <th>price</th>\n",
       "    </tr>\n",
       "  </thead>\n",
       "  <tbody>\n",
       "    <tr>\n",
       "      <th>0</th>\n",
       "      <td>5</td>\n",
       "      <td>4.6</td>\n",
       "      <td>56658.0</td>\n",
       "      <td>NaN</td>\n",
       "    </tr>\n",
       "    <tr>\n",
       "      <th>1</th>\n",
       "      <td>5</td>\n",
       "      <td>4.8</td>\n",
       "      <td>6403.0</td>\n",
       "      <td>NaN</td>\n",
       "    </tr>\n",
       "    <tr>\n",
       "      <th>2</th>\n",
       "      <td>5</td>\n",
       "      <td>4.5</td>\n",
       "      <td>389.0</td>\n",
       "      <td>NaN</td>\n",
       "    </tr>\n",
       "    <tr>\n",
       "      <th>3</th>\n",
       "      <td>5</td>\n",
       "      <td>4.8</td>\n",
       "      <td>1966.0</td>\n",
       "      <td>NaN</td>\n",
       "    </tr>\n",
       "    <tr>\n",
       "      <th>4</th>\n",
       "      <td>5</td>\n",
       "      <td>4.5</td>\n",
       "      <td>57962.0</td>\n",
       "      <td>NaN</td>\n",
       "    </tr>\n",
       "    <tr>\n",
       "      <th>...</th>\n",
       "      <td>...</td>\n",
       "      <td>...</td>\n",
       "      <td>...</td>\n",
       "      <td>...</td>\n",
       "    </tr>\n",
       "    <tr>\n",
       "      <th>233605</th>\n",
       "      <td>4</td>\n",
       "      <td>4.3</td>\n",
       "      <td>2358.0</td>\n",
       "      <td>NaN</td>\n",
       "    </tr>\n",
       "    <tr>\n",
       "      <th>233606</th>\n",
       "      <td>5</td>\n",
       "      <td>4.1</td>\n",
       "      <td>2484.0</td>\n",
       "      <td>NaN</td>\n",
       "    </tr>\n",
       "    <tr>\n",
       "      <th>233607</th>\n",
       "      <td>5</td>\n",
       "      <td>4.6</td>\n",
       "      <td>13355.0</td>\n",
       "      <td>NaN</td>\n",
       "    </tr>\n",
       "    <tr>\n",
       "      <th>233608</th>\n",
       "      <td>5</td>\n",
       "      <td>4.3</td>\n",
       "      <td>3125.0</td>\n",
       "      <td>NaN</td>\n",
       "    </tr>\n",
       "    <tr>\n",
       "      <th>233609</th>\n",
       "      <td>4</td>\n",
       "      <td>4.8</td>\n",
       "      <td>5742.0</td>\n",
       "      <td>NaN</td>\n",
       "    </tr>\n",
       "  </tbody>\n",
       "</table>\n",
       "<p>233610 rows × 4 columns</p>\n",
       "</div>"
      ],
      "text/plain": [
       "        rating  average_rating  rating_number  price\n",
       "0            5             4.6        56658.0    NaN\n",
       "1            5             4.8         6403.0    NaN\n",
       "2            5             4.5          389.0    NaN\n",
       "3            5             4.8         1966.0    NaN\n",
       "4            5             4.5        57962.0    NaN\n",
       "...        ...             ...            ...    ...\n",
       "233605       4             4.3         2358.0    NaN\n",
       "233606       5             4.1         2484.0    NaN\n",
       "233607       5             4.6        13355.0    NaN\n",
       "233608       5             4.3         3125.0    NaN\n",
       "233609       4             4.8         5742.0    NaN\n",
       "\n",
       "[233610 rows x 4 columns]"
      ]
     },
     "execution_count": 21,
     "metadata": {},
     "output_type": "execute_result"
    }
   ],
   "source": [
    "p_movies.select_dtypes(include=['number'])"
   ]
  },
  {
   "cell_type": "code",
   "execution_count": 23,
   "id": "b81cf8f5",
   "metadata": {},
   "outputs": [
    {
     "data": {
      "text/plain": [
       "array(['Suspense', 'Kids', nan, 'Comedy', 'Drama', 'International',\n",
       "       'Science Fiction', 'Animation', 'Unscripted', 'Historical',\n",
       "       'Documentary', 'Romance', 'Special Interest', 'Action', 'Arts',\n",
       "       'Fantasy', 'Horror', 'Western', 'Fitness', '[',\n",
       "       'Young Adult Audience', 'Arthouse', 'Sports', 'Adventure', 'Anime',\n",
       "       'Music Videos and Concerts', 'LGBTQ', 'Talk Show and Variety',\n",
       "       'Faith and Spirituality', 'Military and War'], dtype=object)"
      ]
     },
     "execution_count": 23,
     "metadata": {},
     "output_type": "execute_result"
    }
   ],
   "source": [
    "p_movies['categories'].unique()"
   ]
  },
  {
   "cell_type": "code",
   "execution_count": 24,
   "id": "083285f1",
   "metadata": {},
   "outputs": [
    {
     "data": {
      "text/plain": [
       "categories\n",
       "Suspense                     7518\n",
       "Comedy                       7508\n",
       "Drama                        7075\n",
       "Science Fiction              3945\n",
       "Documentary                  1604\n",
       "Fantasy                       802\n",
       "Action                        785\n",
       "Unscripted                    753\n",
       "Historical                    567\n",
       "Kids                          474\n",
       "Animation                     411\n",
       "Horror                        379\n",
       "Adventure                     325\n",
       "Special Interest              322\n",
       "International                 218\n",
       "Young Adult Audience          203\n",
       "[                             171\n",
       "Romance                       141\n",
       "Western                       132\n",
       "Sports                         96\n",
       "Arts                           86\n",
       "Faith and Spirituality         64\n",
       "LGBTQ                          54\n",
       "Music Videos and Concerts      40\n",
       "Military and War               38\n",
       "Arthouse                       31\n",
       "Fitness                        30\n",
       "Anime                          20\n",
       "Talk Show and Variety           8\n",
       "Name: count, dtype: int64"
      ]
     },
     "execution_count": 24,
     "metadata": {},
     "output_type": "execute_result"
    }
   ],
   "source": [
    "p_movies['categories'].value_counts()"
   ]
  },
  {
   "cell_type": "markdown",
   "id": "a64aaa17",
   "metadata": {},
   "source": [
    "**1. Handle Missing Values**"
   ]
  },
  {
   "cell_type": "code",
   "execution_count": 25,
   "id": "d5b26cb5",
   "metadata": {},
   "outputs": [
    {
     "data": {
      "text/plain": [
       "rating                    0\n",
       "title_x                  24\n",
       "text                     31\n",
       "asin                      0\n",
       "parent_asin               0\n",
       "timestamp                 0\n",
       "verified_purchase         0\n",
       "main_category             0\n",
       "title_y              199810\n",
       "average_rating            3\n",
       "rating_number             3\n",
       "description          199810\n",
       "price                209445\n",
       "categories           199810\n",
       "dtype: int64"
      ]
     },
     "execution_count": 25,
     "metadata": {},
     "output_type": "execute_result"
    }
   ],
   "source": [
    "p_movies.isnull().sum()"
   ]
  },
  {
   "cell_type": "code",
   "execution_count": 26,
   "id": "8b7accd3",
   "metadata": {},
   "outputs": [],
   "source": [
    "p_movies.dropna(inplace=True)"
   ]
  },
  {
   "cell_type": "code",
   "execution_count": 27,
   "id": "01d4338a",
   "metadata": {},
   "outputs": [
    {
     "data": {
      "text/plain": [
       "rating               0\n",
       "title_x              0\n",
       "text                 0\n",
       "asin                 0\n",
       "parent_asin          0\n",
       "timestamp            0\n",
       "verified_purchase    0\n",
       "main_category        0\n",
       "title_y              0\n",
       "average_rating       0\n",
       "rating_number        0\n",
       "description          0\n",
       "price                0\n",
       "categories           0\n",
       "dtype: int64"
      ]
     },
     "execution_count": 27,
     "metadata": {},
     "output_type": "execute_result"
    }
   ],
   "source": [
    "p_movies.isnull().sum()"
   ]
  },
  {
   "cell_type": "markdown",
   "id": "d1cb5083",
   "metadata": {},
   "source": [
    "**2. Remove Duplicates**"
   ]
  },
  {
   "cell_type": "code",
   "execution_count": 28,
   "id": "e6ed9e33",
   "metadata": {},
   "outputs": [
    {
     "data": {
      "text/plain": [
       "52"
      ]
     },
     "execution_count": 28,
     "metadata": {},
     "output_type": "execute_result"
    }
   ],
   "source": [
    "p_movies.duplicated().sum()"
   ]
  },
  {
   "cell_type": "code",
   "execution_count": 29,
   "id": "035ab80c",
   "metadata": {},
   "outputs": [],
   "source": [
    "p_movies.drop_duplicates(inplace=True)"
   ]
  },
  {
   "cell_type": "code",
   "execution_count": 30,
   "id": "bef9043e",
   "metadata": {},
   "outputs": [
    {
     "data": {
      "text/plain": [
       "0"
      ]
     },
     "execution_count": 30,
     "metadata": {},
     "output_type": "execute_result"
    }
   ],
   "source": [
    "p_movies.duplicated().sum()"
   ]
  },
  {
   "cell_type": "code",
   "execution_count": 31,
   "id": "f3880209",
   "metadata": {},
   "outputs": [
    {
     "data": {
      "text/plain": [
       "Index(['rating', 'title_x', 'text', 'asin', 'parent_asin', 'timestamp',\n",
       "       'verified_purchase', 'main_category', 'title_y', 'average_rating',\n",
       "       'rating_number', 'description', 'price', 'categories'],\n",
       "      dtype='object')"
      ]
     },
     "execution_count": 31,
     "metadata": {},
     "output_type": "execute_result"
    }
   ],
   "source": [
    "p_movies.columns"
   ]
  },
  {
   "cell_type": "markdown",
   "id": "612808fc",
   "metadata": {},
   "source": [
    "3. Clean and Convert the timestamp Column"
   ]
  },
  {
   "cell_type": "code",
   "execution_count": 32,
   "id": "ceb1139c",
   "metadata": {},
   "outputs": [],
   "source": [
    "p_movies['timestamp'] = pd.to_datetime(p_movies['timestamp'], errors='coerce')"
   ]
  },
  {
   "cell_type": "code",
   "execution_count": 33,
   "id": "d202296d",
   "metadata": {},
   "outputs": [
    {
     "data": {
      "application/vnd.microsoft.datawrangler.viewer.v0+json": {
       "columns": [
        {
         "name": "index",
         "rawType": "int64",
         "type": "integer"
        },
        {
         "name": "rating",
         "rawType": "int64",
         "type": "integer"
        },
        {
         "name": "title_x",
         "rawType": "object",
         "type": "string"
        },
        {
         "name": "text",
         "rawType": "object",
         "type": "string"
        },
        {
         "name": "asin",
         "rawType": "object",
         "type": "string"
        },
        {
         "name": "parent_asin",
         "rawType": "object",
         "type": "string"
        },
        {
         "name": "timestamp",
         "rawType": "datetime64[ns]",
         "type": "datetime"
        },
        {
         "name": "verified_purchase",
         "rawType": "bool",
         "type": "boolean"
        },
        {
         "name": "main_category",
         "rawType": "object",
         "type": "string"
        },
        {
         "name": "title_y",
         "rawType": "object",
         "type": "string"
        },
        {
         "name": "average_rating",
         "rawType": "float64",
         "type": "float"
        },
        {
         "name": "rating_number",
         "rawType": "float64",
         "type": "float"
        },
        {
         "name": "description",
         "rawType": "object",
         "type": "string"
        },
        {
         "name": "price",
         "rawType": "float64",
         "type": "float"
        },
        {
         "name": "categories",
         "rawType": "object",
         "type": "string"
        }
       ],
       "conversionMethod": "pd.DataFrame",
       "ref": "549d6f70-d36b-471a-9b71-5d7558a9a249",
       "rows": [
        [
         "14",
         "4",
         "Four Stars",
         "It was pretty good. Had some pretty comical scenes throughout. A great chick flick.",
         "B01KBKKU7G",
         "B01KBKKU7G",
         "2016-09-16 18:39:49",
         "True",
         "Prime Video",
         "Seven Girlfriends",
         "3.2",
         "333.0",
         "[\"Jesse  has never had a problem finding a girlfriend. It's maintaining the relationship that's his issue. When an ex-girlfriend of his dies, Jesse impulsively asks his most recent fling, Hannah, to marry him -- a proposal she quickly turns down. Left confused by the rejection and his dating history, Jesse decides to seek out his former loves for answers on why the relationships ended.\"]",
         "12.99",
         "Comedy"
        ],
        [
         "19",
         "3",
         "Ok love story",
         "A bit slow and an unsatisfying ending",
         "B01M0S0C8M",
         "B01M0S0C8M",
         "2016-11-08 22:14:17",
         "True",
         "Prime Video",
         "Still Mine",
         "4.6",
         "4744.0",
         "[\"James Cromwell gives a tour de force performance in 'Still Mine,' a deeply moving love story about a couple in their twilight years. When Craig sets out to build a more suitable house for his ailing wife Irene, he is blindsided by the bureaucratic codes and officials. As Irene becomes increasingly ill, Craig takes a final stance against all odds to finish the house, in a truly inspirational story.\"]",
         "9.99",
         "Drama"
        ],
        [
         "21",
         "1",
         "TRASH",
         "A movie based solely on INCEST. Storyline is garbage and the actors were terrible.",
         "B00G2TAAVM",
         "B00G2TAAVM",
         "2022-08-22 20:06:25.847000",
         "True",
         "Prime Video",
         "How I Live Now",
         "4.3",
         "907.0",
         "['Set in the near-future UK, Saoirse Ronan plays Daisy, an American teenager sent to stay with relatives in the English countryside. Initially withdrawn and alienated, she begins to warm up to her charming surroundings and strikes up a romance with the handsome Edmund (George MacKay). But on the fringes of their idyllic summer days are tense news reports of an escalating conflict in Europe. As the UK falls into a violent, chaotic military state, Daisy finds herself hiding and fighting to survive.']",
         "12.99",
         "International"
        ],
        [
         "27",
         "5",
         "Five Stars",
         "Excellent!!!",
         "B018HJ03UC",
         "B018HJ03UC",
         "2016-01-25 18:47:06",
         "True",
         "Prime Video",
         "The Martian",
         "4.8",
         "45859.0",
         "['From legendary director Ridley Scott (Alien, Prometheus) comes a gripping tale of human strength and the will to survive, starring Matt Damon as an astronaut stranded on Mars.']",
         "4.99",
         "Science Fiction"
        ],
        [
         "70",
         "2",
         "Not what it used to be",
         "This used to be a favorite of mine but I just don’t enjoy it anymore. The way Zahn leads the interviewees in some of the questions is hard to watch. It feels too edited and it feels like it is dumbed down or something. She’ll ask the investigators questions that there could only be one answer to the question and they are usually questions that don’t add anything to the story line. It feels as if this series has run its course, it no longer is different enough or fresh enough to keep people intrigued.",
         "B07FLP19K1",
         "B07FLP19K1",
         "2018-12-03 16:52:02.089000",
         "True",
         "Prime Video",
         "On The Case with Paula Zahn",
         "4.6",
         "141.0",
         "['On The Case with Paula Zahn takes viewers on an exciting journey inside the most fascinating crime and mystery investigations. First person accounts, along with insight from experts are featured as each case reaches its dramatic conclusion.']",
         "22.99",
         "Suspense"
        ]
       ],
       "shape": {
        "columns": 14,
        "rows": 5
       }
      },
      "text/html": [
       "<div>\n",
       "<style scoped>\n",
       "    .dataframe tbody tr th:only-of-type {\n",
       "        vertical-align: middle;\n",
       "    }\n",
       "\n",
       "    .dataframe tbody tr th {\n",
       "        vertical-align: top;\n",
       "    }\n",
       "\n",
       "    .dataframe thead th {\n",
       "        text-align: right;\n",
       "    }\n",
       "</style>\n",
       "<table border=\"1\" class=\"dataframe\">\n",
       "  <thead>\n",
       "    <tr style=\"text-align: right;\">\n",
       "      <th></th>\n",
       "      <th>rating</th>\n",
       "      <th>title_x</th>\n",
       "      <th>text</th>\n",
       "      <th>asin</th>\n",
       "      <th>parent_asin</th>\n",
       "      <th>timestamp</th>\n",
       "      <th>verified_purchase</th>\n",
       "      <th>main_category</th>\n",
       "      <th>title_y</th>\n",
       "      <th>average_rating</th>\n",
       "      <th>rating_number</th>\n",
       "      <th>description</th>\n",
       "      <th>price</th>\n",
       "      <th>categories</th>\n",
       "    </tr>\n",
       "  </thead>\n",
       "  <tbody>\n",
       "    <tr>\n",
       "      <th>14</th>\n",
       "      <td>4</td>\n",
       "      <td>Four Stars</td>\n",
       "      <td>It was pretty good. Had some pretty comical sc...</td>\n",
       "      <td>B01KBKKU7G</td>\n",
       "      <td>B01KBKKU7G</td>\n",
       "      <td>2016-09-16 18:39:49.000</td>\n",
       "      <td>True</td>\n",
       "      <td>Prime Video</td>\n",
       "      <td>Seven Girlfriends</td>\n",
       "      <td>3.2</td>\n",
       "      <td>333.0</td>\n",
       "      <td>[\"Jesse  has never had a problem finding a gir...</td>\n",
       "      <td>12.99</td>\n",
       "      <td>Comedy</td>\n",
       "    </tr>\n",
       "    <tr>\n",
       "      <th>19</th>\n",
       "      <td>3</td>\n",
       "      <td>Ok love story</td>\n",
       "      <td>A bit slow and an unsatisfying ending</td>\n",
       "      <td>B01M0S0C8M</td>\n",
       "      <td>B01M0S0C8M</td>\n",
       "      <td>2016-11-08 22:14:17.000</td>\n",
       "      <td>True</td>\n",
       "      <td>Prime Video</td>\n",
       "      <td>Still Mine</td>\n",
       "      <td>4.6</td>\n",
       "      <td>4744.0</td>\n",
       "      <td>[\"James Cromwell gives a tour de force perform...</td>\n",
       "      <td>9.99</td>\n",
       "      <td>Drama</td>\n",
       "    </tr>\n",
       "    <tr>\n",
       "      <th>21</th>\n",
       "      <td>1</td>\n",
       "      <td>TRASH</td>\n",
       "      <td>A movie based solely on INCEST. Storyline is g...</td>\n",
       "      <td>B00G2TAAVM</td>\n",
       "      <td>B00G2TAAVM</td>\n",
       "      <td>2022-08-22 20:06:25.847</td>\n",
       "      <td>True</td>\n",
       "      <td>Prime Video</td>\n",
       "      <td>How I Live Now</td>\n",
       "      <td>4.3</td>\n",
       "      <td>907.0</td>\n",
       "      <td>['Set in the near-future UK, Saoirse Ronan pla...</td>\n",
       "      <td>12.99</td>\n",
       "      <td>International</td>\n",
       "    </tr>\n",
       "    <tr>\n",
       "      <th>27</th>\n",
       "      <td>5</td>\n",
       "      <td>Five Stars</td>\n",
       "      <td>Excellent!!!</td>\n",
       "      <td>B018HJ03UC</td>\n",
       "      <td>B018HJ03UC</td>\n",
       "      <td>2016-01-25 18:47:06.000</td>\n",
       "      <td>True</td>\n",
       "      <td>Prime Video</td>\n",
       "      <td>The Martian</td>\n",
       "      <td>4.8</td>\n",
       "      <td>45859.0</td>\n",
       "      <td>['From legendary director Ridley Scott (Alien,...</td>\n",
       "      <td>4.99</td>\n",
       "      <td>Science Fiction</td>\n",
       "    </tr>\n",
       "    <tr>\n",
       "      <th>70</th>\n",
       "      <td>2</td>\n",
       "      <td>Not what it used to be</td>\n",
       "      <td>This used to be a favorite of mine but I just ...</td>\n",
       "      <td>B07FLP19K1</td>\n",
       "      <td>B07FLP19K1</td>\n",
       "      <td>2018-12-03 16:52:02.089</td>\n",
       "      <td>True</td>\n",
       "      <td>Prime Video</td>\n",
       "      <td>On The Case with Paula Zahn</td>\n",
       "      <td>4.6</td>\n",
       "      <td>141.0</td>\n",
       "      <td>['On The Case with Paula Zahn takes viewers on...</td>\n",
       "      <td>22.99</td>\n",
       "      <td>Suspense</td>\n",
       "    </tr>\n",
       "  </tbody>\n",
       "</table>\n",
       "</div>"
      ],
      "text/plain": [
       "    rating                 title_x  \\\n",
       "14       4              Four Stars   \n",
       "19       3           Ok love story   \n",
       "21       1                   TRASH   \n",
       "27       5              Five Stars   \n",
       "70       2  Not what it used to be   \n",
       "\n",
       "                                                 text        asin parent_asin  \\\n",
       "14  It was pretty good. Had some pretty comical sc...  B01KBKKU7G  B01KBKKU7G   \n",
       "19              A bit slow and an unsatisfying ending  B01M0S0C8M  B01M0S0C8M   \n",
       "21  A movie based solely on INCEST. Storyline is g...  B00G2TAAVM  B00G2TAAVM   \n",
       "27                                       Excellent!!!  B018HJ03UC  B018HJ03UC   \n",
       "70  This used to be a favorite of mine but I just ...  B07FLP19K1  B07FLP19K1   \n",
       "\n",
       "                 timestamp  verified_purchase main_category  \\\n",
       "14 2016-09-16 18:39:49.000               True   Prime Video   \n",
       "19 2016-11-08 22:14:17.000               True   Prime Video   \n",
       "21 2022-08-22 20:06:25.847               True   Prime Video   \n",
       "27 2016-01-25 18:47:06.000               True   Prime Video   \n",
       "70 2018-12-03 16:52:02.089               True   Prime Video   \n",
       "\n",
       "                        title_y  average_rating  rating_number  \\\n",
       "14            Seven Girlfriends             3.2          333.0   \n",
       "19                   Still Mine             4.6         4744.0   \n",
       "21               How I Live Now             4.3          907.0   \n",
       "27                  The Martian             4.8        45859.0   \n",
       "70  On The Case with Paula Zahn             4.6          141.0   \n",
       "\n",
       "                                          description  price       categories  \n",
       "14  [\"Jesse  has never had a problem finding a gir...  12.99           Comedy  \n",
       "19  [\"James Cromwell gives a tour de force perform...   9.99            Drama  \n",
       "21  ['Set in the near-future UK, Saoirse Ronan pla...  12.99    International  \n",
       "27  ['From legendary director Ridley Scott (Alien,...   4.99  Science Fiction  \n",
       "70  ['On The Case with Paula Zahn takes viewers on...  22.99         Suspense  "
      ]
     },
     "execution_count": 33,
     "metadata": {},
     "output_type": "execute_result"
    }
   ],
   "source": [
    "p_movies.head()"
   ]
  },
  {
   "cell_type": "code",
   "execution_count": 34,
   "id": "33268064",
   "metadata": {},
   "outputs": [],
   "source": [
    "p_movies['year'] = p_movies['timestamp'].dt.year\n",
    "p_movies['month'] = p_movies['timestamp'].dt.month\n",
    "p_movies['weekday'] = p_movies['timestamp'].dt.day_name()"
   ]
  },
  {
   "cell_type": "code",
   "execution_count": 35,
   "id": "979ef0a0",
   "metadata": {},
   "outputs": [
    {
     "data": {
      "application/vnd.microsoft.datawrangler.viewer.v0+json": {
       "columns": [
        {
         "name": "index",
         "rawType": "int64",
         "type": "integer"
        },
        {
         "name": "rating",
         "rawType": "int64",
         "type": "integer"
        },
        {
         "name": "title_x",
         "rawType": "object",
         "type": "string"
        },
        {
         "name": "text",
         "rawType": "object",
         "type": "string"
        },
        {
         "name": "asin",
         "rawType": "object",
         "type": "string"
        },
        {
         "name": "parent_asin",
         "rawType": "object",
         "type": "string"
        },
        {
         "name": "timestamp",
         "rawType": "datetime64[ns]",
         "type": "datetime"
        },
        {
         "name": "verified_purchase",
         "rawType": "bool",
         "type": "boolean"
        },
        {
         "name": "main_category",
         "rawType": "object",
         "type": "string"
        },
        {
         "name": "title_y",
         "rawType": "object",
         "type": "string"
        },
        {
         "name": "average_rating",
         "rawType": "float64",
         "type": "float"
        },
        {
         "name": "rating_number",
         "rawType": "float64",
         "type": "float"
        },
        {
         "name": "description",
         "rawType": "object",
         "type": "string"
        },
        {
         "name": "price",
         "rawType": "float64",
         "type": "float"
        },
        {
         "name": "categories",
         "rawType": "object",
         "type": "string"
        },
        {
         "name": "year",
         "rawType": "int32",
         "type": "integer"
        },
        {
         "name": "month",
         "rawType": "int32",
         "type": "integer"
        },
        {
         "name": "weekday",
         "rawType": "object",
         "type": "string"
        }
       ],
       "conversionMethod": "pd.DataFrame",
       "ref": "6d091652-e6f3-467b-b62a-32be0931a6c3",
       "rows": [
        [
         "14",
         "4",
         "Four Stars",
         "It was pretty good. Had some pretty comical scenes throughout. A great chick flick.",
         "B01KBKKU7G",
         "B01KBKKU7G",
         "2016-09-16 18:39:49",
         "True",
         "Prime Video",
         "Seven Girlfriends",
         "3.2",
         "333.0",
         "[\"Jesse  has never had a problem finding a girlfriend. It's maintaining the relationship that's his issue. When an ex-girlfriend of his dies, Jesse impulsively asks his most recent fling, Hannah, to marry him -- a proposal she quickly turns down. Left confused by the rejection and his dating history, Jesse decides to seek out his former loves for answers on why the relationships ended.\"]",
         "12.99",
         "Comedy",
         "2016",
         "9",
         "Friday"
        ],
        [
         "19",
         "3",
         "Ok love story",
         "A bit slow and an unsatisfying ending",
         "B01M0S0C8M",
         "B01M0S0C8M",
         "2016-11-08 22:14:17",
         "True",
         "Prime Video",
         "Still Mine",
         "4.6",
         "4744.0",
         "[\"James Cromwell gives a tour de force performance in 'Still Mine,' a deeply moving love story about a couple in their twilight years. When Craig sets out to build a more suitable house for his ailing wife Irene, he is blindsided by the bureaucratic codes and officials. As Irene becomes increasingly ill, Craig takes a final stance against all odds to finish the house, in a truly inspirational story.\"]",
         "9.99",
         "Drama",
         "2016",
         "11",
         "Tuesday"
        ],
        [
         "21",
         "1",
         "TRASH",
         "A movie based solely on INCEST. Storyline is garbage and the actors were terrible.",
         "B00G2TAAVM",
         "B00G2TAAVM",
         "2022-08-22 20:06:25.847000",
         "True",
         "Prime Video",
         "How I Live Now",
         "4.3",
         "907.0",
         "['Set in the near-future UK, Saoirse Ronan plays Daisy, an American teenager sent to stay with relatives in the English countryside. Initially withdrawn and alienated, she begins to warm up to her charming surroundings and strikes up a romance with the handsome Edmund (George MacKay). But on the fringes of their idyllic summer days are tense news reports of an escalating conflict in Europe. As the UK falls into a violent, chaotic military state, Daisy finds herself hiding and fighting to survive.']",
         "12.99",
         "International",
         "2022",
         "8",
         "Monday"
        ],
        [
         "27",
         "5",
         "Five Stars",
         "Excellent!!!",
         "B018HJ03UC",
         "B018HJ03UC",
         "2016-01-25 18:47:06",
         "True",
         "Prime Video",
         "The Martian",
         "4.8",
         "45859.0",
         "['From legendary director Ridley Scott (Alien, Prometheus) comes a gripping tale of human strength and the will to survive, starring Matt Damon as an astronaut stranded on Mars.']",
         "4.99",
         "Science Fiction",
         "2016",
         "1",
         "Monday"
        ],
        [
         "70",
         "2",
         "Not what it used to be",
         "This used to be a favorite of mine but I just don’t enjoy it anymore. The way Zahn leads the interviewees in some of the questions is hard to watch. It feels too edited and it feels like it is dumbed down or something. She’ll ask the investigators questions that there could only be one answer to the question and they are usually questions that don’t add anything to the story line. It feels as if this series has run its course, it no longer is different enough or fresh enough to keep people intrigued.",
         "B07FLP19K1",
         "B07FLP19K1",
         "2018-12-03 16:52:02.089000",
         "True",
         "Prime Video",
         "On The Case with Paula Zahn",
         "4.6",
         "141.0",
         "['On The Case with Paula Zahn takes viewers on an exciting journey inside the most fascinating crime and mystery investigations. First person accounts, along with insight from experts are featured as each case reaches its dramatic conclusion.']",
         "22.99",
         "Suspense",
         "2018",
         "12",
         "Monday"
        ]
       ],
       "shape": {
        "columns": 17,
        "rows": 5
       }
      },
      "text/html": [
       "<div>\n",
       "<style scoped>\n",
       "    .dataframe tbody tr th:only-of-type {\n",
       "        vertical-align: middle;\n",
       "    }\n",
       "\n",
       "    .dataframe tbody tr th {\n",
       "        vertical-align: top;\n",
       "    }\n",
       "\n",
       "    .dataframe thead th {\n",
       "        text-align: right;\n",
       "    }\n",
       "</style>\n",
       "<table border=\"1\" class=\"dataframe\">\n",
       "  <thead>\n",
       "    <tr style=\"text-align: right;\">\n",
       "      <th></th>\n",
       "      <th>rating</th>\n",
       "      <th>title_x</th>\n",
       "      <th>text</th>\n",
       "      <th>asin</th>\n",
       "      <th>parent_asin</th>\n",
       "      <th>timestamp</th>\n",
       "      <th>verified_purchase</th>\n",
       "      <th>main_category</th>\n",
       "      <th>title_y</th>\n",
       "      <th>average_rating</th>\n",
       "      <th>rating_number</th>\n",
       "      <th>description</th>\n",
       "      <th>price</th>\n",
       "      <th>categories</th>\n",
       "      <th>year</th>\n",
       "      <th>month</th>\n",
       "      <th>weekday</th>\n",
       "    </tr>\n",
       "  </thead>\n",
       "  <tbody>\n",
       "    <tr>\n",
       "      <th>14</th>\n",
       "      <td>4</td>\n",
       "      <td>Four Stars</td>\n",
       "      <td>It was pretty good. Had some pretty comical sc...</td>\n",
       "      <td>B01KBKKU7G</td>\n",
       "      <td>B01KBKKU7G</td>\n",
       "      <td>2016-09-16 18:39:49.000</td>\n",
       "      <td>True</td>\n",
       "      <td>Prime Video</td>\n",
       "      <td>Seven Girlfriends</td>\n",
       "      <td>3.2</td>\n",
       "      <td>333.0</td>\n",
       "      <td>[\"Jesse  has never had a problem finding a gir...</td>\n",
       "      <td>12.99</td>\n",
       "      <td>Comedy</td>\n",
       "      <td>2016</td>\n",
       "      <td>9</td>\n",
       "      <td>Friday</td>\n",
       "    </tr>\n",
       "    <tr>\n",
       "      <th>19</th>\n",
       "      <td>3</td>\n",
       "      <td>Ok love story</td>\n",
       "      <td>A bit slow and an unsatisfying ending</td>\n",
       "      <td>B01M0S0C8M</td>\n",
       "      <td>B01M0S0C8M</td>\n",
       "      <td>2016-11-08 22:14:17.000</td>\n",
       "      <td>True</td>\n",
       "      <td>Prime Video</td>\n",
       "      <td>Still Mine</td>\n",
       "      <td>4.6</td>\n",
       "      <td>4744.0</td>\n",
       "      <td>[\"James Cromwell gives a tour de force perform...</td>\n",
       "      <td>9.99</td>\n",
       "      <td>Drama</td>\n",
       "      <td>2016</td>\n",
       "      <td>11</td>\n",
       "      <td>Tuesday</td>\n",
       "    </tr>\n",
       "    <tr>\n",
       "      <th>21</th>\n",
       "      <td>1</td>\n",
       "      <td>TRASH</td>\n",
       "      <td>A movie based solely on INCEST. Storyline is g...</td>\n",
       "      <td>B00G2TAAVM</td>\n",
       "      <td>B00G2TAAVM</td>\n",
       "      <td>2022-08-22 20:06:25.847</td>\n",
       "      <td>True</td>\n",
       "      <td>Prime Video</td>\n",
       "      <td>How I Live Now</td>\n",
       "      <td>4.3</td>\n",
       "      <td>907.0</td>\n",
       "      <td>['Set in the near-future UK, Saoirse Ronan pla...</td>\n",
       "      <td>12.99</td>\n",
       "      <td>International</td>\n",
       "      <td>2022</td>\n",
       "      <td>8</td>\n",
       "      <td>Monday</td>\n",
       "    </tr>\n",
       "    <tr>\n",
       "      <th>27</th>\n",
       "      <td>5</td>\n",
       "      <td>Five Stars</td>\n",
       "      <td>Excellent!!!</td>\n",
       "      <td>B018HJ03UC</td>\n",
       "      <td>B018HJ03UC</td>\n",
       "      <td>2016-01-25 18:47:06.000</td>\n",
       "      <td>True</td>\n",
       "      <td>Prime Video</td>\n",
       "      <td>The Martian</td>\n",
       "      <td>4.8</td>\n",
       "      <td>45859.0</td>\n",
       "      <td>['From legendary director Ridley Scott (Alien,...</td>\n",
       "      <td>4.99</td>\n",
       "      <td>Science Fiction</td>\n",
       "      <td>2016</td>\n",
       "      <td>1</td>\n",
       "      <td>Monday</td>\n",
       "    </tr>\n",
       "    <tr>\n",
       "      <th>70</th>\n",
       "      <td>2</td>\n",
       "      <td>Not what it used to be</td>\n",
       "      <td>This used to be a favorite of mine but I just ...</td>\n",
       "      <td>B07FLP19K1</td>\n",
       "      <td>B07FLP19K1</td>\n",
       "      <td>2018-12-03 16:52:02.089</td>\n",
       "      <td>True</td>\n",
       "      <td>Prime Video</td>\n",
       "      <td>On The Case with Paula Zahn</td>\n",
       "      <td>4.6</td>\n",
       "      <td>141.0</td>\n",
       "      <td>['On The Case with Paula Zahn takes viewers on...</td>\n",
       "      <td>22.99</td>\n",
       "      <td>Suspense</td>\n",
       "      <td>2018</td>\n",
       "      <td>12</td>\n",
       "      <td>Monday</td>\n",
       "    </tr>\n",
       "  </tbody>\n",
       "</table>\n",
       "</div>"
      ],
      "text/plain": [
       "    rating                 title_x  \\\n",
       "14       4              Four Stars   \n",
       "19       3           Ok love story   \n",
       "21       1                   TRASH   \n",
       "27       5              Five Stars   \n",
       "70       2  Not what it used to be   \n",
       "\n",
       "                                                 text        asin parent_asin  \\\n",
       "14  It was pretty good. Had some pretty comical sc...  B01KBKKU7G  B01KBKKU7G   \n",
       "19              A bit slow and an unsatisfying ending  B01M0S0C8M  B01M0S0C8M   \n",
       "21  A movie based solely on INCEST. Storyline is g...  B00G2TAAVM  B00G2TAAVM   \n",
       "27                                       Excellent!!!  B018HJ03UC  B018HJ03UC   \n",
       "70  This used to be a favorite of mine but I just ...  B07FLP19K1  B07FLP19K1   \n",
       "\n",
       "                 timestamp  verified_purchase main_category  \\\n",
       "14 2016-09-16 18:39:49.000               True   Prime Video   \n",
       "19 2016-11-08 22:14:17.000               True   Prime Video   \n",
       "21 2022-08-22 20:06:25.847               True   Prime Video   \n",
       "27 2016-01-25 18:47:06.000               True   Prime Video   \n",
       "70 2018-12-03 16:52:02.089               True   Prime Video   \n",
       "\n",
       "                        title_y  average_rating  rating_number  \\\n",
       "14            Seven Girlfriends             3.2          333.0   \n",
       "19                   Still Mine             4.6         4744.0   \n",
       "21               How I Live Now             4.3          907.0   \n",
       "27                  The Martian             4.8        45859.0   \n",
       "70  On The Case with Paula Zahn             4.6          141.0   \n",
       "\n",
       "                                          description  price       categories  \\\n",
       "14  [\"Jesse  has never had a problem finding a gir...  12.99           Comedy   \n",
       "19  [\"James Cromwell gives a tour de force perform...   9.99            Drama   \n",
       "21  ['Set in the near-future UK, Saoirse Ronan pla...  12.99    International   \n",
       "27  ['From legendary director Ridley Scott (Alien,...   4.99  Science Fiction   \n",
       "70  ['On The Case with Paula Zahn takes viewers on...  22.99         Suspense   \n",
       "\n",
       "    year  month  weekday  \n",
       "14  2016      9   Friday  \n",
       "19  2016     11  Tuesday  \n",
       "21  2022      8   Monday  \n",
       "27  2016      1   Monday  \n",
       "70  2018     12   Monday  "
      ]
     },
     "execution_count": 35,
     "metadata": {},
     "output_type": "execute_result"
    }
   ],
   "source": [
    "p_movies.head()"
   ]
  },
  {
   "cell_type": "code",
   "execution_count": 36,
   "id": "0c4aa013",
   "metadata": {},
   "outputs": [
    {
     "data": {
      "text/plain": [
       "(24112, 17)"
      ]
     },
     "execution_count": 36,
     "metadata": {},
     "output_type": "execute_result"
    }
   ],
   "source": [
    "p_movies.shape\n"
   ]
  },
  {
   "cell_type": "code",
   "execution_count": 37,
   "id": "d29d1f16",
   "metadata": {},
   "outputs": [
    {
     "data": {
      "text/plain": [
       "rating               0\n",
       "title_x              0\n",
       "text                 0\n",
       "asin                 0\n",
       "parent_asin          0\n",
       "timestamp            0\n",
       "verified_purchase    0\n",
       "main_category        0\n",
       "title_y              0\n",
       "average_rating       0\n",
       "rating_number        0\n",
       "description          0\n",
       "price                0\n",
       "categories           0\n",
       "year                 0\n",
       "month                0\n",
       "weekday              0\n",
       "dtype: int64"
      ]
     },
     "execution_count": 37,
     "metadata": {},
     "output_type": "execute_result"
    }
   ],
   "source": [
    "p_movies.isnull().sum()\n"
   ]
  },
  {
   "cell_type": "code",
   "execution_count": 43,
   "id": "5ed3a6af",
   "metadata": {},
   "outputs": [],
   "source": [
    "p_movies.to_csv('cleaned_p_movies.csv', index=False)"
   ]
  },
  {
   "cell_type": "markdown",
   "id": "804f15f6",
   "metadata": {},
   "source": [
    "# **Exploratory Data Analysis (EDA) and visualizations**"
   ]
  },
  {
   "cell_type": "markdown",
   "id": "1b2cf62d",
   "metadata": {},
   "source": [
    "### Loading cleaned dataset"
   ]
  },
  {
   "cell_type": "code",
   "execution_count": 44,
   "id": "089e4293",
   "metadata": {},
   "outputs": [
    {
     "data": {
      "application/vnd.microsoft.datawrangler.viewer.v0+json": {
       "columns": [
        {
         "name": "index",
         "rawType": "int64",
         "type": "integer"
        },
        {
         "name": "rating",
         "rawType": "int64",
         "type": "integer"
        },
        {
         "name": "title_x",
         "rawType": "object",
         "type": "string"
        },
        {
         "name": "text",
         "rawType": "object",
         "type": "string"
        },
        {
         "name": "asin",
         "rawType": "object",
         "type": "string"
        },
        {
         "name": "parent_asin",
         "rawType": "object",
         "type": "string"
        },
        {
         "name": "timestamp",
         "rawType": "object",
         "type": "string"
        },
        {
         "name": "verified_purchase",
         "rawType": "bool",
         "type": "boolean"
        },
        {
         "name": "main_category",
         "rawType": "object",
         "type": "string"
        },
        {
         "name": "title_y",
         "rawType": "object",
         "type": "string"
        },
        {
         "name": "average_rating",
         "rawType": "float64",
         "type": "float"
        },
        {
         "name": "rating_number",
         "rawType": "float64",
         "type": "float"
        },
        {
         "name": "description",
         "rawType": "object",
         "type": "string"
        },
        {
         "name": "price",
         "rawType": "float64",
         "type": "float"
        },
        {
         "name": "categories",
         "rawType": "object",
         "type": "string"
        },
        {
         "name": "year",
         "rawType": "int64",
         "type": "integer"
        },
        {
         "name": "month",
         "rawType": "int64",
         "type": "integer"
        },
        {
         "name": "weekday",
         "rawType": "object",
         "type": "string"
        }
       ],
       "conversionMethod": "pd.DataFrame",
       "ref": "b2851cd3-b745-4fe2-a835-f905989707d0",
       "rows": [
        [
         "0",
         "4",
         "Four Stars",
         "It was pretty good. Had some pretty comical scenes throughout. A great chick flick.",
         "B01KBKKU7G",
         "B01KBKKU7G",
         "2016-09-16 18:39:49.000",
         "True",
         "Prime Video",
         "Seven Girlfriends",
         "3.2",
         "333.0",
         "[\"Jesse  has never had a problem finding a girlfriend. It's maintaining the relationship that's his issue. When an ex-girlfriend of his dies, Jesse impulsively asks his most recent fling, Hannah, to marry him -- a proposal she quickly turns down. Left confused by the rejection and his dating history, Jesse decides to seek out his former loves for answers on why the relationships ended.\"]",
         "12.99",
         "Comedy",
         "2016",
         "9",
         "Friday"
        ],
        [
         "1",
         "3",
         "Ok love story",
         "A bit slow and an unsatisfying ending",
         "B01M0S0C8M",
         "B01M0S0C8M",
         "2016-11-08 22:14:17.000",
         "True",
         "Prime Video",
         "Still Mine",
         "4.6",
         "4744.0",
         "[\"James Cromwell gives a tour de force performance in 'Still Mine,' a deeply moving love story about a couple in their twilight years. When Craig sets out to build a more suitable house for his ailing wife Irene, he is blindsided by the bureaucratic codes and officials. As Irene becomes increasingly ill, Craig takes a final stance against all odds to finish the house, in a truly inspirational story.\"]",
         "9.99",
         "Drama",
         "2016",
         "11",
         "Tuesday"
        ],
        [
         "2",
         "1",
         "TRASH",
         "A movie based solely on INCEST. Storyline is garbage and the actors were terrible.",
         "B00G2TAAVM",
         "B00G2TAAVM",
         "2022-08-22 20:06:25.847",
         "True",
         "Prime Video",
         "How I Live Now",
         "4.3",
         "907.0",
         "['Set in the near-future UK, Saoirse Ronan plays Daisy, an American teenager sent to stay with relatives in the English countryside. Initially withdrawn and alienated, she begins to warm up to her charming surroundings and strikes up a romance with the handsome Edmund (George MacKay). But on the fringes of their idyllic summer days are tense news reports of an escalating conflict in Europe. As the UK falls into a violent, chaotic military state, Daisy finds herself hiding and fighting to survive.']",
         "12.99",
         "International",
         "2022",
         "8",
         "Monday"
        ],
        [
         "3",
         "5",
         "Five Stars",
         "Excellent!!!",
         "B018HJ03UC",
         "B018HJ03UC",
         "2016-01-25 18:47:06.000",
         "True",
         "Prime Video",
         "The Martian",
         "4.8",
         "45859.0",
         "['From legendary director Ridley Scott (Alien, Prometheus) comes a gripping tale of human strength and the will to survive, starring Matt Damon as an astronaut stranded on Mars.']",
         "4.99",
         "Science Fiction",
         "2016",
         "1",
         "Monday"
        ],
        [
         "4",
         "2",
         "Not what it used to be",
         "This used to be a favorite of mine but I just don’t enjoy it anymore. The way Zahn leads the interviewees in some of the questions is hard to watch. It feels too edited and it feels like it is dumbed down or something. She’ll ask the investigators questions that there could only be one answer to the question and they are usually questions that don’t add anything to the story line. It feels as if this series has run its course, it no longer is different enough or fresh enough to keep people intrigued.",
         "B07FLP19K1",
         "B07FLP19K1",
         "2018-12-03 16:52:02.089",
         "True",
         "Prime Video",
         "On The Case with Paula Zahn",
         "4.6",
         "141.0",
         "['On The Case with Paula Zahn takes viewers on an exciting journey inside the most fascinating crime and mystery investigations. First person accounts, along with insight from experts are featured as each case reaches its dramatic conclusion.']",
         "22.99",
         "Suspense",
         "2018",
         "12",
         "Monday"
        ]
       ],
       "shape": {
        "columns": 17,
        "rows": 5
       }
      },
      "text/html": [
       "<div>\n",
       "<style scoped>\n",
       "    .dataframe tbody tr th:only-of-type {\n",
       "        vertical-align: middle;\n",
       "    }\n",
       "\n",
       "    .dataframe tbody tr th {\n",
       "        vertical-align: top;\n",
       "    }\n",
       "\n",
       "    .dataframe thead th {\n",
       "        text-align: right;\n",
       "    }\n",
       "</style>\n",
       "<table border=\"1\" class=\"dataframe\">\n",
       "  <thead>\n",
       "    <tr style=\"text-align: right;\">\n",
       "      <th></th>\n",
       "      <th>rating</th>\n",
       "      <th>title_x</th>\n",
       "      <th>text</th>\n",
       "      <th>asin</th>\n",
       "      <th>parent_asin</th>\n",
       "      <th>timestamp</th>\n",
       "      <th>verified_purchase</th>\n",
       "      <th>main_category</th>\n",
       "      <th>title_y</th>\n",
       "      <th>average_rating</th>\n",
       "      <th>rating_number</th>\n",
       "      <th>description</th>\n",
       "      <th>price</th>\n",
       "      <th>categories</th>\n",
       "      <th>year</th>\n",
       "      <th>month</th>\n",
       "      <th>weekday</th>\n",
       "    </tr>\n",
       "  </thead>\n",
       "  <tbody>\n",
       "    <tr>\n",
       "      <th>0</th>\n",
       "      <td>4</td>\n",
       "      <td>Four Stars</td>\n",
       "      <td>It was pretty good. Had some pretty comical sc...</td>\n",
       "      <td>B01KBKKU7G</td>\n",
       "      <td>B01KBKKU7G</td>\n",
       "      <td>2016-09-16 18:39:49.000</td>\n",
       "      <td>True</td>\n",
       "      <td>Prime Video</td>\n",
       "      <td>Seven Girlfriends</td>\n",
       "      <td>3.2</td>\n",
       "      <td>333.0</td>\n",
       "      <td>[\"Jesse  has never had a problem finding a gir...</td>\n",
       "      <td>12.99</td>\n",
       "      <td>Comedy</td>\n",
       "      <td>2016</td>\n",
       "      <td>9</td>\n",
       "      <td>Friday</td>\n",
       "    </tr>\n",
       "    <tr>\n",
       "      <th>1</th>\n",
       "      <td>3</td>\n",
       "      <td>Ok love story</td>\n",
       "      <td>A bit slow and an unsatisfying ending</td>\n",
       "      <td>B01M0S0C8M</td>\n",
       "      <td>B01M0S0C8M</td>\n",
       "      <td>2016-11-08 22:14:17.000</td>\n",
       "      <td>True</td>\n",
       "      <td>Prime Video</td>\n",
       "      <td>Still Mine</td>\n",
       "      <td>4.6</td>\n",
       "      <td>4744.0</td>\n",
       "      <td>[\"James Cromwell gives a tour de force perform...</td>\n",
       "      <td>9.99</td>\n",
       "      <td>Drama</td>\n",
       "      <td>2016</td>\n",
       "      <td>11</td>\n",
       "      <td>Tuesday</td>\n",
       "    </tr>\n",
       "    <tr>\n",
       "      <th>2</th>\n",
       "      <td>1</td>\n",
       "      <td>TRASH</td>\n",
       "      <td>A movie based solely on INCEST. Storyline is g...</td>\n",
       "      <td>B00G2TAAVM</td>\n",
       "      <td>B00G2TAAVM</td>\n",
       "      <td>2022-08-22 20:06:25.847</td>\n",
       "      <td>True</td>\n",
       "      <td>Prime Video</td>\n",
       "      <td>How I Live Now</td>\n",
       "      <td>4.3</td>\n",
       "      <td>907.0</td>\n",
       "      <td>['Set in the near-future UK, Saoirse Ronan pla...</td>\n",
       "      <td>12.99</td>\n",
       "      <td>International</td>\n",
       "      <td>2022</td>\n",
       "      <td>8</td>\n",
       "      <td>Monday</td>\n",
       "    </tr>\n",
       "    <tr>\n",
       "      <th>3</th>\n",
       "      <td>5</td>\n",
       "      <td>Five Stars</td>\n",
       "      <td>Excellent!!!</td>\n",
       "      <td>B018HJ03UC</td>\n",
       "      <td>B018HJ03UC</td>\n",
       "      <td>2016-01-25 18:47:06.000</td>\n",
       "      <td>True</td>\n",
       "      <td>Prime Video</td>\n",
       "      <td>The Martian</td>\n",
       "      <td>4.8</td>\n",
       "      <td>45859.0</td>\n",
       "      <td>['From legendary director Ridley Scott (Alien,...</td>\n",
       "      <td>4.99</td>\n",
       "      <td>Science Fiction</td>\n",
       "      <td>2016</td>\n",
       "      <td>1</td>\n",
       "      <td>Monday</td>\n",
       "    </tr>\n",
       "    <tr>\n",
       "      <th>4</th>\n",
       "      <td>2</td>\n",
       "      <td>Not what it used to be</td>\n",
       "      <td>This used to be a favorite of mine but I just ...</td>\n",
       "      <td>B07FLP19K1</td>\n",
       "      <td>B07FLP19K1</td>\n",
       "      <td>2018-12-03 16:52:02.089</td>\n",
       "      <td>True</td>\n",
       "      <td>Prime Video</td>\n",
       "      <td>On The Case with Paula Zahn</td>\n",
       "      <td>4.6</td>\n",
       "      <td>141.0</td>\n",
       "      <td>['On The Case with Paula Zahn takes viewers on...</td>\n",
       "      <td>22.99</td>\n",
       "      <td>Suspense</td>\n",
       "      <td>2018</td>\n",
       "      <td>12</td>\n",
       "      <td>Monday</td>\n",
       "    </tr>\n",
       "  </tbody>\n",
       "</table>\n",
       "</div>"
      ],
      "text/plain": [
       "   rating                 title_x  \\\n",
       "0       4              Four Stars   \n",
       "1       3           Ok love story   \n",
       "2       1                   TRASH   \n",
       "3       5              Five Stars   \n",
       "4       2  Not what it used to be   \n",
       "\n",
       "                                                text        asin parent_asin  \\\n",
       "0  It was pretty good. Had some pretty comical sc...  B01KBKKU7G  B01KBKKU7G   \n",
       "1              A bit slow and an unsatisfying ending  B01M0S0C8M  B01M0S0C8M   \n",
       "2  A movie based solely on INCEST. Storyline is g...  B00G2TAAVM  B00G2TAAVM   \n",
       "3                                       Excellent!!!  B018HJ03UC  B018HJ03UC   \n",
       "4  This used to be a favorite of mine but I just ...  B07FLP19K1  B07FLP19K1   \n",
       "\n",
       "                 timestamp  verified_purchase main_category  \\\n",
       "0  2016-09-16 18:39:49.000               True   Prime Video   \n",
       "1  2016-11-08 22:14:17.000               True   Prime Video   \n",
       "2  2022-08-22 20:06:25.847               True   Prime Video   \n",
       "3  2016-01-25 18:47:06.000               True   Prime Video   \n",
       "4  2018-12-03 16:52:02.089               True   Prime Video   \n",
       "\n",
       "                       title_y  average_rating  rating_number  \\\n",
       "0            Seven Girlfriends             3.2          333.0   \n",
       "1                   Still Mine             4.6         4744.0   \n",
       "2               How I Live Now             4.3          907.0   \n",
       "3                  The Martian             4.8        45859.0   \n",
       "4  On The Case with Paula Zahn             4.6          141.0   \n",
       "\n",
       "                                         description  price       categories  \\\n",
       "0  [\"Jesse  has never had a problem finding a gir...  12.99           Comedy   \n",
       "1  [\"James Cromwell gives a tour de force perform...   9.99            Drama   \n",
       "2  ['Set in the near-future UK, Saoirse Ronan pla...  12.99    International   \n",
       "3  ['From legendary director Ridley Scott (Alien,...   4.99  Science Fiction   \n",
       "4  ['On The Case with Paula Zahn takes viewers on...  22.99         Suspense   \n",
       "\n",
       "   year  month  weekday  \n",
       "0  2016      9   Friday  \n",
       "1  2016     11  Tuesday  \n",
       "2  2022      8   Monday  \n",
       "3  2016      1   Monday  \n",
       "4  2018     12   Monday  "
      ]
     },
     "execution_count": 44,
     "metadata": {},
     "output_type": "execute_result"
    }
   ],
   "source": [
    "p_c_movies = pd.read_csv(\"cleaned_p_movies.csv\")\n",
    "p_c_movies.head()"
   ]
  },
  {
   "cell_type": "markdown",
   "id": "7858b14b",
   "metadata": {},
   "source": [
    "### 1. Basic Data Overview\n",
    "Check dataset structure and summary statistics"
   ]
  },
  {
   "cell_type": "code",
   "execution_count": 45,
   "id": "eb1a6472",
   "metadata": {},
   "outputs": [
    {
     "name": "stdout",
     "output_type": "stream",
     "text": [
      "<class 'pandas.core.frame.DataFrame'>\n",
      "RangeIndex: 24112 entries, 0 to 24111\n",
      "Data columns (total 17 columns):\n",
      " #   Column             Non-Null Count  Dtype  \n",
      "---  ------             --------------  -----  \n",
      " 0   rating             24112 non-null  int64  \n",
      " 1   title_x            24112 non-null  object \n",
      " 2   text               24112 non-null  object \n",
      " 3   asin               24112 non-null  object \n",
      " 4   parent_asin        24112 non-null  object \n",
      " 5   timestamp          24112 non-null  object \n",
      " 6   verified_purchase  24112 non-null  bool   \n",
      " 7   main_category      24112 non-null  object \n",
      " 8   title_y            24112 non-null  object \n",
      " 9   average_rating     24112 non-null  float64\n",
      " 10  rating_number      24112 non-null  float64\n",
      " 11  description        24112 non-null  object \n",
      " 12  price              24112 non-null  float64\n",
      " 13  categories         24112 non-null  object \n",
      " 14  year               24112 non-null  int64  \n",
      " 15  month              24112 non-null  int64  \n",
      " 16  weekday            24112 non-null  object \n",
      "dtypes: bool(1), float64(3), int64(3), object(10)\n",
      "memory usage: 3.0+ MB\n",
      "None\n",
      "              rating     title_x         text        asin parent_asin  \\\n",
      "count   24112.000000       24112        24112       24112       24112   \n",
      "unique           NaN       14926        21799        6220        6220   \n",
      "top              NaN  Five Stars  Great movie  B07S3XZRM4  B07S3XZRM4   \n",
      "freq             NaN        3059          146         265         265   \n",
      "mean        4.121724         NaN          NaN         NaN         NaN   \n",
      "std         1.269626         NaN          NaN         NaN         NaN   \n",
      "min         1.000000         NaN          NaN         NaN         NaN   \n",
      "25%         4.000000         NaN          NaN         NaN         NaN   \n",
      "50%         5.000000         NaN          NaN         NaN         NaN   \n",
      "75%         5.000000         NaN          NaN         NaN         NaN   \n",
      "max         5.000000         NaN          NaN         NaN         NaN   \n",
      "\n",
      "                      timestamp verified_purchase main_category  title_y  \\\n",
      "count                     24112             24112         24112    24112   \n",
      "unique                    24108                 2             1     5392   \n",
      "top     2016-02-28 02:41:52.000              True   Prime Video  Aladdin   \n",
      "freq                          2             19839         24112      287   \n",
      "mean                        NaN               NaN           NaN      NaN   \n",
      "std                         NaN               NaN           NaN      NaN   \n",
      "min                         NaN               NaN           NaN      NaN   \n",
      "25%                         NaN               NaN           NaN      NaN   \n",
      "50%                         NaN               NaN           NaN      NaN   \n",
      "75%                         NaN               NaN           NaN      NaN   \n",
      "max                         NaN               NaN           NaN      NaN   \n",
      "\n",
      "        average_rating  rating_number  \\\n",
      "count     24112.000000   24112.000000   \n",
      "unique             NaN            NaN   \n",
      "top                NaN            NaN   \n",
      "freq               NaN            NaN   \n",
      "mean          4.507005   13685.687873   \n",
      "std           0.358735   21184.469923   \n",
      "min           1.900000       2.000000   \n",
      "25%           4.400000     990.000000   \n",
      "50%           4.600000    5021.500000   \n",
      "75%           4.700000   17750.000000   \n",
      "max           5.000000  193550.000000   \n",
      "\n",
      "                                              description         price  \\\n",
      "count                                               24112  24112.000000   \n",
      "unique                                               5737           NaN   \n",
      "top     ['From Disney comes the thrilling and vibrant ...           NaN   \n",
      "freq                                                  287           NaN   \n",
      "mean                                                  NaN     14.568819   \n",
      "std                                                   NaN      7.191598   \n",
      "min                                                   NaN      0.000000   \n",
      "25%                                                   NaN      9.990000   \n",
      "50%                                                   NaN     14.690000   \n",
      "75%                                                   NaN     16.790000   \n",
      "max                                                   NaN    124.990000   \n",
      "\n",
      "       categories          year         month weekday  \n",
      "count       24112  24112.000000  24112.000000   24112  \n",
      "unique         29           NaN           NaN       7  \n",
      "top        Comedy           NaN           NaN  Monday  \n",
      "freq         5839           NaN           NaN    3676  \n",
      "mean          NaN   2017.147686      6.358825     NaN  \n",
      "std           NaN      2.602637      3.518188     NaN  \n",
      "min           NaN   2009.000000      1.000000     NaN  \n",
      "25%           NaN   2015.000000      3.000000     NaN  \n",
      "50%           NaN   2017.000000      6.000000     NaN  \n",
      "75%           NaN   2019.000000      9.000000     NaN  \n",
      "max           NaN   2023.000000     12.000000     NaN  \n"
     ]
    },
    {
     "data": {
      "image/png": "[encoded data removed]",
      "text/plain": [
       "<Figure size 1000x500 with 1 Axes>"
      ]
     },
     "metadata": {},
     "output_type": "display_data"
    }
   ],
   "source": [
    "import pandas as pd\n",
    "import matplotlib.pyplot as plt\n",
    "import seaborn as sns\n",
    "\n",
    "# Overview of the dataset\n",
    "print(p_c_movies.info())\n",
    "print(p_c_movies.describe(include='all'))\n",
    "\n",
    "# Check for missing values\n",
    "plt.figure(figsize=(10,5))\n",
    "sns.heatmap(p_movies.isnull(), cbar=False, cmap='viridis')\n",
    "plt.title('Missing Values Heatmap')\n",
    "plt.show()\n"
   ]
  },
  {
   "cell_type": "code",
   "execution_count": 46,
   "id": "c3a5f83f",
   "metadata": {},
   "outputs": [
    {
     "data": {
      "image/png": "[encoded data removed]",
      "text/plain": [
       "<Figure size 800x500 with 1 Axes>"
      ]
     },
     "metadata": {},
     "output_type": "display_data"
    }
   ],
   "source": [
    "plt.figure(figsize=(8,5))\n",
    "sns.histplot(p_c_movies['rating'], bins=10, kde=True, color='blue')\n",
    "plt.title('Distribution of Movie Ratings')\n",
    "plt.xlabel('Rating')\n",
    "plt.ylabel('Frequency')\n",
    "plt.show()\n"
   ]
  },
  {
   "cell_type": "code",
   "execution_count": 50,
   "id": "f93745ef",
   "metadata": {},
   "outputs": [
    {
     "data": {
      "image/png": "[encoded data removed]",
      "text/plain": [
       "<Figure size 1000x500 with 1 Axes>"
      ]
     },
     "metadata": {},
     "output_type": "display_data"
    }
   ],
   "source": [
    "plt.figure(figsize=(10,5))\n",
    "category_ratings = p_c_movies.groupby('categories')['average_rating'].mean().sort_values()\n",
    "category_ratings.plot(kind='bar', color='teal')\n",
    "plt.title('Average Rating per Category')\n",
    "plt.xlabel('Category')\n",
    "plt.ylabel('Average Rating')\n",
    "plt.xticks(rotation=90)\n",
    "plt.show()\n"
   ]
  },
  {
   "cell_type": "code",
   "execution_count": 51,
   "id": "47a3f014",
   "metadata": {},
   "outputs": [
    {
     "data": {
      "image/png": "[encoded data removed]",
      "text/plain": [
       "<Figure size 800x500 with 1 Axes>"
      ]
     },
     "metadata": {},
     "output_type": "display_data"
    }
   ],
   "source": [
    "plt.figure(figsize=(8,5))\n",
    "sns.scatterplot(x=p_c_movies['price'], y=p_movies['average_rating'], alpha=0.5)\n",
    "plt.title('Price vs. Average Rating')\n",
    "plt.xlabel('Price')\n",
    "plt.ylabel('Average Rating')\n",
    "plt.show()\n"
   ]
  },
  {
   "cell_type": "code",
   "execution_count": 52,
   "id": "afe0574f",
   "metadata": {},
   "outputs": [
    {
     "name": "stderr",
     "output_type": "stream",
     "text": [
      "C:\\Users\\Edwin George\\AppData\\Local\\Temp\\ipykernel_2780\\53610226.py:2: FutureWarning: \n",
      "\n",
      "Passing `palette` without assigning `hue` is deprecated and will be removed in v0.14.0. Assign the `x` variable to `hue` and set `legend=False` for the same effect.\n",
      "\n",
      "  sns.countplot(x='verified_purchase', data=p_c_movies, palette='Set2')\n"
     ]
    },
    {
     "data": {
      "image/png": "[encoded data removed]",
      "text/plain": [
       "<Figure size 600x500 with 1 Axes>"
      ]
     },
     "metadata": {},
     "output_type": "display_data"
    }
   ],
   "source": [
    "plt.figure(figsize=(6,5))\n",
    "sns.countplot(x='verified_purchase', data=p_c_movies, palette='Set2')\n",
    "plt.title('Verified vs. Unverified Purchases')\n",
    "plt.xlabel('Verified Purchase')\n",
    "plt.ylabel('Count')\n",
    "plt.xticks(ticks=[0,1], labels=['No', 'Yes'])\n",
    "plt.show()\n"
   ]
  },
  {
   "cell_type": "code",
   "execution_count": null,
   "id": "b88caece",
   "metadata": {},
   "outputs": [
    {
     "data": {
      "image/png": "[encoded data removed]",
      "text/plain": [
       "<Figure size 1000x500 with 1 Axes>"
      ]
     },
     "metadata": {},
     "output_type": "display_data"
    }
   ],
   "source": [
    "plt.figure(figsize=(10,5))\n",
    "p_c_movies['categories'].value_counts().nlargest(10).plot(kind='bar', color='purple')\n",
    "plt.title('Top 10 Most Frequent Categories')\n",
    "plt.xlabel('Category')\n",
    "plt.ylabel('Count')\n",
    "plt.xticks(rotation=45)\n",
    "plt.show()"
   ]
  },
  {
   "cell_type": "code",
   "execution_count": 58,
   "id": "67ebfe52",
   "metadata": {},
   "outputs": [
    {
     "data": {
      "application/vnd.microsoft.datawrangler.viewer.v0+json": {
       "columns": [
        {
         "name": "index",
         "rawType": "int64",
         "type": "integer"
        },
        {
         "name": "rating",
         "rawType": "int64",
         "type": "integer"
        },
        {
         "name": "title_x",
         "rawType": "object",
         "type": "string"
        },
        {
         "name": "text",
         "rawType": "object",
         "type": "string"
        },
        {
         "name": "asin",
         "rawType": "object",
         "type": "string"
        },
        {
         "name": "parent_asin",
         "rawType": "object",
         "type": "string"
        },
        {
         "name": "timestamp",
         "rawType": "object",
         "type": "string"
        },
        {
         "name": "verified_purchase",
         "rawType": "bool",
         "type": "boolean"
        },
        {
         "name": "main_category",
         "rawType": "object",
         "type": "string"
        },
        {
         "name": "title_y",
         "rawType": "object",
         "type": "string"
        },
        {
         "name": "average_rating",
         "rawType": "float64",
         "type": "float"
        },
        {
         "name": "rating_number",
         "rawType": "float64",
         "type": "float"
        },
        {
         "name": "description",
         "rawType": "object",
         "type": "string"
        },
        {
         "name": "price",
         "rawType": "float64",
         "type": "float"
        },
        {
         "name": "categories",
         "rawType": "object",
         "type": "string"
        },
        {
         "name": "year",
         "rawType": "int64",
         "type": "integer"
        },
        {
         "name": "month",
         "rawType": "int64",
         "type": "integer"
        },
        {
         "name": "weekday",
         "rawType": "object",
         "type": "string"
        }
       ],
       "conversionMethod": "pd.DataFrame",
       "ref": "e2b892cb-fe9d-4aa7-b965-752d6a6a31e7",
       "rows": [
        [
         "0",
         "4",
         "Four Stars",
         "It was pretty good. Had some pretty comical scenes throughout. A great chick flick.",
         "B01KBKKU7G",
         "B01KBKKU7G",
         "2016-09-16 18:39:49.000",
         "True",
         "Prime Video",
         "Seven Girlfriends",
         "3.2",
         "333.0",
         "[\"Jesse  has never had a problem finding a girlfriend. It's maintaining the relationship that's his issue. When an ex-girlfriend of his dies, Jesse impulsively asks his most recent fling, Hannah, to marry him -- a proposal she quickly turns down. Left confused by the rejection and his dating history, Jesse decides to seek out his former loves for answers on why the relationships ended.\"]",
         "12.99",
         "Comedy",
         "2016",
         "9",
         "Friday"
        ],
        [
         "1",
         "3",
         "Ok love story",
         "A bit slow and an unsatisfying ending",
         "B01M0S0C8M",
         "B01M0S0C8M",
         "2016-11-08 22:14:17.000",
         "True",
         "Prime Video",
         "Still Mine",
         "4.6",
         "4744.0",
         "[\"James Cromwell gives a tour de force performance in 'Still Mine,' a deeply moving love story about a couple in their twilight years. When Craig sets out to build a more suitable house for his ailing wife Irene, he is blindsided by the bureaucratic codes and officials. As Irene becomes increasingly ill, Craig takes a final stance against all odds to finish the house, in a truly inspirational story.\"]",
         "9.99",
         "Drama",
         "2016",
         "11",
         "Tuesday"
        ],
        [
         "2",
         "1",
         "TRASH",
         "A movie based solely on INCEST. Storyline is garbage and the actors were terrible.",
         "B00G2TAAVM",
         "B00G2TAAVM",
         "2022-08-22 20:06:25.847",
         "True",
         "Prime Video",
         "How I Live Now",
         "4.3",
         "907.0",
         "['Set in the near-future UK, Saoirse Ronan plays Daisy, an American teenager sent to stay with relatives in the English countryside. Initially withdrawn and alienated, she begins to warm up to her charming surroundings and strikes up a romance with the handsome Edmund (George MacKay). But on the fringes of their idyllic summer days are tense news reports of an escalating conflict in Europe. As the UK falls into a violent, chaotic military state, Daisy finds herself hiding and fighting to survive.']",
         "12.99",
         "International",
         "2022",
         "8",
         "Monday"
        ],
        [
         "3",
         "5",
         "Five Stars",
         "Excellent!!!",
         "B018HJ03UC",
         "B018HJ03UC",
         "2016-01-25 18:47:06.000",
         "True",
         "Prime Video",
         "The Martian",
         "4.8",
         "45859.0",
         "['From legendary director Ridley Scott (Alien, Prometheus) comes a gripping tale of human strength and the will to survive, starring Matt Damon as an astronaut stranded on Mars.']",
         "4.99",
         "Science Fiction",
         "2016",
         "1",
         "Monday"
        ],
        [
         "4",
         "2",
         "Not what it used to be",
         "This used to be a favorite of mine but I just don’t enjoy it anymore. The way Zahn leads the interviewees in some of the questions is hard to watch. It feels too edited and it feels like it is dumbed down or something. She’ll ask the investigators questions that there could only be one answer to the question and they are usually questions that don’t add anything to the story line. It feels as if this series has run its course, it no longer is different enough or fresh enough to keep people intrigued.",
         "B07FLP19K1",
         "B07FLP19K1",
         "2018-12-03 16:52:02.089",
         "True",
         "Prime Video",
         "On The Case with Paula Zahn",
         "4.6",
         "141.0",
         "['On The Case with Paula Zahn takes viewers on an exciting journey inside the most fascinating crime and mystery investigations. First person accounts, along with insight from experts are featured as each case reaches its dramatic conclusion.']",
         "22.99",
         "Suspense",
         "2018",
         "12",
         "Monday"
        ]
       ],
       "shape": {
        "columns": 17,
        "rows": 5
       }
      },
      "text/html": [
       "<div>\n",
       "<style scoped>\n",
       "    .dataframe tbody tr th:only-of-type {\n",
       "        vertical-align: middle;\n",
       "    }\n",
       "\n",
       "    .dataframe tbody tr th {\n",
       "        vertical-align: top;\n",
       "    }\n",
       "\n",
       "    .dataframe thead th {\n",
       "        text-align: right;\n",
       "    }\n",
       "</style>\n",
       "<table border=\"1\" class=\"dataframe\">\n",
       "  <thead>\n",
       "    <tr style=\"text-align: right;\">\n",
       "      <th></th>\n",
       "      <th>rating</th>\n",
       "      <th>title_x</th>\n",
       "      <th>text</th>\n",
       "      <th>asin</th>\n",
       "      <th>parent_asin</th>\n",
       "      <th>timestamp</th>\n",
       "      <th>verified_purchase</th>\n",
       "      <th>main_category</th>\n",
       "      <th>title_y</th>\n",
       "      <th>average_rating</th>\n",
       "      <th>rating_number</th>\n",
       "      <th>description</th>\n",
       "      <th>price</th>\n",
       "      <th>categories</th>\n",
       "      <th>year</th>\n",
       "      <th>month</th>\n",
       "      <th>weekday</th>\n",
       "    </tr>\n",
       "  </thead>\n",
       "  <tbody>\n",
       "    <tr>\n",
       "      <th>0</th>\n",
       "      <td>4</td>\n",
       "      <td>Four Stars</td>\n",
       "      <td>It was pretty good. Had some pretty comical sc...</td>\n",
       "      <td>B01KBKKU7G</td>\n",
       "      <td>B01KBKKU7G</td>\n",
       "      <td>2016-09-16 18:39:49.000</td>\n",
       "      <td>True</td>\n",
       "      <td>Prime Video</td>\n",
       "      <td>Seven Girlfriends</td>\n",
       "      <td>3.2</td>\n",
       "      <td>333.0</td>\n",
       "      <td>[\"Jesse  has never had a problem finding a gir...</td>\n",
       "      <td>12.99</td>\n",
       "      <td>Comedy</td>\n",
       "      <td>2016</td>\n",
       "      <td>9</td>\n",
       "      <td>Friday</td>\n",
       "    </tr>\n",
       "    <tr>\n",
       "      <th>1</th>\n",
       "      <td>3</td>\n",
       "      <td>Ok love story</td>\n",
       "      <td>A bit slow and an unsatisfying ending</td>\n",
       "      <td>B01M0S0C8M</td>\n",
       "      <td>B01M0S0C8M</td>\n",
       "      <td>2016-11-08 22:14:17.000</td>\n",
       "      <td>True</td>\n",
       "      <td>Prime Video</td>\n",
       "      <td>Still Mine</td>\n",
       "      <td>4.6</td>\n",
       "      <td>4744.0</td>\n",
       "      <td>[\"James Cromwell gives a tour de force perform...</td>\n",
       "      <td>9.99</td>\n",
       "      <td>Drama</td>\n",
       "      <td>2016</td>\n",
       "      <td>11</td>\n",
       "      <td>Tuesday</td>\n",
       "    </tr>\n",
       "    <tr>\n",
       "      <th>2</th>\n",
       "      <td>1</td>\n",
       "      <td>TRASH</td>\n",
       "      <td>A movie based solely on INCEST. Storyline is g...</td>\n",
       "      <td>B00G2TAAVM</td>\n",
       "      <td>B00G2TAAVM</td>\n",
       "      <td>2022-08-22 20:06:25.847</td>\n",
       "      <td>True</td>\n",
       "      <td>Prime Video</td>\n",
       "      <td>How I Live Now</td>\n",
       "      <td>4.3</td>\n",
       "      <td>907.0</td>\n",
       "      <td>['Set in the near-future UK, Saoirse Ronan pla...</td>\n",
       "      <td>12.99</td>\n",
       "      <td>International</td>\n",
       "      <td>2022</td>\n",
       "      <td>8</td>\n",
       "      <td>Monday</td>\n",
       "    </tr>\n",
       "    <tr>\n",
       "      <th>3</th>\n",
       "      <td>5</td>\n",
       "      <td>Five Stars</td>\n",
       "      <td>Excellent!!!</td>\n",
       "      <td>B018HJ03UC</td>\n",
       "      <td>B018HJ03UC</td>\n",
       "      <td>2016-01-25 18:47:06.000</td>\n",
       "      <td>True</td>\n",
       "      <td>Prime Video</td>\n",
       "      <td>The Martian</td>\n",
       "      <td>4.8</td>\n",
       "      <td>45859.0</td>\n",
       "      <td>['From legendary director Ridley Scott (Alien,...</td>\n",
       "      <td>4.99</td>\n",
       "      <td>Science Fiction</td>\n",
       "      <td>2016</td>\n",
       "      <td>1</td>\n",
       "      <td>Monday</td>\n",
       "    </tr>\n",
       "    <tr>\n",
       "      <th>4</th>\n",
       "      <td>2</td>\n",
       "      <td>Not what it used to be</td>\n",
       "      <td>This used to be a favorite of mine but I just ...</td>\n",
       "      <td>B07FLP19K1</td>\n",
       "      <td>B07FLP19K1</td>\n",
       "      <td>2018-12-03 16:52:02.089</td>\n",
       "      <td>True</td>\n",
       "      <td>Prime Video</td>\n",
       "      <td>On The Case with Paula Zahn</td>\n",
       "      <td>4.6</td>\n",
       "      <td>141.0</td>\n",
       "      <td>['On The Case with Paula Zahn takes viewers on...</td>\n",
       "      <td>22.99</td>\n",
       "      <td>Suspense</td>\n",
       "      <td>2018</td>\n",
       "      <td>12</td>\n",
       "      <td>Monday</td>\n",
       "    </tr>\n",
       "  </tbody>\n",
       "</table>\n",
       "</div>"
      ],
      "text/plain": [
       "   rating                 title_x  \\\n",
       "0       4              Four Stars   \n",
       "1       3           Ok love story   \n",
       "2       1                   TRASH   \n",
       "3       5              Five Stars   \n",
       "4       2  Not what it used to be   \n",
       "\n",
       "                                                text        asin parent_asin  \\\n",
       "0  It was pretty good. Had some pretty comical sc...  B01KBKKU7G  B01KBKKU7G   \n",
       "1              A bit slow and an unsatisfying ending  B01M0S0C8M  B01M0S0C8M   \n",
       "2  A movie based solely on INCEST. Storyline is g...  B00G2TAAVM  B00G2TAAVM   \n",
       "3                                       Excellent!!!  B018HJ03UC  B018HJ03UC   \n",
       "4  This used to be a favorite of mine but I just ...  B07FLP19K1  B07FLP19K1   \n",
       "\n",
       "                 timestamp  verified_purchase main_category  \\\n",
       "0  2016-09-16 18:39:49.000               True   Prime Video   \n",
       "1  2016-11-08 22:14:17.000               True   Prime Video   \n",
       "2  2022-08-22 20:06:25.847               True   Prime Video   \n",
       "3  2016-01-25 18:47:06.000               True   Prime Video   \n",
       "4  2018-12-03 16:52:02.089               True   Prime Video   \n",
       "\n",
       "                       title_y  average_rating  rating_number  \\\n",
       "0            Seven Girlfriends             3.2          333.0   \n",
       "1                   Still Mine             4.6         4744.0   \n",
       "2               How I Live Now             4.3          907.0   \n",
       "3                  The Martian             4.8        45859.0   \n",
       "4  On The Case with Paula Zahn             4.6          141.0   \n",
       "\n",
       "                                         description  price       categories  \\\n",
       "0  [\"Jesse  has never had a problem finding a gir...  12.99           Comedy   \n",
       "1  [\"James Cromwell gives a tour de force perform...   9.99            Drama   \n",
       "2  ['Set in the near-future UK, Saoirse Ronan pla...  12.99    International   \n",
       "3  ['From legendary director Ridley Scott (Alien,...   4.99  Science Fiction   \n",
       "4  ['On The Case with Paula Zahn takes viewers on...  22.99         Suspense   \n",
       "\n",
       "   year  month  weekday  \n",
       "0  2016      9   Friday  \n",
       "1  2016     11  Tuesday  \n",
       "2  2022      8   Monday  \n",
       "3  2016      1   Monday  \n",
       "4  2018     12   Monday  "
      ]
     },
     "execution_count": 58,
     "metadata": {},
     "output_type": "execute_result"
    }
   ],
   "source": [
    "p_c_movies.head()"
   ]
  },
  {
   "cell_type": "code",
   "execution_count": null,
   "id": "bc1ad8b0",
   "metadata": {},
   "outputs": [],
   "source": [
    "p_c_movies['timestamp'] = pd.to_datetime(p_movies['timestamp'], errors='coerce')"
   ]
  },
  {
   "cell_type": "code",
   "execution_count": 61,
   "id": "296d24dd",
   "metadata": {},
   "outputs": [
    {
     "data": {
      "application/vnd.microsoft.datawrangler.viewer.v0+json": {
       "columns": [
        {
         "name": "index",
         "rawType": "int64",
         "type": "integer"
        },
        {
         "name": "rating",
         "rawType": "int64",
         "type": "integer"
        },
        {
         "name": "title_x",
         "rawType": "object",
         "type": "string"
        },
        {
         "name": "text",
         "rawType": "object",
         "type": "string"
        },
        {
         "name": "asin",
         "rawType": "object",
         "type": "string"
        },
        {
         "name": "parent_asin",
         "rawType": "object",
         "type": "string"
        },
        {
         "name": "timestamp",
         "rawType": "datetime64[ns]",
         "type": "datetime"
        },
        {
         "name": "verified_purchase",
         "rawType": "bool",
         "type": "boolean"
        },
        {
         "name": "main_category",
         "rawType": "object",
         "type": "string"
        },
        {
         "name": "title_y",
         "rawType": "object",
         "type": "string"
        },
        {
         "name": "average_rating",
         "rawType": "float64",
         "type": "float"
        },
        {
         "name": "rating_number",
         "rawType": "float64",
         "type": "float"
        },
        {
         "name": "description",
         "rawType": "object",
         "type": "string"
        },
        {
         "name": "price",
         "rawType": "float64",
         "type": "float"
        },
        {
         "name": "categories",
         "rawType": "object",
         "type": "string"
        },
        {
         "name": "year",
         "rawType": "int64",
         "type": "integer"
        },
        {
         "name": "month",
         "rawType": "int64",
         "type": "integer"
        },
        {
         "name": "weekday",
         "rawType": "object",
         "type": "string"
        }
       ],
       "conversionMethod": "pd.DataFrame",
       "ref": "1c7a3994-bb80-4c98-a378-2a0edbf2c9f7",
       "rows": [
        [
         "0",
         "4",
         "Four Stars",
         "It was pretty good. Had some pretty comical scenes throughout. A great chick flick.",
         "B01KBKKU7G",
         "B01KBKKU7G",
         "2016-09-16 18:39:49",
         "True",
         "Prime Video",
         "Seven Girlfriends",
         "3.2",
         "333.0",
         "[\"Jesse  has never had a problem finding a girlfriend. It's maintaining the relationship that's his issue. When an ex-girlfriend of his dies, Jesse impulsively asks his most recent fling, Hannah, to marry him -- a proposal she quickly turns down. Left confused by the rejection and his dating history, Jesse decides to seek out his former loves for answers on why the relationships ended.\"]",
         "12.99",
         "Comedy",
         "2016",
         "9",
         "Friday"
        ],
        [
         "1",
         "3",
         "Ok love story",
         "A bit slow and an unsatisfying ending",
         "B01M0S0C8M",
         "B01M0S0C8M",
         "2016-11-08 22:14:17",
         "True",
         "Prime Video",
         "Still Mine",
         "4.6",
         "4744.0",
         "[\"James Cromwell gives a tour de force performance in 'Still Mine,' a deeply moving love story about a couple in their twilight years. When Craig sets out to build a more suitable house for his ailing wife Irene, he is blindsided by the bureaucratic codes and officials. As Irene becomes increasingly ill, Craig takes a final stance against all odds to finish the house, in a truly inspirational story.\"]",
         "9.99",
         "Drama",
         "2016",
         "11",
         "Tuesday"
        ],
        [
         "2",
         "1",
         "TRASH",
         "A movie based solely on INCEST. Storyline is garbage and the actors were terrible.",
         "B00G2TAAVM",
         "B00G2TAAVM",
         "2022-08-22 20:06:25.847000",
         "True",
         "Prime Video",
         "How I Live Now",
         "4.3",
         "907.0",
         "['Set in the near-future UK, Saoirse Ronan plays Daisy, an American teenager sent to stay with relatives in the English countryside. Initially withdrawn and alienated, she begins to warm up to her charming surroundings and strikes up a romance with the handsome Edmund (George MacKay). But on the fringes of their idyllic summer days are tense news reports of an escalating conflict in Europe. As the UK falls into a violent, chaotic military state, Daisy finds herself hiding and fighting to survive.']",
         "12.99",
         "International",
         "2022",
         "8",
         "Monday"
        ],
        [
         "3",
         "5",
         "Five Stars",
         "Excellent!!!",
         "B018HJ03UC",
         "B018HJ03UC",
         "2016-01-25 18:47:06",
         "True",
         "Prime Video",
         "The Martian",
         "4.8",
         "45859.0",
         "['From legendary director Ridley Scott (Alien, Prometheus) comes a gripping tale of human strength and the will to survive, starring Matt Damon as an astronaut stranded on Mars.']",
         "4.99",
         "Science Fiction",
         "2016",
         "1",
         "Monday"
        ],
        [
         "4",
         "2",
         "Not what it used to be",
         "This used to be a favorite of mine but I just don’t enjoy it anymore. The way Zahn leads the interviewees in some of the questions is hard to watch. It feels too edited and it feels like it is dumbed down or something. She’ll ask the investigators questions that there could only be one answer to the question and they are usually questions that don’t add anything to the story line. It feels as if this series has run its course, it no longer is different enough or fresh enough to keep people intrigued.",
         "B07FLP19K1",
         "B07FLP19K1",
         "2018-12-03 16:52:02.089000",
         "True",
         "Prime Video",
         "On The Case with Paula Zahn",
         "4.6",
         "141.0",
         "['On The Case with Paula Zahn takes viewers on an exciting journey inside the most fascinating crime and mystery investigations. First person accounts, along with insight from experts are featured as each case reaches its dramatic conclusion.']",
         "22.99",
         "Suspense",
         "2018",
         "12",
         "Monday"
        ]
       ],
       "shape": {
        "columns": 17,
        "rows": 5
       }
      },
      "text/html": [
       "<div>\n",
       "<style scoped>\n",
       "    .dataframe tbody tr th:only-of-type {\n",
       "        vertical-align: middle;\n",
       "    }\n",
       "\n",
       "    .dataframe tbody tr th {\n",
       "        vertical-align: top;\n",
       "    }\n",
       "\n",
       "    .dataframe thead th {\n",
       "        text-align: right;\n",
       "    }\n",
       "</style>\n",
       "<table border=\"1\" class=\"dataframe\">\n",
       "  <thead>\n",
       "    <tr style=\"text-align: right;\">\n",
       "      <th></th>\n",
       "      <th>rating</th>\n",
       "      <th>title_x</th>\n",
       "      <th>text</th>\n",
       "      <th>asin</th>\n",
       "      <th>parent_asin</th>\n",
       "      <th>timestamp</th>\n",
       "      <th>verified_purchase</th>\n",
       "      <th>main_category</th>\n",
       "      <th>title_y</th>\n",
       "      <th>average_rating</th>\n",
       "      <th>rating_number</th>\n",
       "      <th>description</th>\n",
       "      <th>price</th>\n",
       "      <th>categories</th>\n",
       "      <th>year</th>\n",
       "      <th>month</th>\n",
       "      <th>weekday</th>\n",
       "    </tr>\n",
       "  </thead>\n",
       "  <tbody>\n",
       "    <tr>\n",
       "      <th>0</th>\n",
       "      <td>4</td>\n",
       "      <td>Four Stars</td>\n",
       "      <td>It was pretty good. Had some pretty comical sc...</td>\n",
       "      <td>B01KBKKU7G</td>\n",
       "      <td>B01KBKKU7G</td>\n",
       "      <td>2016-09-16 18:39:49.000</td>\n",
       "      <td>True</td>\n",
       "      <td>Prime Video</td>\n",
       "      <td>Seven Girlfriends</td>\n",
       "      <td>3.2</td>\n",
       "      <td>333.0</td>\n",
       "      <td>[\"Jesse  has never had a problem finding a gir...</td>\n",
       "      <td>12.99</td>\n",
       "      <td>Comedy</td>\n",
       "      <td>2016</td>\n",
       "      <td>9</td>\n",
       "      <td>Friday</td>\n",
       "    </tr>\n",
       "    <tr>\n",
       "      <th>1</th>\n",
       "      <td>3</td>\n",
       "      <td>Ok love story</td>\n",
       "      <td>A bit slow and an unsatisfying ending</td>\n",
       "      <td>B01M0S0C8M</td>\n",
       "      <td>B01M0S0C8M</td>\n",
       "      <td>2016-11-08 22:14:17.000</td>\n",
       "      <td>True</td>\n",
       "      <td>Prime Video</td>\n",
       "      <td>Still Mine</td>\n",
       "      <td>4.6</td>\n",
       "      <td>4744.0</td>\n",
       "      <td>[\"James Cromwell gives a tour de force perform...</td>\n",
       "      <td>9.99</td>\n",
       "      <td>Drama</td>\n",
       "      <td>2016</td>\n",
       "      <td>11</td>\n",
       "      <td>Tuesday</td>\n",
       "    </tr>\n",
       "    <tr>\n",
       "      <th>2</th>\n",
       "      <td>1</td>\n",
       "      <td>TRASH</td>\n",
       "      <td>A movie based solely on INCEST. Storyline is g...</td>\n",
       "      <td>B00G2TAAVM</td>\n",
       "      <td>B00G2TAAVM</td>\n",
       "      <td>2022-08-22 20:06:25.847</td>\n",
       "      <td>True</td>\n",
       "      <td>Prime Video</td>\n",
       "      <td>How I Live Now</td>\n",
       "      <td>4.3</td>\n",
       "      <td>907.0</td>\n",
       "      <td>['Set in the near-future UK, Saoirse Ronan pla...</td>\n",
       "      <td>12.99</td>\n",
       "      <td>International</td>\n",
       "      <td>2022</td>\n",
       "      <td>8</td>\n",
       "      <td>Monday</td>\n",
       "    </tr>\n",
       "    <tr>\n",
       "      <th>3</th>\n",
       "      <td>5</td>\n",
       "      <td>Five Stars</td>\n",
       "      <td>Excellent!!!</td>\n",
       "      <td>B018HJ03UC</td>\n",
       "      <td>B018HJ03UC</td>\n",
       "      <td>2016-01-25 18:47:06.000</td>\n",
       "      <td>True</td>\n",
       "      <td>Prime Video</td>\n",
       "      <td>The Martian</td>\n",
       "      <td>4.8</td>\n",
       "      <td>45859.0</td>\n",
       "      <td>['From legendary director Ridley Scott (Alien,...</td>\n",
       "      <td>4.99</td>\n",
       "      <td>Science Fiction</td>\n",
       "      <td>2016</td>\n",
       "      <td>1</td>\n",
       "      <td>Monday</td>\n",
       "    </tr>\n",
       "    <tr>\n",
       "      <th>4</th>\n",
       "      <td>2</td>\n",
       "      <td>Not what it used to be</td>\n",
       "      <td>This used to be a favorite of mine but I just ...</td>\n",
       "      <td>B07FLP19K1</td>\n",
       "      <td>B07FLP19K1</td>\n",
       "      <td>2018-12-03 16:52:02.089</td>\n",
       "      <td>True</td>\n",
       "      <td>Prime Video</td>\n",
       "      <td>On The Case with Paula Zahn</td>\n",
       "      <td>4.6</td>\n",
       "      <td>141.0</td>\n",
       "      <td>['On The Case with Paula Zahn takes viewers on...</td>\n",
       "      <td>22.99</td>\n",
       "      <td>Suspense</td>\n",
       "      <td>2018</td>\n",
       "      <td>12</td>\n",
       "      <td>Monday</td>\n",
       "    </tr>\n",
       "  </tbody>\n",
       "</table>\n",
       "</div>"
      ],
      "text/plain": [
       "   rating                 title_x  \\\n",
       "0       4              Four Stars   \n",
       "1       3           Ok love story   \n",
       "2       1                   TRASH   \n",
       "3       5              Five Stars   \n",
       "4       2  Not what it used to be   \n",
       "\n",
       "                                                text        asin parent_asin  \\\n",
       "0  It was pretty good. Had some pretty comical sc...  B01KBKKU7G  B01KBKKU7G   \n",
       "1              A bit slow and an unsatisfying ending  B01M0S0C8M  B01M0S0C8M   \n",
       "2  A movie based solely on INCEST. Storyline is g...  B00G2TAAVM  B00G2TAAVM   \n",
       "3                                       Excellent!!!  B018HJ03UC  B018HJ03UC   \n",
       "4  This used to be a favorite of mine but I just ...  B07FLP19K1  B07FLP19K1   \n",
       "\n",
       "                timestamp  verified_purchase main_category  \\\n",
       "0 2016-09-16 18:39:49.000               True   Prime Video   \n",
       "1 2016-11-08 22:14:17.000               True   Prime Video   \n",
       "2 2022-08-22 20:06:25.847               True   Prime Video   \n",
       "3 2016-01-25 18:47:06.000               True   Prime Video   \n",
       "4 2018-12-03 16:52:02.089               True   Prime Video   \n",
       "\n",
       "                       title_y  average_rating  rating_number  \\\n",
       "0            Seven Girlfriends             3.2          333.0   \n",
       "1                   Still Mine             4.6         4744.0   \n",
       "2               How I Live Now             4.3          907.0   \n",
       "3                  The Martian             4.8        45859.0   \n",
       "4  On The Case with Paula Zahn             4.6          141.0   \n",
       "\n",
       "                                         description  price       categories  \\\n",
       "0  [\"Jesse  has never had a problem finding a gir...  12.99           Comedy   \n",
       "1  [\"James Cromwell gives a tour de force perform...   9.99            Drama   \n",
       "2  ['Set in the near-future UK, Saoirse Ronan pla...  12.99    International   \n",
       "3  ['From legendary director Ridley Scott (Alien,...   4.99  Science Fiction   \n",
       "4  ['On The Case with Paula Zahn takes viewers on...  22.99         Suspense   \n",
       "\n",
       "   year  month  weekday  \n",
       "0  2016      9   Friday  \n",
       "1  2016     11  Tuesday  \n",
       "2  2022      8   Monday  \n",
       "3  2016      1   Monday  \n",
       "4  2018     12   Monday  "
      ]
     },
     "execution_count": 61,
     "metadata": {},
     "output_type": "execute_result"
    }
   ],
   "source": [
    "p_c_movies.head()"
   ]
  },
  {
   "cell_type": "code",
   "execution_count": 62,
   "id": "d2c3c24a",
   "metadata": {},
   "outputs": [],
   "source": [
    "p_movies['year'] = p_movies['timestamp'].dt.year"
   ]
  },
  {
   "cell_type": "code",
   "execution_count": 64,
   "id": "76c803f8",
   "metadata": {},
   "outputs": [
    {
     "data": {
      "image/png": "[encoded data removed]",
      "text/plain": [
       "<Figure size 1000x500 with 1 Axes>"
      ]
     },
     "metadata": {},
     "output_type": "display_data"
    }
   ],
   "source": [
    "reviews_per_year = p_movies.groupby('year').size()\n",
    "\n",
    "plt.figure(figsize=(10,5))\n",
    "reviews_per_year.plot(marker='o', linestyle='-')\n",
    "plt.title('Number of Reviews Over Time')\n",
    "plt.xlabel('Year')\n",
    "plt.ylabel('Review Count')\n",
    "plt.grid()\n",
    "plt.show()"
   ]
  },
  {
   "cell_type": "code",
   "execution_count": 66,
   "id": "7765ec22",
   "metadata": {},
   "outputs": [
    {
     "name": "stdout",
     "output_type": "stream",
     "text": [
      "[4 3 1 5 2]\n"
     ]
    }
   ],
   "source": [
    "print(p_c_movies['rating'].unique())"
   ]
  },
  {
   "cell_type": "code",
   "execution_count": 68,
   "id": "dfb87e39",
   "metadata": {},
   "outputs": [],
   "source": [
    "rating_map = {\n",
    "    'One Star': 1, 'Two Stars': 2, 'Three Stars': 3,\n",
    "    'Four Stars': 4, 'Five Stars': 5\n",
    "}\n",
    "p_c_movies['rating'] = p_c_movies['rating'].replace(rating_map).astype(float)\n"
   ]
  },
  {
   "cell_type": "code",
   "execution_count": 69,
   "id": "aa7370a4",
   "metadata": {},
   "outputs": [
    {
     "data": {
      "image/png": "[encoded data removed]",
      "text/plain": [
       "<Figure size 800x600 with 2 Axes>"
      ]
     },
     "metadata": {},
     "output_type": "display_data"
    }
   ],
   "source": [
    "numeric_df = p_c_movies.select_dtypes(include=['number'])  # Keep only numeric columns\n",
    "\n",
    "plt.figure(figsize=(8,6))\n",
    "sns.heatmap(numeric_df.corr(), annot=True, cmap='coolwarm', linewidths=0.5)\n",
    "plt.title('Correlation Heatmap')\n",
    "plt.show()"
   ]
  },
  {
   "cell_type": "code",
   "execution_count": null,
   "id": "8c6c5da0",
   "metadata": {},
   "outputs": [],
   "source": []
  }
 ],
 "metadata": {
  "kernelspec": {
   "display_name": "myenv",
   "language": "python",
   "name": "python3"
  },
  "language_info": {
   "codemirror_mode": {
    "name": "ipython",
    "version": 3
   },
   "file_extension": ".py",
   "mimetype": "text/x-python",
   "name": "python",
   "nbconvert_exporter": "python",
   "pygments_lexer": "ipython3",
   "version": "3.9.21"
  }
 },
 "nbformat": 4,
 "nbformat_minor": 5
}
