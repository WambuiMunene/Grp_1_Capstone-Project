{
<<<<<<< HEAD
 "cells": [],
 "metadata": {
  "kernelspec": {
   "display_name": "myenv",
=======
 "cells": [
  {
   "cell_type": "markdown",
   "id": "7872b2d1",
   "metadata": {},
   "source": [
    "### Capstone Project"
   ]
  },
  {
   "cell_type": "code",
   "execution_count": null,
   "id": "72bcc782",
   "metadata": {},
   "outputs": [],
   "source": []
  }
 ],
 "metadata": {
  "kernelspec": {
   "display_name": "learn-env",
>>>>>>> f653f1c287ccda5fdde78e1a736f2c06e803ee00
   "language": "python",
   "name": "python3"
  },
  "language_info": {
<<<<<<< HEAD
   "name": "python",
   "version": "3.9.21"
=======
   "codemirror_mode": {
    "name": "ipython",
    "version": 3
   },
   "file_extension": ".py",
   "mimetype": "text/x-python",
   "name": "python",
   "nbconvert_exporter": "python",
   "pygments_lexer": "ipython3",
   "version": "3.8.5"
>>>>>>> f653f1c287ccda5fdde78e1a736f2c06e803ee00
  }
 },
 "nbformat": 4,
 "nbformat_minor": 5
}
